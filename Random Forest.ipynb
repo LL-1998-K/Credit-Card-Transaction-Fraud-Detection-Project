{
 "cells": [
  {
   "cell_type": "code",
   "execution_count": 1,
   "metadata": {
    "id": "WKUlswIBdC86"
   },
   "outputs": [],
   "source": [
    "import pandas as pd\n",
    "import numpy as np\n",
    "import datetime as dt\n",
    "from sklearn.model_selection import train_test_split\n",
    "from sklearn.preprocessing import StandardScaler\n",
    "from sklearn.ensemble import RandomForestClassifier"
   ]
  },
  {
   "cell_type": "code",
   "execution_count": 2,
   "metadata": {
    "id": "IJ5GVeI1df9f"
   },
   "outputs": [],
   "source": [
    "mydata=pd.read_csv('top30.csv',index_col = 0)"
   ]
  },
  {
   "cell_type": "code",
   "execution_count": 3,
   "metadata": {},
   "outputs": [],
   "source": [
    "test_train = mydata[(mydata['Date']>'2010-01-14')&(mydata['Date']<'2010-09-01')].drop(columns =['Date'])\n",
    "oot = mydata[mydata['Date']>='2010-09-01'].drop(columns =['Date'])"
   ]
  },
  {
   "cell_type": "code",
   "execution_count": 4,
   "metadata": {},
   "outputs": [],
   "source": [
    "X= test_train.drop(['Fraud'],axis=1)\n",
    "y = test_train['Fraud']\n",
    "oot_x=oot.drop(['Fraud'],axis=1)\n",
    "oot_y=oot['Fraud']"
   ]
  },
  {
   "cell_type": "code",
   "execution_count": 5,
   "metadata": {},
   "outputs": [],
   "source": [
    "def get_result(X_train,y_train,model):\n",
    "    \n",
    "    result = pd.DataFrame({'predicted':model.predict_proba(X_train)[:,1],'Fraud':y_train})\n",
    "    topRows = int(round(len(y_train)*0.03))\n",
    "    temp = result.sort_values('predicted',ascending=False).head(topRows)\n",
    "    needed=temp.loc[:,'Fraud']\n",
    "    temp2 = result.sort_values('predicted',ascending=True).head(topRows)\n",
    "    needed2=temp2.loc[:,'Fraud']\n",
    "\n",
    "    return max(sum(needed),sum(needed2))/sum(y_train)\n",
    "    "
   ]
  },
  {
   "cell_type": "markdown",
   "metadata": {
    "id": "pJgSMvt3Gmq0"
   },
   "source": [
    "## Methods"
   ]
  },
  {
   "cell_type": "code",
   "execution_count": 6,
   "metadata": {},
   "outputs": [
    {
     "name": "stdout",
     "output_type": "stream",
     "text": [
      "100 5 20 trn    1.000000\n",
      "tst    0.985824\n",
      "oot    0.725843\n",
      "dtype: float64\n",
      "100 5 30 trn    1.000000\n",
      "tst    0.979617\n",
      "oot    0.757865\n",
      "dtype: float64\n",
      "100 10 20 trn    1.000000\n",
      "tst    0.988715\n",
      "oot    0.789888\n",
      "dtype: float64\n",
      "100 10 30 trn    1.000000\n",
      "tst    0.988407\n",
      "oot    0.747753\n",
      "dtype: float64\n",
      "150 5 20 trn    1.000000\n",
      "tst    0.985635\n",
      "oot    0.733708\n",
      "dtype: float64\n",
      "150 5 30 trn    1.000000\n",
      "tst    0.985296\n",
      "oot    0.747753\n",
      "dtype: float64\n",
      "150 10 20 trn    1.000000\n",
      "tst    0.981620\n",
      "oot    0.730618\n",
      "dtype: float64\n",
      "150 10 30 trn    1.000000\n",
      "tst    0.985190\n",
      "oot    0.754494\n",
      "dtype: float64\n",
      "200 5 20 trn    1.000000\n",
      "tst    0.983895\n",
      "oot    0.727247\n",
      "dtype: float64\n",
      "200 5 30 trn    1.000000\n",
      "tst    0.986524\n",
      "oot    0.796067\n",
      "dtype: float64\n",
      "200 10 20 trn    1.000000\n",
      "tst    0.983313\n",
      "oot    0.780618\n",
      "dtype: float64\n",
      "200 10 30 trn    1.00000\n",
      "tst    0.98765\n",
      "oot    0.76573\n",
      "dtype: float64\n"
     ]
    }
   ],
   "source": [
    "n_estimators = [100,150,200]\n",
    "n_jobs = [5,10]\n",
    "max_depth = [20,30]\n",
    "# max_features =[5,10,20,30]\n",
    "# min_samples_split =[2,3,4,5]\n",
    "# min_samples_leaf = [1,2,3,4]\n",
    "result = []\n",
    "for n in n_estimators:\n",
    "    for nj in n_jobs:\n",
    "        for m in max_depth:\n",
    "\n",
    "            FDR3 = pd.DataFrame()\n",
    "            for i in range(10):\n",
    "                X_train, X_test, y_train, y_test = train_test_split(X, y, test_size = 0.40)\n",
    "                scaler = StandardScaler()\n",
    "\n",
    "                X_train_z = scaler.fit_transform(X_train)\n",
    "                X_test_z = scaler.transform(X_test)\n",
    "                oot_x_z = scaler.transform(oot_x)\n",
    "                model = RandomForestClassifier(n_estimators=n,n_jobs =nj,max_depth=m)\n",
    "                model.fit(X_train_z,y_train)\n",
    "\n",
    "                FDR3.loc[i,'trn']=get_result(X_train_z,y_train,model)\n",
    "                FDR3.loc[i,'tst']=get_result(X_test_z,y_test,model)\n",
    "                FDR3.loc[i,'oot']=get_result(oot_x_z,oot_y,model)\n",
    "            print(n,nj,m,FDR3.mean())\n",
    "            result.append([n,nj,m,FDR3.mean()])\n"
   ]
  },
  {
   "cell_type": "code",
   "execution_count": 30,
   "metadata": {},
   "outputs": [],
   "source": [
    "scaled = pd.DataFrame(columns = ['n_estimators','n_jobs','max_depths','3%FDR'],data=result)\n",
    "scaled['Train'] =scaled['3%FDR'].apply(lambda x: x['trn'])\n",
    "scaled['Test'] =scaled['3%FDR'].apply(lambda x: x['tst'])\n",
    "scaled['oot'] =scaled['3%FDR'].apply(lambda x: x['oot'])\n",
    "scaled.drop('3%FDR',axis = 1,inplace = True)"
   ]
  },
  {
   "cell_type": "code",
   "execution_count": 32,
   "metadata": {},
   "outputs": [
    {
     "data": {
      "text/html": [
       "<div>\n",
       "<style scoped>\n",
       "    .dataframe tbody tr th:only-of-type {\n",
       "        vertical-align: middle;\n",
       "    }\n",
       "\n",
       "    .dataframe tbody tr th {\n",
       "        vertical-align: top;\n",
       "    }\n",
       "\n",
       "    .dataframe thead th {\n",
       "        text-align: right;\n",
       "    }\n",
       "</style>\n",
       "<table border=\"1\" class=\"dataframe\">\n",
       "  <thead>\n",
       "    <tr style=\"text-align: right;\">\n",
       "      <th></th>\n",
       "      <th>n_estimators</th>\n",
       "      <th>n_jobs</th>\n",
       "      <th>max_depths</th>\n",
       "      <th>Train</th>\n",
       "      <th>Test</th>\n",
       "      <th>oot</th>\n",
       "    </tr>\n",
       "  </thead>\n",
       "  <tbody>\n",
       "    <tr>\n",
       "      <th>0</th>\n",
       "      <td>100</td>\n",
       "      <td>5</td>\n",
       "      <td>20</td>\n",
       "      <td>1.0</td>\n",
       "      <td>0.985824</td>\n",
       "      <td>0.725843</td>\n",
       "    </tr>\n",
       "    <tr>\n",
       "      <th>1</th>\n",
       "      <td>100</td>\n",
       "      <td>5</td>\n",
       "      <td>30</td>\n",
       "      <td>1.0</td>\n",
       "      <td>0.979617</td>\n",
       "      <td>0.757865</td>\n",
       "    </tr>\n",
       "    <tr>\n",
       "      <th>2</th>\n",
       "      <td>100</td>\n",
       "      <td>10</td>\n",
       "      <td>20</td>\n",
       "      <td>1.0</td>\n",
       "      <td>0.988715</td>\n",
       "      <td>0.789888</td>\n",
       "    </tr>\n",
       "    <tr>\n",
       "      <th>3</th>\n",
       "      <td>100</td>\n",
       "      <td>10</td>\n",
       "      <td>30</td>\n",
       "      <td>1.0</td>\n",
       "      <td>0.988407</td>\n",
       "      <td>0.747753</td>\n",
       "    </tr>\n",
       "    <tr>\n",
       "      <th>4</th>\n",
       "      <td>150</td>\n",
       "      <td>5</td>\n",
       "      <td>20</td>\n",
       "      <td>1.0</td>\n",
       "      <td>0.985635</td>\n",
       "      <td>0.733708</td>\n",
       "    </tr>\n",
       "    <tr>\n",
       "      <th>5</th>\n",
       "      <td>150</td>\n",
       "      <td>5</td>\n",
       "      <td>30</td>\n",
       "      <td>1.0</td>\n",
       "      <td>0.985296</td>\n",
       "      <td>0.747753</td>\n",
       "    </tr>\n",
       "    <tr>\n",
       "      <th>6</th>\n",
       "      <td>150</td>\n",
       "      <td>10</td>\n",
       "      <td>20</td>\n",
       "      <td>1.0</td>\n",
       "      <td>0.981620</td>\n",
       "      <td>0.730618</td>\n",
       "    </tr>\n",
       "    <tr>\n",
       "      <th>7</th>\n",
       "      <td>150</td>\n",
       "      <td>10</td>\n",
       "      <td>30</td>\n",
       "      <td>1.0</td>\n",
       "      <td>0.985190</td>\n",
       "      <td>0.754494</td>\n",
       "    </tr>\n",
       "    <tr>\n",
       "      <th>8</th>\n",
       "      <td>200</td>\n",
       "      <td>5</td>\n",
       "      <td>20</td>\n",
       "      <td>1.0</td>\n",
       "      <td>0.983895</td>\n",
       "      <td>0.727247</td>\n",
       "    </tr>\n",
       "    <tr>\n",
       "      <th>9</th>\n",
       "      <td>200</td>\n",
       "      <td>5</td>\n",
       "      <td>30</td>\n",
       "      <td>1.0</td>\n",
       "      <td>0.986524</td>\n",
       "      <td>0.796067</td>\n",
       "    </tr>\n",
       "    <tr>\n",
       "      <th>10</th>\n",
       "      <td>200</td>\n",
       "      <td>10</td>\n",
       "      <td>20</td>\n",
       "      <td>1.0</td>\n",
       "      <td>0.983313</td>\n",
       "      <td>0.780618</td>\n",
       "    </tr>\n",
       "    <tr>\n",
       "      <th>11</th>\n",
       "      <td>200</td>\n",
       "      <td>10</td>\n",
       "      <td>30</td>\n",
       "      <td>1.0</td>\n",
       "      <td>0.987650</td>\n",
       "      <td>0.765730</td>\n",
       "    </tr>\n",
       "  </tbody>\n",
       "</table>\n",
       "</div>"
      ],
      "text/plain": [
       "    n_estimators  n_jobs  max_depths  Train      Test       oot\n",
       "0            100       5          20    1.0  0.985824  0.725843\n",
       "1            100       5          30    1.0  0.979617  0.757865\n",
       "2            100      10          20    1.0  0.988715  0.789888\n",
       "3            100      10          30    1.0  0.988407  0.747753\n",
       "4            150       5          20    1.0  0.985635  0.733708\n",
       "5            150       5          30    1.0  0.985296  0.747753\n",
       "6            150      10          20    1.0  0.981620  0.730618\n",
       "7            150      10          30    1.0  0.985190  0.754494\n",
       "8            200       5          20    1.0  0.983895  0.727247\n",
       "9            200       5          30    1.0  0.986524  0.796067\n",
       "10           200      10          20    1.0  0.983313  0.780618\n",
       "11           200      10          30    1.0  0.987650  0.765730"
      ]
     },
     "execution_count": 32,
     "metadata": {},
     "output_type": "execute_result"
    }
   ],
   "source": [
    "scaled"
   ]
  },
  {
   "cell_type": "code",
   "execution_count": null,
   "metadata": {},
   "outputs": [],
   "source": []
  },
  {
   "cell_type": "code",
   "execution_count": null,
   "metadata": {},
   "outputs": [],
   "source": []
  }
 ],
 "metadata": {
  "colab": {
   "collapsed_sections": [],
   "name": "Project3 RandomForest.ipynb",
   "provenance": [],
   "toc_visible": true
  },
  "kernelspec": {
   "display_name": "Python 3",
   "language": "python",
   "name": "python3"
  },
  "language_info": {
   "codemirror_mode": {
    "name": "ipython",
    "version": 3
   },
   "file_extension": ".py",
   "mimetype": "text/x-python",
   "name": "python",
   "nbconvert_exporter": "python",
   "pygments_lexer": "ipython3",
   "version": "3.8.5"
  },
  "varInspector": {
   "cols": {
    "lenName": 16,
    "lenType": 16,
    "lenVar": 40
   },
   "kernels_config": {
    "python": {
     "delete_cmd_postfix": "",
     "delete_cmd_prefix": "del ",
     "library": "var_list.py",
     "varRefreshCmd": "print(var_dic_list())"
    },
    "r": {
     "delete_cmd_postfix": ") ",
     "delete_cmd_prefix": "rm(",
     "library": "var_list.r",
     "varRefreshCmd": "cat(var_dic_list()) "
    }
   },
   "types_to_exclude": [
    "module",
    "function",
    "builtin_function_or_method",
    "instance",
    "_Feature"
   ],
   "window_display": false
  }
 },
 "nbformat": 4,
 "nbformat_minor": 1
}
