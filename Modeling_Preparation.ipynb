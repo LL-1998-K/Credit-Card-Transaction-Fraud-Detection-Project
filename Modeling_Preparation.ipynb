{
 "cells": [
  {
   "cell_type": "code",
   "execution_count": 1,
   "metadata": {
    "ExecuteTime": {
     "end_time": "2021-05-09T15:56:22.792078Z",
     "start_time": "2021-05-09T15:56:20.815976Z"
    },
    "id": "cR0UFgXMQcwk"
   },
   "outputs": [],
   "source": [
    "import pandas as pd\n",
    "import numpy as np\n",
    "import calendar\n",
    "from timeit import default_timer as timer\n",
    "import datetime as dt\n",
    "import scipy.stats as sps\n",
    "import matplotlib.pyplot as plt\n",
    "import seaborn as sns"
   ]
  },
  {
   "cell_type": "markdown",
   "metadata": {
    "id": "ZhjYgDxzNqSp"
   },
   "source": [
    "## Data Cleaning"
   ]
  },
  {
   "cell_type": "code",
   "execution_count": 2,
   "metadata": {
    "ExecuteTime": {
     "end_time": "2021-05-09T15:56:41.001709Z",
     "start_time": "2021-05-09T15:56:22.881830Z"
    },
    "id": "LLKV8913-VFa"
   },
   "outputs": [],
   "source": [
    "data=pd.read_excel('card transactions.xlsx')"
   ]
  },
  {
   "cell_type": "code",
   "execution_count": 3,
   "metadata": {
    "ExecuteTime": {
     "end_time": "2021-05-09T15:56:41.166770Z",
     "start_time": "2021-05-09T15:56:41.114910Z"
    }
   },
   "outputs": [
    {
     "data": {
      "text/html": [
       "<div>\n",
       "<style scoped>\n",
       "    .dataframe tbody tr th:only-of-type {\n",
       "        vertical-align: middle;\n",
       "    }\n",
       "\n",
       "    .dataframe tbody tr th {\n",
       "        vertical-align: top;\n",
       "    }\n",
       "\n",
       "    .dataframe thead th {\n",
       "        text-align: right;\n",
       "    }\n",
       "</style>\n",
       "<table border=\"1\" class=\"dataframe\">\n",
       "  <thead>\n",
       "    <tr style=\"text-align: right;\">\n",
       "      <th></th>\n",
       "      <th>Recnum</th>\n",
       "      <th>Cardnum</th>\n",
       "      <th>Date</th>\n",
       "      <th>Merchnum</th>\n",
       "      <th>Merch description</th>\n",
       "      <th>Merch state</th>\n",
       "      <th>Merch zip</th>\n",
       "      <th>Transtype</th>\n",
       "      <th>Amount</th>\n",
       "      <th>Fraud</th>\n",
       "    </tr>\n",
       "  </thead>\n",
       "  <tbody>\n",
       "    <tr>\n",
       "      <th>0</th>\n",
       "      <td>1</td>\n",
       "      <td>5142190439</td>\n",
       "      <td>2010-01-01</td>\n",
       "      <td>5509006296254</td>\n",
       "      <td>FEDEX SHP 12/23/09 AB#</td>\n",
       "      <td>TN</td>\n",
       "      <td>38118.0</td>\n",
       "      <td>P</td>\n",
       "      <td>3.62</td>\n",
       "      <td>0</td>\n",
       "    </tr>\n",
       "    <tr>\n",
       "      <th>1</th>\n",
       "      <td>2</td>\n",
       "      <td>5142183973</td>\n",
       "      <td>2010-01-01</td>\n",
       "      <td>61003026333</td>\n",
       "      <td>SERVICE MERCHANDISE #81</td>\n",
       "      <td>MA</td>\n",
       "      <td>1803.0</td>\n",
       "      <td>P</td>\n",
       "      <td>31.42</td>\n",
       "      <td>0</td>\n",
       "    </tr>\n",
       "    <tr>\n",
       "      <th>2</th>\n",
       "      <td>3</td>\n",
       "      <td>5142131721</td>\n",
       "      <td>2010-01-01</td>\n",
       "      <td>4503082993600</td>\n",
       "      <td>OFFICE DEPOT #191</td>\n",
       "      <td>MD</td>\n",
       "      <td>20706.0</td>\n",
       "      <td>P</td>\n",
       "      <td>178.49</td>\n",
       "      <td>0</td>\n",
       "    </tr>\n",
       "    <tr>\n",
       "      <th>3</th>\n",
       "      <td>4</td>\n",
       "      <td>5142148452</td>\n",
       "      <td>2010-01-01</td>\n",
       "      <td>5509006296254</td>\n",
       "      <td>FEDEX SHP 12/28/09 AB#</td>\n",
       "      <td>TN</td>\n",
       "      <td>38118.0</td>\n",
       "      <td>P</td>\n",
       "      <td>3.62</td>\n",
       "      <td>0</td>\n",
       "    </tr>\n",
       "    <tr>\n",
       "      <th>4</th>\n",
       "      <td>5</td>\n",
       "      <td>5142190439</td>\n",
       "      <td>2010-01-01</td>\n",
       "      <td>5509006296254</td>\n",
       "      <td>FEDEX SHP 12/23/09 AB#</td>\n",
       "      <td>TN</td>\n",
       "      <td>38118.0</td>\n",
       "      <td>P</td>\n",
       "      <td>3.62</td>\n",
       "      <td>0</td>\n",
       "    </tr>\n",
       "  </tbody>\n",
       "</table>\n",
       "</div>"
      ],
      "text/plain": [
       "   Recnum     Cardnum       Date       Merchnum        Merch description  \\\n",
       "0       1  5142190439 2010-01-01  5509006296254   FEDEX SHP 12/23/09 AB#   \n",
       "1       2  5142183973 2010-01-01    61003026333  SERVICE MERCHANDISE #81   \n",
       "2       3  5142131721 2010-01-01  4503082993600        OFFICE DEPOT #191   \n",
       "3       4  5142148452 2010-01-01  5509006296254   FEDEX SHP 12/28/09 AB#   \n",
       "4       5  5142190439 2010-01-01  5509006296254   FEDEX SHP 12/23/09 AB#   \n",
       "\n",
       "  Merch state  Merch zip Transtype  Amount  Fraud  \n",
       "0          TN    38118.0         P    3.62      0  \n",
       "1          MA     1803.0         P   31.42      0  \n",
       "2          MD    20706.0         P  178.49      0  \n",
       "3          TN    38118.0         P    3.62      0  \n",
       "4          TN    38118.0         P    3.62      0  "
      ]
     },
     "execution_count": 3,
     "metadata": {},
     "output_type": "execute_result"
    }
   ],
   "source": [
    "data.head()"
   ]
  },
  {
   "cell_type": "code",
   "execution_count": 4,
   "metadata": {
    "ExecuteTime": {
     "end_time": "2021-05-09T15:56:41.402617Z",
     "start_time": "2021-05-09T15:56:41.288443Z"
    }
   },
   "outputs": [
    {
     "name": "stdout",
     "output_type": "stream",
     "text": [
      "<class 'pandas.core.frame.DataFrame'>\n",
      "RangeIndex: 96753 entries, 0 to 96752\n",
      "Data columns (total 10 columns):\n",
      " #   Column             Non-Null Count  Dtype         \n",
      "---  ------             --------------  -----         \n",
      " 0   Recnum             96753 non-null  int64         \n",
      " 1   Cardnum            96753 non-null  int64         \n",
      " 2   Date               96753 non-null  datetime64[ns]\n",
      " 3   Merchnum           93378 non-null  object        \n",
      " 4   Merch description  96753 non-null  object        \n",
      " 5   Merch state        95558 non-null  object        \n",
      " 6   Merch zip          92097 non-null  float64       \n",
      " 7   Transtype          96753 non-null  object        \n",
      " 8   Amount             96753 non-null  float64       \n",
      " 9   Fraud              96753 non-null  int64         \n",
      "dtypes: datetime64[ns](1), float64(2), int64(3), object(4)\n",
      "memory usage: 7.4+ MB\n"
     ]
    }
   ],
   "source": [
    "data.info()"
   ]
  },
  {
   "cell_type": "code",
   "execution_count": 5,
   "metadata": {
    "ExecuteTime": {
     "end_time": "2021-05-09T15:56:41.567954Z",
     "start_time": "2021-05-09T15:56:41.506380Z"
    }
   },
   "outputs": [],
   "source": [
    "# remove one incorrect record\n",
    "data.drop([52714], axis=0, inplace=True)"
   ]
  },
  {
   "cell_type": "code",
   "execution_count": 6,
   "metadata": {
    "ExecuteTime": {
     "end_time": "2021-05-09T15:56:41.765151Z",
     "start_time": "2021-05-09T15:56:41.674760Z"
    }
   },
   "outputs": [],
   "source": [
    "# remove transaction types not equal 'P'\n",
    "data = data[data['Transtype']=='P']"
   ]
  },
  {
   "cell_type": "markdown",
   "metadata": {},
   "source": [
    "### Fill missing fields"
   ]
  },
  {
   "cell_type": "code",
   "execution_count": 7,
   "metadata": {
    "ExecuteTime": {
     "end_time": "2021-05-09T15:56:41.909161Z",
     "start_time": "2021-05-09T15:56:41.872522Z"
    },
    "colab": {
     "base_uri": "https://localhost:8080/"
    },
    "id": "SI1hoW0r-z8r",
    "outputId": "a2278a1b-07eb-4542-feca-6292af0355af"
   },
   "outputs": [
    {
     "data": {
      "text/plain": [
       "Recnum                  0\n",
       "Cardnum                 0\n",
       "Date                    0\n",
       "Merchnum             3198\n",
       "Merch description       0\n",
       "Merch state          1020\n",
       "Merch zip            4300\n",
       "Transtype               0\n",
       "Amount                  0\n",
       "Fraud                   0\n",
       "dtype: int64"
      ]
     },
     "execution_count": 7,
     "metadata": {},
     "output_type": "execute_result"
    }
   ],
   "source": [
    "data.isna().sum()"
   ]
  },
  {
   "cell_type": "code",
   "execution_count": 8,
   "metadata": {
    "ExecuteTime": {
     "end_time": "2021-05-09T15:56:51.113198Z",
     "start_time": "2021-05-09T15:56:41.988563Z"
    }
   },
   "outputs": [],
   "source": [
    "# Merch num:\n",
    "# groupby description and use the mode\n",
    "# if no description avaliable, leave it na\n",
    "data['Merchnum'] = data['Merchnum'].fillna(data.groupby(['Merch description'])['Merchnum'] \\\n",
    "                        .transform(lambda x:x.mode()[0] if x.mode().empty==False else np.NaN))"
   ]
  },
  {
   "cell_type": "code",
   "execution_count": 9,
   "metadata": {
    "ExecuteTime": {
     "end_time": "2021-05-09T15:56:51.255506Z",
     "start_time": "2021-05-09T15:56:51.197200Z"
    }
   },
   "outputs": [
    {
     "data": {
      "text/plain": [
       "Recnum                  0\n",
       "Cardnum                 0\n",
       "Date                    0\n",
       "Merchnum             2038\n",
       "Merch description       0\n",
       "Merch state          1020\n",
       "Merch zip            4300\n",
       "Transtype               0\n",
       "Amount                  0\n",
       "Fraud                   0\n",
       "dtype: int64"
      ]
     },
     "execution_count": 9,
     "metadata": {},
     "output_type": "execute_result"
    }
   ],
   "source": [
    "data.isna().sum()"
   ]
  },
  {
   "cell_type": "code",
   "execution_count": 10,
   "metadata": {
    "ExecuteTime": {
     "end_time": "2021-05-09T15:56:58.659137Z",
     "start_time": "2021-05-09T15:56:51.342256Z"
    }
   },
   "outputs": [],
   "source": [
    "# Merch zip:\n",
    "# group by description and use the mode\n",
    "# if no mode available, leave it na\n",
    "data['Merch zip'] = data['Merch zip'].fillna(data.groupby(['Merch description'])['Merch zip'] \\\n",
    "                        .transform(lambda x:x.mode()[0] if x.mode().empty==False else np.NaN))"
   ]
  },
  {
   "cell_type": "code",
   "execution_count": 11,
   "metadata": {
    "ExecuteTime": {
     "end_time": "2021-05-09T15:56:58.791745Z",
     "start_time": "2021-05-09T15:56:58.738811Z"
    }
   },
   "outputs": [
    {
     "data": {
      "text/plain": [
       "Recnum                  0\n",
       "Cardnum                 0\n",
       "Date                    0\n",
       "Merchnum             2038\n",
       "Merch description       0\n",
       "Merch state          1020\n",
       "Merch zip            2043\n",
       "Transtype               0\n",
       "Amount                  0\n",
       "Fraud                   0\n",
       "dtype: int64"
      ]
     },
     "execution_count": 11,
     "metadata": {},
     "output_type": "execute_result"
    }
   ],
   "source": [
    "data.isna().sum()"
   ]
  },
  {
   "cell_type": "code",
   "execution_count": 12,
   "metadata": {
    "ExecuteTime": {
     "end_time": "2021-05-09T15:57:07.133706Z",
     "start_time": "2021-05-09T15:56:58.890810Z"
    }
   },
   "outputs": [],
   "source": [
    "# Merch state:\n",
    "# first group by description and use the mode\n",
    "# if no mode available, leave it na\n",
    "data['Merch state'] = data['Merch state'].fillna(data.groupby(['Merch description'])['Merch state'] \\\n",
    "                        .transform(lambda x:x.mode()[0] if x.mode().empty==False else np.NaN))"
   ]
  },
  {
   "cell_type": "code",
   "execution_count": 13,
   "metadata": {
    "ExecuteTime": {
     "end_time": "2021-05-09T15:57:07.267838Z",
     "start_time": "2021-05-09T15:57:07.217316Z"
    }
   },
   "outputs": [
    {
     "data": {
      "text/plain": [
       "Recnum                  0\n",
       "Cardnum                 0\n",
       "Date                    0\n",
       "Merchnum             2038\n",
       "Merch description       0\n",
       "Merch state           363\n",
       "Merch zip            2043\n",
       "Transtype               0\n",
       "Amount                  0\n",
       "Fraud                   0\n",
       "dtype: int64"
      ]
     },
     "execution_count": 13,
     "metadata": {},
     "output_type": "execute_result"
    }
   ],
   "source": [
    "data.isna().sum()"
   ]
  },
  {
   "cell_type": "code",
   "execution_count": 14,
   "metadata": {
    "ExecuteTime": {
     "end_time": "2021-05-09T15:57:07.346615Z",
     "start_time": "2021-05-09T15:57:07.331613Z"
    }
   },
   "outputs": [],
   "source": [
    "# for remaining missing state, use known zip-state pair to fill"
   ]
  },
  {
   "cell_type": "code",
   "execution_count": 15,
   "metadata": {
    "ExecuteTime": {
     "end_time": "2021-05-09T15:57:07.574522Z",
     "start_time": "2021-05-09T15:57:07.450225Z"
    }
   },
   "outputs": [
    {
     "data": {
      "text/html": [
       "<div>\n",
       "<style scoped>\n",
       "    .dataframe tbody tr th:only-of-type {\n",
       "        vertical-align: middle;\n",
       "    }\n",
       "\n",
       "    .dataframe tbody tr th {\n",
       "        vertical-align: top;\n",
       "    }\n",
       "\n",
       "    .dataframe thead th {\n",
       "        text-align: right;\n",
       "    }\n",
       "</style>\n",
       "<table border=\"1\" class=\"dataframe\">\n",
       "  <thead>\n",
       "    <tr style=\"text-align: right;\">\n",
       "      <th></th>\n",
       "      <th>Recnum</th>\n",
       "      <th>Cardnum</th>\n",
       "      <th>Date</th>\n",
       "      <th>Merchnum</th>\n",
       "      <th>Merch description</th>\n",
       "      <th>Merch state</th>\n",
       "      <th>Merch zip</th>\n",
       "      <th>Transtype</th>\n",
       "      <th>Amount</th>\n",
       "      <th>Fraud</th>\n",
       "    </tr>\n",
       "  </thead>\n",
       "  <tbody>\n",
       "    <tr>\n",
       "      <th>3258</th>\n",
       "      <td>3259</td>\n",
       "      <td>5142153880</td>\n",
       "      <td>2010-01-14</td>\n",
       "      <td>582582822587</td>\n",
       "      <td>DIGITAL TECHNOLOGY CONTRA</td>\n",
       "      <td>NaN</td>\n",
       "      <td>926.0</td>\n",
       "      <td>P</td>\n",
       "      <td>2340.00</td>\n",
       "      <td>0</td>\n",
       "    </tr>\n",
       "    <tr>\n",
       "      <th>3262</th>\n",
       "      <td>3263</td>\n",
       "      <td>5142154098</td>\n",
       "      <td>2010-01-14</td>\n",
       "      <td>582582822587</td>\n",
       "      <td>DIGITAL TECHNOLOGY CONTRA</td>\n",
       "      <td>NaN</td>\n",
       "      <td>926.0</td>\n",
       "      <td>P</td>\n",
       "      <td>2387.00</td>\n",
       "      <td>0</td>\n",
       "    </tr>\n",
       "    <tr>\n",
       "      <th>3540</th>\n",
       "      <td>3541</td>\n",
       "      <td>5142154098</td>\n",
       "      <td>2010-01-17</td>\n",
       "      <td>582582822587</td>\n",
       "      <td>DIGITAL TECHNOLOGY CONTRA</td>\n",
       "      <td>NaN</td>\n",
       "      <td>926.0</td>\n",
       "      <td>P</td>\n",
       "      <td>2300.00</td>\n",
       "      <td>0</td>\n",
       "    </tr>\n",
       "    <tr>\n",
       "      <th>3642</th>\n",
       "      <td>3643</td>\n",
       "      <td>5142153880</td>\n",
       "      <td>2010-01-17</td>\n",
       "      <td>582582822587</td>\n",
       "      <td>DIGITAL TECHNOLOGY CONTRA</td>\n",
       "      <td>NaN</td>\n",
       "      <td>926.0</td>\n",
       "      <td>P</td>\n",
       "      <td>2500.00</td>\n",
       "      <td>0</td>\n",
       "    </tr>\n",
       "    <tr>\n",
       "      <th>4969</th>\n",
       "      <td>4970</td>\n",
       "      <td>5142194136</td>\n",
       "      <td>2010-01-24</td>\n",
       "      <td>597597721468</td>\n",
       "      <td>CRISTALIA ACQUISITION COR</td>\n",
       "      <td>NaN</td>\n",
       "      <td>929.0</td>\n",
       "      <td>P</td>\n",
       "      <td>83.00</td>\n",
       "      <td>0</td>\n",
       "    </tr>\n",
       "    <tr>\n",
       "      <th>...</th>\n",
       "      <td>...</td>\n",
       "      <td>...</td>\n",
       "      <td>...</td>\n",
       "      <td>...</td>\n",
       "      <td>...</td>\n",
       "      <td>...</td>\n",
       "      <td>...</td>\n",
       "      <td>...</td>\n",
       "      <td>...</td>\n",
       "      <td>...</td>\n",
       "    </tr>\n",
       "    <tr>\n",
       "      <th>83272</th>\n",
       "      <td>83273</td>\n",
       "      <td>5142193384</td>\n",
       "      <td>2010-10-26</td>\n",
       "      <td>600555303209</td>\n",
       "      <td>EMBASSY SUITES PR</td>\n",
       "      <td>NaN</td>\n",
       "      <td>38117.0</td>\n",
       "      <td>P</td>\n",
       "      <td>300.00</td>\n",
       "      <td>0</td>\n",
       "    </tr>\n",
       "    <tr>\n",
       "      <th>83425</th>\n",
       "      <td>83426</td>\n",
       "      <td>5142193384</td>\n",
       "      <td>2010-10-27</td>\n",
       "      <td>600555303209</td>\n",
       "      <td>EMBASSY SUITES PR</td>\n",
       "      <td>NaN</td>\n",
       "      <td>38117.0</td>\n",
       "      <td>P</td>\n",
       "      <td>600.00</td>\n",
       "      <td>0</td>\n",
       "    </tr>\n",
       "    <tr>\n",
       "      <th>83454</th>\n",
       "      <td>83455</td>\n",
       "      <td>5142193384</td>\n",
       "      <td>2010-10-27</td>\n",
       "      <td>600555303209</td>\n",
       "      <td>EMBASSY SUITES PR</td>\n",
       "      <td>NaN</td>\n",
       "      <td>38117.0</td>\n",
       "      <td>P</td>\n",
       "      <td>600.00</td>\n",
       "      <td>0</td>\n",
       "    </tr>\n",
       "    <tr>\n",
       "      <th>86405</th>\n",
       "      <td>86406</td>\n",
       "      <td>5142194136</td>\n",
       "      <td>2010-11-10</td>\n",
       "      <td>7007631331</td>\n",
       "      <td>AAFES BUCHANAN MAIN STR</td>\n",
       "      <td>NaN</td>\n",
       "      <td>934.0</td>\n",
       "      <td>P</td>\n",
       "      <td>184.41</td>\n",
       "      <td>0</td>\n",
       "    </tr>\n",
       "    <tr>\n",
       "      <th>90259</th>\n",
       "      <td>90260</td>\n",
       "      <td>5142233702</td>\n",
       "      <td>2010-12-01</td>\n",
       "      <td>4006851471</td>\n",
       "      <td>INTERNET VISION</td>\n",
       "      <td>NaN</td>\n",
       "      <td>41160.0</td>\n",
       "      <td>P</td>\n",
       "      <td>131.00</td>\n",
       "      <td>0</td>\n",
       "    </tr>\n",
       "  </tbody>\n",
       "</table>\n",
       "<p>94 rows × 10 columns</p>\n",
       "</div>"
      ],
      "text/plain": [
       "       Recnum     Cardnum       Date      Merchnum          Merch description  \\\n",
       "3258     3259  5142153880 2010-01-14  582582822587  DIGITAL TECHNOLOGY CONTRA   \n",
       "3262     3263  5142154098 2010-01-14  582582822587  DIGITAL TECHNOLOGY CONTRA   \n",
       "3540     3541  5142154098 2010-01-17  582582822587  DIGITAL TECHNOLOGY CONTRA   \n",
       "3642     3643  5142153880 2010-01-17  582582822587  DIGITAL TECHNOLOGY CONTRA   \n",
       "4969     4970  5142194136 2010-01-24  597597721468  CRISTALIA ACQUISITION COR   \n",
       "...       ...         ...        ...           ...                        ...   \n",
       "83272   83273  5142193384 2010-10-26  600555303209          EMBASSY SUITES PR   \n",
       "83425   83426  5142193384 2010-10-27  600555303209          EMBASSY SUITES PR   \n",
       "83454   83455  5142193384 2010-10-27  600555303209          EMBASSY SUITES PR   \n",
       "86405   86406  5142194136 2010-11-10    7007631331    AAFES BUCHANAN MAIN STR   \n",
       "90259   90260  5142233702 2010-12-01    4006851471            INTERNET VISION   \n",
       "\n",
       "      Merch state  Merch zip Transtype   Amount  Fraud  \n",
       "3258          NaN      926.0         P  2340.00      0  \n",
       "3262          NaN      926.0         P  2387.00      0  \n",
       "3540          NaN      926.0         P  2300.00      0  \n",
       "3642          NaN      926.0         P  2500.00      0  \n",
       "4969          NaN      929.0         P    83.00      0  \n",
       "...           ...        ...       ...      ...    ...  \n",
       "83272         NaN    38117.0         P   300.00      0  \n",
       "83425         NaN    38117.0         P   600.00      0  \n",
       "83454         NaN    38117.0         P   600.00      0  \n",
       "86405         NaN      934.0         P   184.41      0  \n",
       "90259         NaN    41160.0         P   131.00      0  \n",
       "\n",
       "[94 rows x 10 columns]"
      ]
     },
     "execution_count": 15,
     "metadata": {},
     "output_type": "execute_result"
    }
   ],
   "source": [
    "# find all rows where zip is not NaN for missing state\n",
    "d = data[(data['Merch state'].isnull()==True) & (data['Merch zip'].isnull()==False)]\n",
    "d"
   ]
  },
  {
   "cell_type": "code",
   "execution_count": 16,
   "metadata": {
    "ExecuteTime": {
     "end_time": "2021-05-09T15:57:07.741737Z",
     "start_time": "2021-05-09T15:57:07.688310Z"
    }
   },
   "outputs": [
    {
     "data": {
      "text/plain": [
       "{926.0: nan,\n",
       " 929.0: nan,\n",
       " 1400.0: nan,\n",
       " 65132.0: nan,\n",
       " 86899.0: nan,\n",
       " 23080.0: nan,\n",
       " 60528.0: nan,\n",
       " 6.0: 'IL',\n",
       " 934.0: nan,\n",
       " 738.0: nan,\n",
       " 2.0: 'MD',\n",
       " 90805.0: nan,\n",
       " 76302.0: nan,\n",
       " 9.0: 'CA',\n",
       " 914.0: nan,\n",
       " 95461.0: nan,\n",
       " 50823.0: nan,\n",
       " 48700.0: nan,\n",
       " 680.0: nan,\n",
       " 1.0: 'PA',\n",
       " 681.0: nan,\n",
       " 623.0: nan,\n",
       " 726.0: nan,\n",
       " 936.0: nan,\n",
       " 12108.0: nan,\n",
       " 791.0: nan,\n",
       " 907.0: nan,\n",
       " 922.0: nan,\n",
       " 920.0: nan,\n",
       " 3.0: 'GA',\n",
       " 801.0: nan,\n",
       " 8.0: 'CO',\n",
       " 31040.0: nan,\n",
       " 38117.0: 'TN',\n",
       " 41160.0: nan}"
      ]
     },
     "execution_count": 16,
     "metadata": {},
     "output_type": "execute_result"
    }
   ],
   "source": [
    "# find matching state for zip\n",
    "z_to_s = {}\n",
    "for z in d['Merch zip'].unique():\n",
    "    dz = data.loc[data['Merch zip']==z,'Merch state']\n",
    "    if dz.mode().empty == True:\n",
    "        s = np.NaN\n",
    "    else:\n",
    "        s = dz.mode()[0]\n",
    "    z_to_s.update({z:s})\n",
    "z_to_s"
   ]
  },
  {
   "cell_type": "code",
   "execution_count": 17,
   "metadata": {
    "ExecuteTime": {
     "end_time": "2021-05-09T15:57:08.010761Z",
     "start_time": "2021-05-09T15:57:07.863136Z"
    }
   },
   "outputs": [],
   "source": [
    "for index in d.index:\n",
    "    data.loc[index,'Merch state'] = z_to_s[data.loc[index,'Merch zip']]"
   ]
  },
  {
   "cell_type": "code",
   "execution_count": 18,
   "metadata": {
    "ExecuteTime": {
     "end_time": "2021-05-09T15:57:08.154683Z",
     "start_time": "2021-05-09T15:57:08.118478Z"
    }
   },
   "outputs": [
    {
     "data": {
      "text/plain": [
       "Recnum                  0\n",
       "Cardnum                 0\n",
       "Date                    0\n",
       "Merchnum             2038\n",
       "Merch description       0\n",
       "Merch state           335\n",
       "Merch zip            2043\n",
       "Transtype               0\n",
       "Amount                  0\n",
       "Fraud                   0\n",
       "dtype: int64"
      ]
     },
     "execution_count": 18,
     "metadata": {},
     "output_type": "execute_result"
    }
   ],
   "source": [
    "data.isna().sum()"
   ]
  },
  {
   "cell_type": "code",
   "execution_count": 19,
   "metadata": {
    "ExecuteTime": {
     "end_time": "2021-05-09T15:57:08.320721Z",
     "start_time": "2021-05-09T15:57:08.249777Z"
    }
   },
   "outputs": [],
   "source": [
    "# fill all missing fields to 'unknown'\n",
    "data.fillna('unknown', inplace=True)"
   ]
  },
  {
   "cell_type": "code",
   "execution_count": 20,
   "metadata": {
    "ExecuteTime": {
     "end_time": "2021-05-09T15:57:08.471563Z",
     "start_time": "2021-05-09T15:57:08.423931Z"
    }
   },
   "outputs": [
    {
     "data": {
      "text/plain": [
       "Recnum               0\n",
       "Cardnum              0\n",
       "Date                 0\n",
       "Merchnum             0\n",
       "Merch description    0\n",
       "Merch state          0\n",
       "Merch zip            0\n",
       "Transtype            0\n",
       "Amount               0\n",
       "Fraud                0\n",
       "dtype: int64"
      ]
     },
     "execution_count": 20,
     "metadata": {},
     "output_type": "execute_result"
    }
   ],
   "source": [
    "data.isna().sum()"
   ]
  },
  {
   "cell_type": "markdown",
   "metadata": {
    "id": "pJzoQ5w5Nv9O"
   },
   "source": [
    "## Feature Engineering"
   ]
  },
  {
   "cell_type": "markdown",
   "metadata": {
    "id": "9y_KB5soOvrL"
   },
   "source": [
    "### Entity Variables"
   ]
  },
  {
   "cell_type": "code",
   "execution_count": 21,
   "metadata": {
    "ExecuteTime": {
     "end_time": "2021-05-09T15:57:08.708948Z",
     "start_time": "2021-05-09T15:57:08.543725Z"
    },
    "id": "JNggk3XwWPg4"
   },
   "outputs": [],
   "source": [
    "# create entities\n",
    "data['Cardnum']=data['Cardnum'].astype(str)\n",
    "data['Merchnum']=data['Merchnum'].astype(str)\n",
    "data['Merch zip']=data['Merch zip'].astype(str)\n",
    "data['card_merchnum']=data.Cardnum+data.Merchnum\n",
    "data['card_zip']=data.Cardnum+data['Merch zip']\n",
    "data['card_state']=data.Cardnum+data['Merch state']"
   ]
  },
  {
   "cell_type": "code",
   "execution_count": 22,
   "metadata": {
    "ExecuteTime": {
     "end_time": "2021-05-09T15:57:08.879832Z",
     "start_time": "2021-05-09T15:57:08.843471Z"
    },
    "colab": {
     "base_uri": "https://localhost:8080/",
     "height": 333
    },
    "id": "UBpS1DbMQA5c",
    "outputId": "30d0c2a3-1cb4-4397-daf9-174a69d130a2"
   },
   "outputs": [
    {
     "data": {
      "text/html": [
       "<div>\n",
       "<style scoped>\n",
       "    .dataframe tbody tr th:only-of-type {\n",
       "        vertical-align: middle;\n",
       "    }\n",
       "\n",
       "    .dataframe tbody tr th {\n",
       "        vertical-align: top;\n",
       "    }\n",
       "\n",
       "    .dataframe thead th {\n",
       "        text-align: right;\n",
       "    }\n",
       "</style>\n",
       "<table border=\"1\" class=\"dataframe\">\n",
       "  <thead>\n",
       "    <tr style=\"text-align: right;\">\n",
       "      <th></th>\n",
       "      <th>Recnum</th>\n",
       "      <th>Cardnum</th>\n",
       "      <th>Date</th>\n",
       "      <th>Merchnum</th>\n",
       "      <th>Merch description</th>\n",
       "      <th>Merch state</th>\n",
       "      <th>Merch zip</th>\n",
       "      <th>Transtype</th>\n",
       "      <th>Amount</th>\n",
       "      <th>Fraud</th>\n",
       "      <th>card_merchnum</th>\n",
       "      <th>card_zip</th>\n",
       "      <th>card_state</th>\n",
       "    </tr>\n",
       "  </thead>\n",
       "  <tbody>\n",
       "    <tr>\n",
       "      <th>0</th>\n",
       "      <td>1</td>\n",
       "      <td>5142190439</td>\n",
       "      <td>2010-01-01</td>\n",
       "      <td>5509006296254</td>\n",
       "      <td>FEDEX SHP 12/23/09 AB#</td>\n",
       "      <td>TN</td>\n",
       "      <td>38118.0</td>\n",
       "      <td>P</td>\n",
       "      <td>3.62</td>\n",
       "      <td>0</td>\n",
       "      <td>51421904395509006296254</td>\n",
       "      <td>514219043938118.0</td>\n",
       "      <td>5142190439TN</td>\n",
       "    </tr>\n",
       "    <tr>\n",
       "      <th>1</th>\n",
       "      <td>2</td>\n",
       "      <td>5142183973</td>\n",
       "      <td>2010-01-01</td>\n",
       "      <td>61003026333</td>\n",
       "      <td>SERVICE MERCHANDISE #81</td>\n",
       "      <td>MA</td>\n",
       "      <td>1803.0</td>\n",
       "      <td>P</td>\n",
       "      <td>31.42</td>\n",
       "      <td>0</td>\n",
       "      <td>514218397361003026333</td>\n",
       "      <td>51421839731803.0</td>\n",
       "      <td>5142183973MA</td>\n",
       "    </tr>\n",
       "    <tr>\n",
       "      <th>2</th>\n",
       "      <td>3</td>\n",
       "      <td>5142131721</td>\n",
       "      <td>2010-01-01</td>\n",
       "      <td>4503082993600</td>\n",
       "      <td>OFFICE DEPOT #191</td>\n",
       "      <td>MD</td>\n",
       "      <td>20706.0</td>\n",
       "      <td>P</td>\n",
       "      <td>178.49</td>\n",
       "      <td>0</td>\n",
       "      <td>51421317214503082993600</td>\n",
       "      <td>514213172120706.0</td>\n",
       "      <td>5142131721MD</td>\n",
       "    </tr>\n",
       "    <tr>\n",
       "      <th>3</th>\n",
       "      <td>4</td>\n",
       "      <td>5142148452</td>\n",
       "      <td>2010-01-01</td>\n",
       "      <td>5509006296254</td>\n",
       "      <td>FEDEX SHP 12/28/09 AB#</td>\n",
       "      <td>TN</td>\n",
       "      <td>38118.0</td>\n",
       "      <td>P</td>\n",
       "      <td>3.62</td>\n",
       "      <td>0</td>\n",
       "      <td>51421484525509006296254</td>\n",
       "      <td>514214845238118.0</td>\n",
       "      <td>5142148452TN</td>\n",
       "    </tr>\n",
       "    <tr>\n",
       "      <th>4</th>\n",
       "      <td>5</td>\n",
       "      <td>5142190439</td>\n",
       "      <td>2010-01-01</td>\n",
       "      <td>5509006296254</td>\n",
       "      <td>FEDEX SHP 12/23/09 AB#</td>\n",
       "      <td>TN</td>\n",
       "      <td>38118.0</td>\n",
       "      <td>P</td>\n",
       "      <td>3.62</td>\n",
       "      <td>0</td>\n",
       "      <td>51421904395509006296254</td>\n",
       "      <td>514219043938118.0</td>\n",
       "      <td>5142190439TN</td>\n",
       "    </tr>\n",
       "  </tbody>\n",
       "</table>\n",
       "</div>"
      ],
      "text/plain": [
       "   Recnum     Cardnum       Date       Merchnum        Merch description  \\\n",
       "0       1  5142190439 2010-01-01  5509006296254   FEDEX SHP 12/23/09 AB#   \n",
       "1       2  5142183973 2010-01-01    61003026333  SERVICE MERCHANDISE #81   \n",
       "2       3  5142131721 2010-01-01  4503082993600        OFFICE DEPOT #191   \n",
       "3       4  5142148452 2010-01-01  5509006296254   FEDEX SHP 12/28/09 AB#   \n",
       "4       5  5142190439 2010-01-01  5509006296254   FEDEX SHP 12/23/09 AB#   \n",
       "\n",
       "  Merch state Merch zip Transtype  Amount  Fraud            card_merchnum  \\\n",
       "0          TN   38118.0         P    3.62      0  51421904395509006296254   \n",
       "1          MA    1803.0         P   31.42      0    514218397361003026333   \n",
       "2          MD   20706.0         P  178.49      0  51421317214503082993600   \n",
       "3          TN   38118.0         P    3.62      0  51421484525509006296254   \n",
       "4          TN   38118.0         P    3.62      0  51421904395509006296254   \n",
       "\n",
       "            card_zip    card_state  \n",
       "0  514219043938118.0  5142190439TN  \n",
       "1   51421839731803.0  5142183973MA  \n",
       "2  514213172120706.0  5142131721MD  \n",
       "3  514214845238118.0  5142148452TN  \n",
       "4  514219043938118.0  5142190439TN  "
      ]
     },
     "execution_count": 22,
     "metadata": {},
     "output_type": "execute_result"
    }
   ],
   "source": [
    "data.head()"
   ]
  },
  {
   "cell_type": "code",
   "execution_count": 23,
   "metadata": {
    "ExecuteTime": {
     "end_time": "2021-05-09T15:57:09.036971Z",
     "start_time": "2021-05-09T15:57:09.022272Z"
    },
    "id": "zEYtcPXlHyHc"
   },
   "outputs": [],
   "source": [
    "attributes=['Cardnum','Merchnum','card_merchnum','card_zip','card_state']"
   ]
  },
  {
   "cell_type": "markdown",
   "metadata": {
    "id": "jSjIlw0ZD3p0"
   },
   "source": [
    "### Candidate Variables"
   ]
  },
  {
   "cell_type": "code",
   "execution_count": 24,
   "metadata": {
    "ExecuteTime": {
     "end_time": "2021-05-09T15:57:09.216948Z",
     "start_time": "2021-05-09T15:57:09.170083Z"
    },
    "id": "XRLGHIbdD8t4"
   },
   "outputs": [],
   "source": [
    "df1 = data.copy()\n",
    "final = data.copy()\n",
    "df1['check_date'] = df1.Date\n",
    "df1['check_record'] = df1.Recnum"
   ]
  },
  {
   "cell_type": "code",
   "execution_count": 25,
   "metadata": {
    "ExecuteTime": {
     "end_time": "2021-05-09T16:00:16.122835Z",
     "start_time": "2021-05-09T15:57:09.399952Z"
    },
    "colab": {
     "base_uri": "https://localhost:8080/"
    },
    "id": "QeBXwLZQIADk",
    "outputId": "97b1fb65-bcde-4090-d5f2-ac3a22987c88"
   },
   "outputs": [
    {
     "name": "stdout",
     "output_type": "stream",
     "text": [
      "\n",
      "Cardnum_day_since ---> Done\n",
      "Cardnum_count_0 ---> Done\n",
      "Cardnum_count_1 ---> Done\n",
      "Cardnum_count_3 ---> Done\n",
      "Cardnum_count_7 ---> Done\n",
      "Cardnum_count_14 ---> Done\n",
      "Cardnum_count_30 ---> Done\n",
      "Run time for entity Cardnum ----------------21.22s\n",
      "\n",
      "Merchnum_day_since ---> Done\n",
      "Merchnum_count_0 ---> Done\n",
      "Merchnum_count_1 ---> Done\n",
      "Merchnum_count_3 ---> Done\n",
      "Merchnum_count_7 ---> Done\n",
      "Merchnum_count_14 ---> Done\n",
      "Merchnum_count_30 ---> Done\n",
      "Run time for entity Merchnum ----------------137.70s\n",
      "\n",
      "card_merchnum_day_since ---> Done\n",
      "card_merchnum_count_0 ---> Done\n",
      "card_merchnum_count_1 ---> Done\n",
      "card_merchnum_count_3 ---> Done\n",
      "card_merchnum_count_7 ---> Done\n",
      "card_merchnum_count_14 ---> Done\n",
      "card_merchnum_count_30 ---> Done\n",
      "Run time for entity card_merchnum ----------------9.12s\n",
      "\n",
      "card_zip_day_since ---> Done\n",
      "card_zip_count_0 ---> Done\n",
      "card_zip_count_1 ---> Done\n",
      "card_zip_count_3 ---> Done\n",
      "card_zip_count_7 ---> Done\n",
      "card_zip_count_14 ---> Done\n",
      "card_zip_count_30 ---> Done\n",
      "Run time for entity card_zip ----------------8.86s\n",
      "\n",
      "card_state_day_since ---> Done\n",
      "card_state_count_0 ---> Done\n",
      "card_state_count_1 ---> Done\n",
      "card_state_count_3 ---> Done\n",
      "card_state_count_7 ---> Done\n",
      "card_state_count_14 ---> Done\n",
      "card_state_count_30 ---> Done\n",
      "Run time for entity card_state ----------------9.74s\n",
      "Total run time: 3.11min\n"
     ]
    }
   ],
   "source": [
    "start = timer()\n",
    "for entity in attributes:\n",
    "    st = timer()\n",
    "    df_1 = df1[['Recnum','Date',entity]]\n",
    "    df_r = df1[['check_record','check_date',entity,'Amount']]\n",
    "    temp = pd.merge(df_1,df_r,left_on=entity,right_on=entity)\n",
    "    #day since\n",
    "    day_since_df = temp[temp.Recnum > temp.check_record][['Recnum','Date','check_date']]\\\n",
    "        .groupby('Recnum')[['Date','check_date']].last()\n",
    "    mapper = (day_since_df.Date - day_since_df.check_date).dt.days\n",
    "    final[entity + '_day_since'] = final.Recnum.map(mapper)\n",
    "    final[entity + '_day_since'].fillna(365,inplace=True)\n",
    "    print(f'\\n{entity}_day_since ---> Done')\n",
    "    \n",
    "    for offset_t in [0,1,3,7,14,30]:\n",
    "        #frequency variable\n",
    "        count_day_df = temp[(temp.check_date >= (temp.Date - dt.timedelta(offset_t)))\n",
    "                           & (temp.Recnum >= temp.check_record)]\n",
    "        col_name = f'{entity}_count_{offset_t}'\n",
    "        mapper2 = count_day_df.groupby('Recnum')[entity].count()\n",
    "        final[col_name] = final.Recnum.map(mapper2)\n",
    "        #amount mean variable\n",
    "        count_day_df = temp[(temp.check_date >= (temp.Date - dt.timedelta(offset_t)))\n",
    "                           & (temp.Recnum >= temp.check_record)]\n",
    "        col_name = f'ave_amount_{entity}_count_{offset_t}'\n",
    "        mapper3 = count_day_df.groupby(entity)['Amount'].mean()\n",
    "        final[col_name] = final[entity].map(mapper3)\n",
    "        #amount max variable\n",
    "        count_day_df = temp[(temp.check_date >= (temp.Date - dt.timedelta(offset_t)))\n",
    "                           & (temp.Recnum >= temp.check_record)]\n",
    "        col_name = f'max_amount_{entity}_count_{offset_t}'\n",
    "        mapper4 = count_day_df.groupby(entity)['Amount'].max()\n",
    "        final[col_name] = final[entity].map(mapper4)\n",
    "        #amount sum variable\n",
    "        \n",
    "        count_day_df = temp[(temp.check_date >= (temp.Date - dt.timedelta(offset_t)))\n",
    "                           & (temp.Recnum >= temp.check_record)]\n",
    "        col_name = f'sum_amount_{entity}_count_{offset_t}'\n",
    "        mapper5 = count_day_df.groupby(entity)['Amount'].sum()\n",
    "        final[col_name] = final[entity].map(mapper5)\n",
    "        #amount median variable\n",
    "        count_day_df = temp[(temp.check_date >= (temp.Date - dt.timedelta(offset_t)))\n",
    "                           & (temp.Recnum >= temp.check_record)]\n",
    "        col_name = f'median_amount_{entity}_count_{offset_t}'\n",
    "        mapper6 = count_day_df.groupby(entity)['Amount'].median()\n",
    "        final[col_name] = final[entity].map(mapper6)\n",
    " \n",
    "\n",
    "\n",
    "        print(f'{entity}_count_{str(offset_t)} ---> Done')\n",
    "    print(f'Run time for entity {entity} ----------------{timer() - st:0.2f}s')\n",
    "print(f'Total run time: {(timer()-start)/60:0.2f}min')"
   ]
  },
  {
   "cell_type": "code",
   "execution_count": 26,
   "metadata": {
    "ExecuteTime": {
     "end_time": "2021-05-09T16:00:17.052356Z",
     "start_time": "2021-05-09T16:00:16.498700Z"
    },
    "colab": {
     "base_uri": "https://localhost:8080/"
    },
    "id": "apJO9FG2x5wS",
    "outputId": "7f3f5884-ca8c-4df9-f49e-8a177065617b"
   },
   "outputs": [
    {
     "name": "stdout",
     "output_type": "stream",
     "text": [
      "Cardnum_count_0 ---> Done\n",
      "Cardnum_count_1 ---> Done\n",
      "Cardnum_count_3 ---> Done\n",
      "Cardnum_count_7 ---> Done\n",
      "Cardnum_count_14 ---> Done\n",
      "Cardnum_count_30 ---> Done\n",
      "Run time for entity Cardnum ----------------10.40s\n",
      "Merchnum_count_0 ---> Done\n",
      "Merchnum_count_1 ---> Done\n",
      "Merchnum_count_3 ---> Done\n",
      "Merchnum_count_7 ---> Done\n",
      "Merchnum_count_14 ---> Done\n",
      "Merchnum_count_30 ---> Done\n",
      "Run time for entity Merchnum ----------------10.57s\n",
      "card_merchnum_count_0 ---> Done\n",
      "card_merchnum_count_1 ---> Done\n",
      "card_merchnum_count_3 ---> Done\n",
      "card_merchnum_count_7 ---> Done\n",
      "card_merchnum_count_14 ---> Done\n",
      "card_merchnum_count_30 ---> Done\n",
      "Run time for entity card_merchnum ----------------10.62s\n",
      "card_zip_count_0 ---> Done\n",
      "card_zip_count_1 ---> Done\n",
      "card_zip_count_3 ---> Done\n",
      "card_zip_count_7 ---> Done\n",
      "card_zip_count_14 ---> Done\n",
      "card_zip_count_30 ---> Done\n",
      "Run time for entity card_zip ----------------10.67s\n",
      "card_state_count_0 ---> Done\n",
      "card_state_count_1 ---> Done\n",
      "card_state_count_3 ---> Done\n",
      "card_state_count_7 ---> Done\n",
      "card_state_count_14 ---> Done\n",
      "card_state_count_30 ---> Done\n",
      "Run time for entity card_state ----------------10.72s\n",
      "Total run time: 0.01min\n"
     ]
    }
   ],
   "source": [
    "start = timer()\n",
    "for entity in attributes:\n",
    "    for offset_t in [0,1,3,7,14,30]:\n",
    "        # amount act/mean variable\n",
    "        col_name = f'act/mean_amount_{entity}_count_{offset_t}'\n",
    "        final[col_name] = final['Amount']/final[f'sum_amount_{entity}_count_{offset_t}']\n",
    "        # amount act/max variable\n",
    "        col_name = f'act/max_amount_{entity}_count_{offset_t}'\n",
    "        final[col_name] = final['Amount']/final[f'max_amount_{entity}_count_{offset_t}']\n",
    "        # amount act/total variable\n",
    "        col_name = f'act/sum_amount_{entity}_count_{offset_t}'\n",
    "        final[col_name] = final['Amount']/final[f'sum_amount_{entity}_count_{offset_t}']\n",
    "        # amount act/median variable\n",
    "        col_name = f'act/median_amount_{entity}_count_{offset_t}'\n",
    "        final[col_name] = final['Amount']/final[f'median_amount_{entity}_count_{offset_t}']\n",
    "        print(f'{entity}_count_{str(offset_t)} ---> Done')\n",
    "    print(f'Run time for entity {entity} ----------------{timer() - st:0.2f}s')\n",
    "print(f'Total run time: {(timer()-start)/60:0.2f}min')"
   ]
  },
  {
   "cell_type": "code",
   "execution_count": 27,
   "metadata": {
    "ExecuteTime": {
     "end_time": "2021-05-09T16:00:17.647383Z",
     "start_time": "2021-05-09T16:00:17.361084Z"
    },
    "colab": {
     "base_uri": "https://localhost:8080/"
    },
    "id": "7hNL7HAMc572",
    "outputId": "33a602ce-0e8f-445d-9a21-9a71cf3c9c6e"
   },
   "outputs": [
    {
     "name": "stdout",
     "output_type": "stream",
     "text": [
      "Total run time: 0.27s\n"
     ]
    }
   ],
   "source": [
    "start = timer()\n",
    "for att in attributes:\n",
    "    for d in ['0','1']:\n",
    "        for dd in ['3','7','14','30']:\n",
    "        #number velocity change variable\n",
    "            final[att+'_count_'+d+'_by_'+dd] \\\n",
    "            = final[att + '_count_'+d] / (final[att+'_count_'+dd] / float(dd))\n",
    "        #amount velocity change variable\n",
    "            final[att+'_amount_'+d+'_by_'+dd] \\\n",
    "            = final['sum_amount_'+att + '_count_'+d] / (final['sum_amount_'+att+'_count_'+dd] / float(dd))\n",
    "print(f'Total run time: {timer() - start:0.2f}s')"
   ]
  },
  {
   "cell_type": "markdown",
   "metadata": {},
   "source": [
    "### Risk table variable of day of week"
   ]
  },
  {
   "cell_type": "code",
   "execution_count": 28,
   "metadata": {
    "ExecuteTime": {
     "end_time": "2021-05-09T16:00:19.408284Z",
     "start_time": "2021-05-09T16:00:17.929258Z"
    }
   },
   "outputs": [],
   "source": [
    "final['dow'] = final['Date'].apply(lambda x: calendar.day_name[x.weekday()])\n",
    "\n",
    "# use 2 month as OOT data\n",
    "train_test = final[final['Date'] < '2010-11-01']\n",
    "\n",
    "# statistical smoothing\n",
    "c = 4\n",
    "nmid = 20\n",
    "y_avg = train_test['Fraud'].mean()\n",
    "y_dow = train_test.groupby('dow')['Fraud'].mean()\n",
    "num = train_test.groupby('dow').size()\n",
    "y_dow_smooth = y_avg + (y_dow - y_avg)/(1 + np.exp(-(num - nmid)/c))\n",
    "final['dow_risk'] = final['dow'].map(y_dow_smooth)"
   ]
  },
  {
   "cell_type": "code",
   "execution_count": 29,
   "metadata": {
    "ExecuteTime": {
     "end_time": "2021-05-09T16:00:19.826189Z",
     "start_time": "2021-05-09T16:00:19.791663Z"
    }
   },
   "outputs": [
    {
     "data": {
      "text/plain": [
       "dow\n",
       "Friday       0.025994\n",
       "Monday       0.008711\n",
       "Saturday     0.010095\n",
       "Sunday       0.009630\n",
       "Thursday     0.018626\n",
       "Tuesday      0.007127\n",
       "Wednesday    0.009788\n",
       "Name: dow_risk, dtype: float64"
      ]
     },
     "execution_count": 29,
     "metadata": {},
     "output_type": "execute_result"
    }
   ],
   "source": [
    "final.groupby('dow')['dow_risk'].mean()"
   ]
  },
  {
   "cell_type": "code",
   "execution_count": 30,
   "metadata": {
    "ExecuteTime": {
     "end_time": "2021-05-09T16:00:20.263941Z",
     "start_time": "2021-05-09T16:00:20.215533Z"
    }
   },
   "outputs": [],
   "source": [
    "plot = train_test.groupby('dow')['Fraud'].mean().reset_index().sort_values('Fraud', ascending=False)"
   ]
  },
  {
   "cell_type": "code",
   "execution_count": 31,
   "metadata": {
    "ExecuteTime": {
     "end_time": "2021-05-09T16:00:20.915507Z",
     "start_time": "2021-05-09T16:00:20.633433Z"
    }
   },
   "outputs": [
    {
     "data": {
      "text/plain": [
       "Text(0, 0.5, '% of Fraud')"
      ]
     },
     "execution_count": 31,
     "metadata": {},
     "output_type": "execute_result"
    },
    {
     "data": {
      "image/png": "[encoded data removed]",
      "text/plain": [
       "<Figure size 648x360 with 1 Axes>"
      ]
     },
     "metadata": {
      "needs_background": "light"
     },
     "output_type": "display_data"
    }
   ],
   "source": [
    "plt.figure(figsize = (9,5))\n",
    "sns.barplot(x='dow', y='Fraud', data=plot, color='steelblue')\n",
    "plt.xticks(rotation=45, fontsize=12)\n",
    "plt.yticks(fontsize=12)\n",
    "plt.xlabel('dow', fontsize=18)\n",
    "plt.ylabel('% of Fraud', fontsize=18)"
   ]
  },
  {
   "cell_type": "markdown",
   "metadata": {},
   "source": [
    "### Benford's Law variables for Card number and Merchant"
   ]
  },
  {
   "cell_type": "code",
   "execution_count": 32,
   "metadata": {
    "ExecuteTime": {
     "end_time": "2021-05-09T16:00:21.609875Z",
     "start_time": "2021-05-09T16:00:21.297449Z"
    }
   },
   "outputs": [],
   "source": [
    "# ****A better, safer way would be to build these variables anew for each record, \n",
    "# ****using only the previous time data. \n",
    "\n",
    "bf = data.copy()\n",
    "# remove Fedex transaction\n",
    "bf['check_Fedex'] = bf['Merch description'].apply(lambda x:x[:5])\n",
    "bf.drop(bf[bf['check_Fedex']=='FEDEX'].index, axis=0, inplace=True)\n",
    "bf.drop('check_Fedex', axis=1, inplace=True)\n",
    "\n",
    "# find the first digit of amount\n",
    "bf['f_digit'] = bf['Amount'].apply(lambda x:int(str(x*100)[:1]))\n",
    "bf['is_low'] = bf['f_digit'].apply(lambda x: 1 if x<3 else 0)"
   ]
  },
  {
   "cell_type": "code",
   "execution_count": 33,
   "metadata": {
    "ExecuteTime": {
     "end_time": "2021-05-09T16:00:22.140173Z",
     "start_time": "2021-05-09T16:00:22.033049Z"
    }
   },
   "outputs": [],
   "source": [
    "# group by 'Cardnum'\n",
    "n_low = bf.groupby('Cardnum')['is_low'].sum()\n",
    "n = bf.groupby('Cardnum')['f_digit'].count()\n",
    "n_high = n - n_low\n",
    "# if either n_low or n_high = 0, set them to 0\n",
    "n_low = n_low.apply(lambda x: 1 if x==0 else x)\n",
    "n_high = n_high.apply(lambda x: 1 if x==0 else x)\n",
    "R = 1.096 * n_low / n_high\n",
    "R_reverse = 1/R\n",
    "r_df = pd.concat([R, R_reverse], axis=1).rename(columns={0:'R',1:'1/R'})\n",
    "U = r_df[['R','1/R']].max(axis=1)\n",
    "# smoothing\n",
    "c=3\n",
    "nmid=15\n",
    "U_star = 1 + (U-1)/(1+np.exp(-(n-nmid)/c))\n",
    "final['benford_card'] = final['Cardnum'].map(U_star)"
   ]
  },
  {
   "cell_type": "code",
   "execution_count": 34,
   "metadata": {
    "ExecuteTime": {
     "end_time": "2021-05-09T16:00:22.683715Z",
     "start_time": "2021-05-09T16:00:22.569587Z"
    }
   },
   "outputs": [],
   "source": [
    "# group by'Merchnum'\n",
    "n_low = bf.groupby('Merchnum')['is_low'].sum()\n",
    "n = bf.groupby('Merchnum')['f_digit'].count()\n",
    "n_high = n - n_low\n",
    "# if either n_low or n_high = 0, set them to 0\n",
    "n_low = n_low.apply(lambda x: 1 if x==0 else x)\n",
    "n_high = n_high.apply(lambda x: 1 if x==0 else x)\n",
    "R = 1.096 * n_low / n_high\n",
    "R_reverse = 1/R\n",
    "r_df = pd.concat([R, R_reverse], axis=1).rename(columns={0:'R',1:'1/R'})\n",
    "U = r_df[['R','1/R']].max(axis=1)\n",
    "# smoothing\n",
    "c=3\n",
    "nmid=15\n",
    "U_star = 1 + (U-1)/(1+np.exp(-(n-nmid)/c))\n",
    "# fillin 1 for Fedex\n",
    "U_star = U_star.append(pd.Series([1], index=['5509006296254']))\n",
    "final['benford_merch'] = final['Merchnum'].map(U_star)"
   ]
  },
  {
   "cell_type": "code",
   "execution_count": null,
   "metadata": {},
   "outputs": [],
   "source": [
    "final[[]]"
   ]
  },
  {
   "cell_type": "code",
   "execution_count": 48,
   "metadata": {
    "ExecuteTime": {
     "end_time": "2021-05-09T16:12:24.803453Z",
     "start_time": "2021-05-09T16:12:24.397042Z"
    }
   },
   "outputs": [],
   "source": [
    "Uc = final.sort_values(['benford_card'], ascending=False)[['Cardnum','benford_card']].drop_duplicates()\n",
    "Uc = Uc.reset_index(drop=True)[:20]"
   ]
  },
  {
   "cell_type": "code",
   "execution_count": 49,
   "metadata": {
    "ExecuteTime": {
     "end_time": "2021-05-09T16:12:25.906509Z",
     "start_time": "2021-05-09T16:12:25.877891Z"
    }
   },
   "outputs": [],
   "source": [
    "Uc.to_csv('benford_car.csv')"
   ]
  },
  {
   "cell_type": "code",
   "execution_count": 52,
   "metadata": {
    "ExecuteTime": {
     "end_time": "2021-05-09T16:13:00.483898Z",
     "start_time": "2021-05-09T16:13:00.098415Z"
    }
   },
   "outputs": [],
   "source": [
    "Um = final.sort_values(['benford_merch'], ascending=False)[['Merchnum','benford_merch']].drop_duplicates()\n",
    "Um = Um.reset_index(drop=True)[:20]"
   ]
  },
  {
   "cell_type": "code",
   "execution_count": 53,
   "metadata": {
    "ExecuteTime": {
     "end_time": "2021-05-09T16:13:08.196618Z",
     "start_time": "2021-05-09T16:13:08.178626Z"
    }
   },
   "outputs": [],
   "source": [
    "Um.to_csv('benford_merch.csv')"
   ]
  },
  {
   "cell_type": "code",
   "execution_count": 35,
   "metadata": {
    "ExecuteTime": {
     "end_time": "2021-05-09T16:00:23.173698Z",
     "start_time": "2021-05-09T16:00:23.122620Z"
    },
    "colab": {
     "base_uri": "https://localhost:8080/",
     "height": 362
    },
    "id": "hVU-Bx7tdBJ9",
    "outputId": "7f3d0351-4187-4f64-bcee-a0e30074c6d8"
   },
   "outputs": [
    {
     "data": {
      "text/html": [
       "<div>\n",
       "<style scoped>\n",
       "    .dataframe tbody tr th:only-of-type {\n",
       "        vertical-align: middle;\n",
       "    }\n",
       "\n",
       "    .dataframe tbody tr th {\n",
       "        vertical-align: top;\n",
       "    }\n",
       "\n",
       "    .dataframe thead th {\n",
       "        text-align: right;\n",
       "    }\n",
       "</style>\n",
       "<table border=\"1\" class=\"dataframe\">\n",
       "  <thead>\n",
       "    <tr style=\"text-align: right;\">\n",
       "      <th></th>\n",
       "      <th>Recnum</th>\n",
       "      <th>Cardnum</th>\n",
       "      <th>Date</th>\n",
       "      <th>Merchnum</th>\n",
       "      <th>Merch description</th>\n",
       "      <th>Merch state</th>\n",
       "      <th>Merch zip</th>\n",
       "      <th>Transtype</th>\n",
       "      <th>Amount</th>\n",
       "      <th>Fraud</th>\n",
       "      <th>...</th>\n",
       "      <th>card_state_count_1_by_7</th>\n",
       "      <th>card_state_amount_1_by_7</th>\n",
       "      <th>card_state_count_1_by_14</th>\n",
       "      <th>card_state_amount_1_by_14</th>\n",
       "      <th>card_state_count_1_by_30</th>\n",
       "      <th>card_state_amount_1_by_30</th>\n",
       "      <th>dow</th>\n",
       "      <th>dow_risk</th>\n",
       "      <th>benford_card</th>\n",
       "      <th>benford_merch</th>\n",
       "    </tr>\n",
       "  </thead>\n",
       "  <tbody>\n",
       "    <tr>\n",
       "      <th>0</th>\n",
       "      <td>1</td>\n",
       "      <td>5142190439</td>\n",
       "      <td>2010-01-01</td>\n",
       "      <td>5509006296254</td>\n",
       "      <td>FEDEX SHP 12/23/09 AB#</td>\n",
       "      <td>TN</td>\n",
       "      <td>38118.0</td>\n",
       "      <td>P</td>\n",
       "      <td>3.62</td>\n",
       "      <td>0</td>\n",
       "      <td>...</td>\n",
       "      <td>7.0</td>\n",
       "      <td>3.601697</td>\n",
       "      <td>14.0</td>\n",
       "      <td>5.052264</td>\n",
       "      <td>30.0</td>\n",
       "      <td>6.595622</td>\n",
       "      <td>Friday</td>\n",
       "      <td>0.025994</td>\n",
       "      <td>2.178008</td>\n",
       "      <td>1.000000</td>\n",
       "    </tr>\n",
       "    <tr>\n",
       "      <th>1</th>\n",
       "      <td>2</td>\n",
       "      <td>5142183973</td>\n",
       "      <td>2010-01-01</td>\n",
       "      <td>61003026333</td>\n",
       "      <td>SERVICE MERCHANDISE #81</td>\n",
       "      <td>MA</td>\n",
       "      <td>1803.0</td>\n",
       "      <td>P</td>\n",
       "      <td>31.42</td>\n",
       "      <td>0</td>\n",
       "      <td>...</td>\n",
       "      <td>7.0</td>\n",
       "      <td>4.103679</td>\n",
       "      <td>14.0</td>\n",
       "      <td>5.990636</td>\n",
       "      <td>30.0</td>\n",
       "      <td>6.818594</td>\n",
       "      <td>Friday</td>\n",
       "      <td>0.025994</td>\n",
       "      <td>1.604857</td>\n",
       "      <td>1.000894</td>\n",
       "    </tr>\n",
       "    <tr>\n",
       "      <th>2</th>\n",
       "      <td>3</td>\n",
       "      <td>5142131721</td>\n",
       "      <td>2010-01-01</td>\n",
       "      <td>4503082993600</td>\n",
       "      <td>OFFICE DEPOT #191</td>\n",
       "      <td>MD</td>\n",
       "      <td>20706.0</td>\n",
       "      <td>P</td>\n",
       "      <td>178.49</td>\n",
       "      <td>0</td>\n",
       "      <td>...</td>\n",
       "      <td>7.0</td>\n",
       "      <td>4.097748</td>\n",
       "      <td>14.0</td>\n",
       "      <td>6.260969</td>\n",
       "      <td>30.0</td>\n",
       "      <td>8.987599</td>\n",
       "      <td>Friday</td>\n",
       "      <td>0.025994</td>\n",
       "      <td>2.368143</td>\n",
       "      <td>1.025818</td>\n",
       "    </tr>\n",
       "    <tr>\n",
       "      <th>3</th>\n",
       "      <td>4</td>\n",
       "      <td>5142148452</td>\n",
       "      <td>2010-01-01</td>\n",
       "      <td>5509006296254</td>\n",
       "      <td>FEDEX SHP 12/28/09 AB#</td>\n",
       "      <td>TN</td>\n",
       "      <td>38118.0</td>\n",
       "      <td>P</td>\n",
       "      <td>3.62</td>\n",
       "      <td>0</td>\n",
       "      <td>...</td>\n",
       "      <td>7.0</td>\n",
       "      <td>2.050805</td>\n",
       "      <td>14.0</td>\n",
       "      <td>2.324949</td>\n",
       "      <td>30.0</td>\n",
       "      <td>2.867464</td>\n",
       "      <td>Friday</td>\n",
       "      <td>0.025994</td>\n",
       "      <td>1.044105</td>\n",
       "      <td>1.000000</td>\n",
       "    </tr>\n",
       "    <tr>\n",
       "      <th>4</th>\n",
       "      <td>5</td>\n",
       "      <td>5142190439</td>\n",
       "      <td>2010-01-01</td>\n",
       "      <td>5509006296254</td>\n",
       "      <td>FEDEX SHP 12/23/09 AB#</td>\n",
       "      <td>TN</td>\n",
       "      <td>38118.0</td>\n",
       "      <td>P</td>\n",
       "      <td>3.62</td>\n",
       "      <td>0</td>\n",
       "      <td>...</td>\n",
       "      <td>7.0</td>\n",
       "      <td>3.601697</td>\n",
       "      <td>14.0</td>\n",
       "      <td>5.052264</td>\n",
       "      <td>30.0</td>\n",
       "      <td>6.595622</td>\n",
       "      <td>Friday</td>\n",
       "      <td>0.025994</td>\n",
       "      <td>2.178008</td>\n",
       "      <td>1.000000</td>\n",
       "    </tr>\n",
       "  </tbody>\n",
       "</table>\n",
       "<p>5 rows × 372 columns</p>\n",
       "</div>"
      ],
      "text/plain": [
       "   Recnum     Cardnum       Date       Merchnum        Merch description  \\\n",
       "0       1  5142190439 2010-01-01  5509006296254   FEDEX SHP 12/23/09 AB#   \n",
       "1       2  5142183973 2010-01-01    61003026333  SERVICE MERCHANDISE #81   \n",
       "2       3  5142131721 2010-01-01  4503082993600        OFFICE DEPOT #191   \n",
       "3       4  5142148452 2010-01-01  5509006296254   FEDEX SHP 12/28/09 AB#   \n",
       "4       5  5142190439 2010-01-01  5509006296254   FEDEX SHP 12/23/09 AB#   \n",
       "\n",
       "  Merch state Merch zip Transtype  Amount  Fraud  ... card_state_count_1_by_7  \\\n",
       "0          TN   38118.0         P    3.62      0  ...                     7.0   \n",
       "1          MA    1803.0         P   31.42      0  ...                     7.0   \n",
       "2          MD   20706.0         P  178.49      0  ...                     7.0   \n",
       "3          TN   38118.0         P    3.62      0  ...                     7.0   \n",
       "4          TN   38118.0         P    3.62      0  ...                     7.0   \n",
       "\n",
       "  card_state_amount_1_by_7 card_state_count_1_by_14  \\\n",
       "0                 3.601697                     14.0   \n",
       "1                 4.103679                     14.0   \n",
       "2                 4.097748                     14.0   \n",
       "3                 2.050805                     14.0   \n",
       "4                 3.601697                     14.0   \n",
       "\n",
       "   card_state_amount_1_by_14  card_state_count_1_by_30  \\\n",
       "0                   5.052264                      30.0   \n",
       "1                   5.990636                      30.0   \n",
       "2                   6.260969                      30.0   \n",
       "3                   2.324949                      30.0   \n",
       "4                   5.052264                      30.0   \n",
       "\n",
       "   card_state_amount_1_by_30     dow  dow_risk  benford_card  benford_merch  \n",
       "0                   6.595622  Friday  0.025994      2.178008       1.000000  \n",
       "1                   6.818594  Friday  0.025994      1.604857       1.000894  \n",
       "2                   8.987599  Friday  0.025994      2.368143       1.025818  \n",
       "3                   2.867464  Friday  0.025994      1.044105       1.000000  \n",
       "4                   6.595622  Friday  0.025994      2.178008       1.000000  \n",
       "\n",
       "[5 rows x 372 columns]"
      ]
     },
     "execution_count": 35,
     "metadata": {},
     "output_type": "execute_result"
    }
   ],
   "source": [
    "final.head()"
   ]
  },
  {
   "cell_type": "code",
   "execution_count": null,
   "metadata": {},
   "outputs": [],
   "source": []
  },
  {
   "cell_type": "markdown",
   "metadata": {
    "id": "UbFiT-vK3et6"
   },
   "source": [
    "## Filter"
   ]
  },
  {
   "cell_type": "code",
   "execution_count": 61,
   "metadata": {
    "ExecuteTime": {
     "end_time": "2021-05-07T12:42:16.682592Z",
     "start_time": "2021-05-07T12:42:16.375673Z"
    }
   },
   "outputs": [],
   "source": [
    "df = final.copy()"
   ]
  },
  {
   "cell_type": "code",
   "execution_count": 62,
   "metadata": {
    "ExecuteTime": {
     "end_time": "2021-05-07T12:42:18.800374Z",
     "start_time": "2021-05-07T12:42:18.219002Z"
    }
   },
   "outputs": [],
   "source": [
    "#remove the first 2 weeks and the last 2 months\n",
    "df = df[(df['Date']>'2010-01-14') & (df['Date']<'2010-11-01')]"
   ]
  },
  {
   "cell_type": "code",
   "execution_count": 63,
   "metadata": {
    "ExecuteTime": {
     "end_time": "2021-05-07T12:42:20.096555Z",
     "start_time": "2021-05-07T12:42:20.082560Z"
    }
   },
   "outputs": [],
   "source": [
    "#drop unnecessary columns, keep 'Fraud' & 'Amount'\n",
    "drop_cols = ['Recnum', 'Cardnum', 'Date', 'Merchnum', 'Merch description','Merch state', \n",
    "             'Merch zip', 'Transtype','Amount','card_merchnum', 'card_zip', 'card_state','dow']"
   ]
  },
  {
   "cell_type": "code",
   "execution_count": 64,
   "metadata": {
    "ExecuteTime": {
     "end_time": "2021-05-07T12:42:21.636117Z",
     "start_time": "2021-05-07T12:42:21.428555Z"
    }
   },
   "outputs": [],
   "source": [
    "df.drop(drop_cols, axis=1, inplace=True)"
   ]
  },
  {
   "cell_type": "code",
   "execution_count": 65,
   "metadata": {
    "ExecuteTime": {
     "end_time": "2021-05-07T12:42:22.945400Z",
     "start_time": "2021-05-07T12:42:22.921974Z"
    }
   },
   "outputs": [],
   "source": [
    "# Create KSFDR dataframe\n",
    "#each observation is a column in data\n",
    "KSFDR = pd.DataFrame()"
   ]
  },
  {
   "cell_type": "markdown",
   "metadata": {},
   "source": [
    "### Univariate KS"
   ]
  },
  {
   "cell_type": "code",
   "execution_count": 66,
   "metadata": {
    "ExecuteTime": {
     "end_time": "2021-05-07T12:42:24.511970Z",
     "start_time": "2021-05-07T12:42:24.233536Z"
    }
   },
   "outputs": [],
   "source": [
    "goods=df[df['Fraud']==0]\n",
    "bads=df[df['Fraud']==1]"
   ]
  },
  {
   "cell_type": "code",
   "execution_count": 67,
   "metadata": {
    "ExecuteTime": {
     "end_time": "2021-05-07T12:42:36.161824Z",
     "start_time": "2021-05-07T12:42:26.088935Z"
    },
    "colab": {
     "base_uri": "https://localhost:8080/",
     "height": 404
    },
    "id": "ktWQE3PT4rC5",
    "outputId": "b28fa9e8-ae50-4ab3-e00b-fc957cefd7d2"
   },
   "outputs": [
    {
     "data": {
      "text/html": [
       "<div>\n",
       "<style scoped>\n",
       "    .dataframe tbody tr th:only-of-type {\n",
       "        vertical-align: middle;\n",
       "    }\n",
       "\n",
       "    .dataframe tbody tr th {\n",
       "        vertical-align: top;\n",
       "    }\n",
       "\n",
       "    .dataframe thead th {\n",
       "        text-align: right;\n",
       "    }\n",
       "</style>\n",
       "<table border=\"1\" class=\"dataframe\">\n",
       "  <thead>\n",
       "    <tr style=\"text-align: right;\">\n",
       "      <th></th>\n",
       "      <th>variable</th>\n",
       "      <th>ks</th>\n",
       "    </tr>\n",
       "  </thead>\n",
       "  <tbody>\n",
       "    <tr>\n",
       "      <th>0</th>\n",
       "      <td>Fraud</td>\n",
       "      <td>1.000000</td>\n",
       "    </tr>\n",
       "    <tr>\n",
       "      <th>1</th>\n",
       "      <td>Cardnum_day_since</td>\n",
       "      <td>0.291223</td>\n",
       "    </tr>\n",
       "    <tr>\n",
       "      <th>2</th>\n",
       "      <td>Cardnum_count_0</td>\n",
       "      <td>0.339447</td>\n",
       "    </tr>\n",
       "    <tr>\n",
       "      <th>3</th>\n",
       "      <td>ave_amount_Cardnum_count_0</td>\n",
       "      <td>0.464299</td>\n",
       "    </tr>\n",
       "    <tr>\n",
       "      <th>4</th>\n",
       "      <td>max_amount_Cardnum_count_0</td>\n",
       "      <td>0.453079</td>\n",
       "    </tr>\n",
       "    <tr>\n",
       "      <th>...</th>\n",
       "      <td>...</td>\n",
       "      <td>...</td>\n",
       "    </tr>\n",
       "    <tr>\n",
       "      <th>354</th>\n",
       "      <td>card_state_count_1_by_30</td>\n",
       "      <td>0.185064</td>\n",
       "    </tr>\n",
       "    <tr>\n",
       "      <th>355</th>\n",
       "      <td>card_state_amount_1_by_30</td>\n",
       "      <td>0.267133</td>\n",
       "    </tr>\n",
       "    <tr>\n",
       "      <th>356</th>\n",
       "      <td>dow_risk</td>\n",
       "      <td>0.134586</td>\n",
       "    </tr>\n",
       "    <tr>\n",
       "      <th>357</th>\n",
       "      <td>benford_card</td>\n",
       "      <td>0.439728</td>\n",
       "    </tr>\n",
       "    <tr>\n",
       "      <th>358</th>\n",
       "      <td>benford_merch</td>\n",
       "      <td>0.217778</td>\n",
       "    </tr>\n",
       "  </tbody>\n",
       "</table>\n",
       "<p>359 rows × 2 columns</p>\n",
       "</div>"
      ],
      "text/plain": [
       "                       variable        ks\n",
       "0                         Fraud  1.000000\n",
       "1             Cardnum_day_since  0.291223\n",
       "2               Cardnum_count_0  0.339447\n",
       "3    ave_amount_Cardnum_count_0  0.464299\n",
       "4    max_amount_Cardnum_count_0  0.453079\n",
       "..                          ...       ...\n",
       "354    card_state_count_1_by_30  0.185064\n",
       "355   card_state_amount_1_by_30  0.267133\n",
       "356                    dow_risk  0.134586\n",
       "357                benford_card  0.439728\n",
       "358               benford_merch  0.217778\n",
       "\n",
       "[359 rows x 2 columns]"
      ]
     },
     "execution_count": 67,
     "metadata": {},
     "output_type": "execute_result"
    }
   ],
   "source": [
    "i = 0\n",
    "for column in goods.columns:\n",
    "    KSFDR.loc[i,'variable'] = column\n",
    "    KSFDR.loc[i,'ks'] = sps.ks_2samp(goods[column],bads[column])[0]\n",
    "    i = i+1\n",
    "KSFDR"
   ]
  },
  {
   "cell_type": "markdown",
   "metadata": {},
   "source": [
    "### Univariate FDR at 3%"
   ]
  },
  {
   "cell_type": "code",
   "execution_count": 68,
   "metadata": {
    "ExecuteTime": {
     "end_time": "2021-05-07T12:42:55.294836Z",
     "start_time": "2021-05-07T12:42:55.271422Z"
    },
    "id": "zSqRd_ZG5j4k"
   },
   "outputs": [],
   "source": [
    "listvars = goods.columns\n",
    "listvars=listvars.drop('Fraud')"
   ]
  },
  {
   "cell_type": "code",
   "execution_count": 69,
   "metadata": {
    "ExecuteTime": {
     "end_time": "2021-05-07T12:43:57.639756Z",
     "start_time": "2021-05-07T12:43:48.216144Z"
    },
    "id": "q5_R4MjT5vyN"
   },
   "outputs": [],
   "source": [
    "numbads = len(df[df['Fraud']==1])\n",
    "\n",
    "j = 1\n",
    "topRows = int(round(len(final)*0.03))\n",
    "for column in listvars:\n",
    "    temp = df[[column,'Fraud']].copy()\n",
    "    temp0 = temp.sort_values(column,ascending=False)\n",
    "    temp1 = temp0.head(topRows)\n",
    "    temp2 = temp0.tail(topRows)\n",
    "    needed1 = temp1.loc[:,'Fraud']\n",
    "    needed2 = temp2.loc[:,'Fraud']\n",
    "    FDR1 = sum(needed1)/numbads\n",
    "    FDR2 = sum(needed2)/numbads\n",
    "    FDRate = np.maximum(FDR1,FDR2)\n",
    "    KSFDR.loc[j, 'FDR'] = FDRate\n",
    "    j = j + 1"
   ]
  },
  {
   "cell_type": "code",
   "execution_count": 70,
   "metadata": {
    "ExecuteTime": {
     "end_time": "2021-05-07T12:44:00.935301Z",
     "start_time": "2021-05-07T12:44:00.886949Z"
    },
    "colab": {
     "base_uri": "https://localhost:8080/",
     "height": 404
    },
    "id": "fDsVm5tZ6Fea",
    "outputId": "0ac11bf7-4287-4056-c3b4-87c86c0e3d6a"
   },
   "outputs": [
    {
     "data": {
      "text/html": [
       "<div>\n",
       "<style scoped>\n",
       "    .dataframe tbody tr th:only-of-type {\n",
       "        vertical-align: middle;\n",
       "    }\n",
       "\n",
       "    .dataframe tbody tr th {\n",
       "        vertical-align: top;\n",
       "    }\n",
       "\n",
       "    .dataframe thead th {\n",
       "        text-align: right;\n",
       "    }\n",
       "</style>\n",
       "<table border=\"1\" class=\"dataframe\">\n",
       "  <thead>\n",
       "    <tr style=\"text-align: right;\">\n",
       "      <th></th>\n",
       "      <th>variable</th>\n",
       "      <th>ks</th>\n",
       "      <th>FDR</th>\n",
       "    </tr>\n",
       "  </thead>\n",
       "  <tbody>\n",
       "    <tr>\n",
       "      <th>0</th>\n",
       "      <td>Fraud</td>\n",
       "      <td>1.000000</td>\n",
       "      <td>1.000000</td>\n",
       "    </tr>\n",
       "    <tr>\n",
       "      <th>1</th>\n",
       "      <td>Cardnum_day_since</td>\n",
       "      <td>0.291223</td>\n",
       "      <td>0.024194</td>\n",
       "    </tr>\n",
       "    <tr>\n",
       "      <th>2</th>\n",
       "      <td>Cardnum_count_0</td>\n",
       "      <td>0.339447</td>\n",
       "      <td>0.209677</td>\n",
       "    </tr>\n",
       "    <tr>\n",
       "      <th>3</th>\n",
       "      <td>ave_amount_Cardnum_count_0</td>\n",
       "      <td>0.464299</td>\n",
       "      <td>0.384793</td>\n",
       "    </tr>\n",
       "    <tr>\n",
       "      <th>4</th>\n",
       "      <td>max_amount_Cardnum_count_0</td>\n",
       "      <td>0.453079</td>\n",
       "      <td>0.203917</td>\n",
       "    </tr>\n",
       "    <tr>\n",
       "      <th>...</th>\n",
       "      <td>...</td>\n",
       "      <td>...</td>\n",
       "      <td>...</td>\n",
       "    </tr>\n",
       "    <tr>\n",
       "      <th>354</th>\n",
       "      <td>card_state_count_1_by_30</td>\n",
       "      <td>0.185064</td>\n",
       "      <td>0.082949</td>\n",
       "    </tr>\n",
       "    <tr>\n",
       "      <th>355</th>\n",
       "      <td>card_state_amount_1_by_30</td>\n",
       "      <td>0.267133</td>\n",
       "      <td>0.087558</td>\n",
       "    </tr>\n",
       "    <tr>\n",
       "      <th>356</th>\n",
       "      <td>dow_risk</td>\n",
       "      <td>0.134586</td>\n",
       "      <td>0.088710</td>\n",
       "    </tr>\n",
       "    <tr>\n",
       "      <th>357</th>\n",
       "      <td>benford_card</td>\n",
       "      <td>0.439728</td>\n",
       "      <td>0.258065</td>\n",
       "    </tr>\n",
       "    <tr>\n",
       "      <th>358</th>\n",
       "      <td>benford_merch</td>\n",
       "      <td>0.217778</td>\n",
       "      <td>0.225806</td>\n",
       "    </tr>\n",
       "  </tbody>\n",
       "</table>\n",
       "<p>359 rows × 3 columns</p>\n",
       "</div>"
      ],
      "text/plain": [
       "                       variable        ks       FDR\n",
       "0                         Fraud  1.000000  1.000000\n",
       "1             Cardnum_day_since  0.291223  0.024194\n",
       "2               Cardnum_count_0  0.339447  0.209677\n",
       "3    ave_amount_Cardnum_count_0  0.464299  0.384793\n",
       "4    max_amount_Cardnum_count_0  0.453079  0.203917\n",
       "..                          ...       ...       ...\n",
       "354    card_state_count_1_by_30  0.185064  0.082949\n",
       "355   card_state_amount_1_by_30  0.267133  0.087558\n",
       "356                    dow_risk  0.134586  0.088710\n",
       "357                benford_card  0.439728  0.258065\n",
       "358               benford_merch  0.217778  0.225806\n",
       "\n",
       "[359 rows x 3 columns]"
      ]
     },
     "execution_count": 70,
     "metadata": {},
     "output_type": "execute_result"
    }
   ],
   "source": [
    "KSFDR.loc[0,'FDR']=1\n",
    "KSFDR"
   ]
  },
  {
   "cell_type": "code",
   "execution_count": 71,
   "metadata": {
    "ExecuteTime": {
     "end_time": "2021-05-07T12:46:24.131571Z",
     "start_time": "2021-05-07T12:46:24.056201Z"
    },
    "id": "hOXBickk6SRG"
   },
   "outputs": [],
   "source": [
    "KSFDR['rank_ks'] = KSFDR['ks'].rank(ascending = True)\n",
    "KSFDR['rank_FDR'] = KSFDR['FDR'].rank(ascending = True)\n",
    "KSFDR['average_rank'] = (KSFDR['rank_ks'] + KSFDR['rank_FDR']) / 2\n",
    "KSFDR.sort_values(by=['average_rank'], ascending=False, inplace=True)"
   ]
  },
  {
   "cell_type": "code",
   "execution_count": 72,
   "metadata": {
    "ExecuteTime": {
     "end_time": "2021-05-07T12:46:30.045690Z",
     "start_time": "2021-05-07T12:46:29.928802Z"
    }
   },
   "outputs": [
    {
     "data": {
      "text/html": [
       "<div>\n",
       "<style scoped>\n",
       "    .dataframe tbody tr th:only-of-type {\n",
       "        vertical-align: middle;\n",
       "    }\n",
       "\n",
       "    .dataframe tbody tr th {\n",
       "        vertical-align: top;\n",
       "    }\n",
       "\n",
       "    .dataframe thead th {\n",
       "        text-align: right;\n",
       "    }\n",
       "</style>\n",
       "<table border=\"1\" class=\"dataframe\">\n",
       "  <thead>\n",
       "    <tr style=\"text-align: right;\">\n",
       "      <th></th>\n",
       "      <th>variable</th>\n",
       "      <th>ks</th>\n",
       "      <th>FDR</th>\n",
       "      <th>rank_ks</th>\n",
       "      <th>rank_FDR</th>\n",
       "      <th>average_rank</th>\n",
       "    </tr>\n",
       "  </thead>\n",
       "  <tbody>\n",
       "    <tr>\n",
       "      <th>0</th>\n",
       "      <td>Fraud</td>\n",
       "      <td>1.000000</td>\n",
       "      <td>1.000000</td>\n",
       "      <td>359.0</td>\n",
       "      <td>359.0</td>\n",
       "      <td>359.00</td>\n",
       "    </tr>\n",
       "    <tr>\n",
       "      <th>101</th>\n",
       "      <td>ave_amount_card_zip_count_1</td>\n",
       "      <td>0.620377</td>\n",
       "      <td>0.390553</td>\n",
       "      <td>354.0</td>\n",
       "      <td>326.5</td>\n",
       "      <td>340.25</td>\n",
       "    </tr>\n",
       "    <tr>\n",
       "      <th>111</th>\n",
       "      <td>ave_amount_card_zip_count_7</td>\n",
       "      <td>0.611480</td>\n",
       "      <td>0.394009</td>\n",
       "      <td>348.0</td>\n",
       "      <td>328.0</td>\n",
       "      <td>338.00</td>\n",
       "    </tr>\n",
       "    <tr>\n",
       "      <th>106</th>\n",
       "      <td>ave_amount_card_zip_count_3</td>\n",
       "      <td>0.614635</td>\n",
       "      <td>0.388249</td>\n",
       "      <td>350.0</td>\n",
       "      <td>325.0</td>\n",
       "      <td>337.50</td>\n",
       "    </tr>\n",
       "    <tr>\n",
       "      <th>132</th>\n",
       "      <td>ave_amount_card_state_count_1</td>\n",
       "      <td>0.599873</td>\n",
       "      <td>0.471198</td>\n",
       "      <td>336.0</td>\n",
       "      <td>339.0</td>\n",
       "      <td>337.50</td>\n",
       "    </tr>\n",
       "    <tr>\n",
       "      <th>...</th>\n",
       "      <td>...</td>\n",
       "      <td>...</td>\n",
       "      <td>...</td>\n",
       "      <td>...</td>\n",
       "      <td>...</td>\n",
       "      <td>...</td>\n",
       "    </tr>\n",
       "    <tr>\n",
       "      <th>297</th>\n",
       "      <td>Merchnum_amount_0_by_14</td>\n",
       "      <td>0.153507</td>\n",
       "      <td>0.010369</td>\n",
       "      <td>61.0</td>\n",
       "      <td>24.0</td>\n",
       "      <td>42.50</td>\n",
       "    </tr>\n",
       "    <tr>\n",
       "      <th>252</th>\n",
       "      <td>act/mean_amount_card_state_count_0</td>\n",
       "      <td>0.105880</td>\n",
       "      <td>0.021889</td>\n",
       "      <td>27.5</td>\n",
       "      <td>54.5</td>\n",
       "      <td>41.00</td>\n",
       "    </tr>\n",
       "    <tr>\n",
       "      <th>254</th>\n",
       "      <td>act/sum_amount_card_state_count_0</td>\n",
       "      <td>0.105880</td>\n",
       "      <td>0.021889</td>\n",
       "      <td>27.5</td>\n",
       "      <td>54.5</td>\n",
       "      <td>41.00</td>\n",
       "    </tr>\n",
       "    <tr>\n",
       "      <th>299</th>\n",
       "      <td>Merchnum_amount_0_by_30</td>\n",
       "      <td>0.148993</td>\n",
       "      <td>0.010369</td>\n",
       "      <td>57.0</td>\n",
       "      <td>24.0</td>\n",
       "      <td>40.50</td>\n",
       "    </tr>\n",
       "    <tr>\n",
       "      <th>303</th>\n",
       "      <td>Merchnum_amount_1_by_7</td>\n",
       "      <td>0.149827</td>\n",
       "      <td>0.005760</td>\n",
       "      <td>58.0</td>\n",
       "      <td>14.5</td>\n",
       "      <td>36.25</td>\n",
       "    </tr>\n",
       "  </tbody>\n",
       "</table>\n",
       "<p>359 rows × 6 columns</p>\n",
       "</div>"
      ],
      "text/plain": [
       "                               variable        ks       FDR  rank_ks  \\\n",
       "0                                 Fraud  1.000000  1.000000    359.0   \n",
       "101         ave_amount_card_zip_count_1  0.620377  0.390553    354.0   \n",
       "111         ave_amount_card_zip_count_7  0.611480  0.394009    348.0   \n",
       "106         ave_amount_card_zip_count_3  0.614635  0.388249    350.0   \n",
       "132       ave_amount_card_state_count_1  0.599873  0.471198    336.0   \n",
       "..                                  ...       ...       ...      ...   \n",
       "297             Merchnum_amount_0_by_14  0.153507  0.010369     61.0   \n",
       "252  act/mean_amount_card_state_count_0  0.105880  0.021889     27.5   \n",
       "254   act/sum_amount_card_state_count_0  0.105880  0.021889     27.5   \n",
       "299             Merchnum_amount_0_by_30  0.148993  0.010369     57.0   \n",
       "303              Merchnum_amount_1_by_7  0.149827  0.005760     58.0   \n",
       "\n",
       "     rank_FDR  average_rank  \n",
       "0       359.0        359.00  \n",
       "101     326.5        340.25  \n",
       "111     328.0        338.00  \n",
       "106     325.0        337.50  \n",
       "132     339.0        337.50  \n",
       "..        ...           ...  \n",
       "297      24.0         42.50  \n",
       "252      54.5         41.00  \n",
       "254      54.5         41.00  \n",
       "299      24.0         40.50  \n",
       "303      14.5         36.25  \n",
       "\n",
       "[359 rows x 6 columns]"
      ]
     },
     "execution_count": 72,
     "metadata": {},
     "output_type": "execute_result"
    }
   ],
   "source": [
    "KSFDR"
   ]
  },
  {
   "cell_type": "code",
   "execution_count": 78,
   "metadata": {
    "ExecuteTime": {
     "end_time": "2021-05-07T12:48:04.365660Z",
     "start_time": "2021-05-07T12:48:04.338924Z"
    }
   },
   "outputs": [],
   "source": [
    "top80list = KSFDR.iloc[1:81]['variable'].values.tolist()"
   ]
  },
  {
   "cell_type": "code",
   "execution_count": 79,
   "metadata": {
    "ExecuteTime": {
     "end_time": "2021-05-07T12:48:10.871716Z",
     "start_time": "2021-05-07T12:48:10.823426Z"
    }
   },
   "outputs": [
    {
     "data": {
      "text/plain": [
       "['ave_amount_card_zip_count_1',\n",
       " 'ave_amount_card_zip_count_7',\n",
       " 'ave_amount_card_zip_count_3',\n",
       " 'ave_amount_card_state_count_1',\n",
       " 'ave_amount_card_state_count_0',\n",
       " 'median_amount_card_state_count_3',\n",
       " 'median_amount_card_state_count_1',\n",
       " 'max_amount_card_merchnum_count_7',\n",
       " 'max_amount_card_merchnum_count_0',\n",
       " 'max_amount_card_merchnum_count_1',\n",
       " 'max_amount_card_merchnum_count_3',\n",
       " 'max_amount_card_merchnum_count_30',\n",
       " 'max_amount_card_merchnum_count_14',\n",
       " 'ave_amount_card_state_count_3',\n",
       " 'max_amount_card_zip_count_0',\n",
       " 'max_amount_card_zip_count_1',\n",
       " 'max_amount_card_zip_count_30',\n",
       " 'max_amount_card_zip_count_3',\n",
       " 'max_amount_card_zip_count_7',\n",
       " 'ave_amount_card_zip_count_0',\n",
       " 'max_amount_card_zip_count_14',\n",
       " 'ave_amount_card_state_count_30',\n",
       " 'ave_amount_card_state_count_14',\n",
       " 'ave_amount_card_state_count_7',\n",
       " 'ave_amount_card_merchnum_count_1',\n",
       " 'ave_amount_card_zip_count_30',\n",
       " 'ave_amount_card_merchnum_count_3',\n",
       " 'median_amount_card_zip_count_0',\n",
       " 'median_amount_card_state_count_0',\n",
       " 'median_amount_card_zip_count_3',\n",
       " 'median_amount_card_state_count_7',\n",
       " 'ave_amount_card_zip_count_14',\n",
       " 'median_amount_card_zip_count_1',\n",
       " 'ave_amount_card_merchnum_count_7',\n",
       " 'sum_amount_card_merchnum_count_1',\n",
       " 'median_amount_card_zip_count_14',\n",
       " 'ave_amount_card_merchnum_count_0',\n",
       " 'sum_amount_card_merchnum_count_3',\n",
       " 'max_amount_card_state_count_3',\n",
       " 'max_amount_card_state_count_1',\n",
       " 'max_amount_card_state_count_0',\n",
       " 'max_amount_card_state_count_7',\n",
       " 'max_amount_card_state_count_30',\n",
       " 'max_amount_card_state_count_14',\n",
       " 'median_amount_card_zip_count_7',\n",
       " 'median_amount_card_merchnum_count_0',\n",
       " 'sum_amount_card_merchnum_count_14',\n",
       " 'ave_amount_card_merchnum_count_30',\n",
       " 'ave_amount_card_merchnum_count_14',\n",
       " 'median_amount_card_merchnum_count_1',\n",
       " 'sum_amount_card_zip_count_3',\n",
       " 'median_amount_card_state_count_14',\n",
       " 'median_amount_card_merchnum_count_3',\n",
       " 'median_amount_card_zip_count_30',\n",
       " 'sum_amount_card_merchnum_count_0',\n",
       " 'sum_amount_card_merchnum_count_7',\n",
       " 'ave_amount_Cardnum_count_1',\n",
       " 'sum_amount_card_zip_count_7',\n",
       " 'median_amount_card_merchnum_count_14',\n",
       " 'median_amount_card_merchnum_count_30',\n",
       " 'median_amount_card_state_count_30',\n",
       " 'ave_amount_Cardnum_count_3',\n",
       " 'ave_amount_Cardnum_count_7',\n",
       " 'median_amount_card_merchnum_count_7',\n",
       " 'sum_amount_card_merchnum_count_30',\n",
       " 'sum_amount_card_zip_count_0',\n",
       " 'sum_amount_card_zip_count_1',\n",
       " 'ave_amount_Cardnum_count_0',\n",
       " 'sum_amount_card_zip_count_14',\n",
       " 'ave_amount_Cardnum_count_14',\n",
       " 'sum_amount_card_state_count_1',\n",
       " 'ave_amount_Cardnum_count_30',\n",
       " 'sum_amount_card_state_count_3',\n",
       " 'sum_amount_card_state_count_0',\n",
       " 'act/median_amount_Merchnum_count_30',\n",
       " 'sum_amount_card_state_count_7',\n",
       " 'sum_amount_card_zip_count_30',\n",
       " 'sum_amount_card_state_count_14',\n",
       " 'sum_amount_Cardnum_count_1',\n",
       " 'act/median_amount_Merchnum_count_14']"
      ]
     },
     "execution_count": 79,
     "metadata": {},
     "output_type": "execute_result"
    }
   ],
   "source": [
    "top80list"
   ]
  },
  {
   "cell_type": "code",
   "execution_count": 81,
   "metadata": {
    "ExecuteTime": {
     "end_time": "2021-05-07T12:48:30.353651Z",
     "start_time": "2021-05-07T12:48:30.255162Z"
    },
    "id": "PPmdLgLLBewD"
   },
   "outputs": [],
   "source": [
    "top80=df[top80list]"
   ]
  },
  {
   "cell_type": "code",
   "execution_count": 82,
   "metadata": {
    "ExecuteTime": {
     "end_time": "2021-05-07T12:48:36.183238Z",
     "start_time": "2021-05-07T12:48:35.970421Z"
    },
    "colab": {
     "base_uri": "https://localhost:8080/",
     "height": 424
    },
    "id": "5zzXqK50HwDt",
    "outputId": "4800848d-5f74-4855-d125-9d0f07526827"
   },
   "outputs": [
    {
     "data": {
      "text/html": [
       "<div>\n",
       "<style scoped>\n",
       "    .dataframe tbody tr th:only-of-type {\n",
       "        vertical-align: middle;\n",
       "    }\n",
       "\n",
       "    .dataframe tbody tr th {\n",
       "        vertical-align: top;\n",
       "    }\n",
       "\n",
       "    .dataframe thead th {\n",
       "        text-align: right;\n",
       "    }\n",
       "</style>\n",
       "<table border=\"1\" class=\"dataframe\">\n",
       "  <thead>\n",
       "    <tr style=\"text-align: right;\">\n",
       "      <th></th>\n",
       "      <th>ave_amount_card_zip_count_1</th>\n",
       "      <th>ave_amount_card_zip_count_7</th>\n",
       "      <th>ave_amount_card_zip_count_3</th>\n",
       "      <th>ave_amount_card_state_count_1</th>\n",
       "      <th>ave_amount_card_state_count_0</th>\n",
       "      <th>median_amount_card_state_count_3</th>\n",
       "      <th>median_amount_card_state_count_1</th>\n",
       "      <th>max_amount_card_merchnum_count_7</th>\n",
       "      <th>max_amount_card_merchnum_count_0</th>\n",
       "      <th>max_amount_card_merchnum_count_1</th>\n",
       "      <th>...</th>\n",
       "      <th>sum_amount_card_state_count_1</th>\n",
       "      <th>ave_amount_Cardnum_count_30</th>\n",
       "      <th>sum_amount_card_state_count_3</th>\n",
       "      <th>sum_amount_card_state_count_0</th>\n",
       "      <th>act/median_amount_Merchnum_count_30</th>\n",
       "      <th>sum_amount_card_state_count_7</th>\n",
       "      <th>sum_amount_card_zip_count_30</th>\n",
       "      <th>sum_amount_card_state_count_14</th>\n",
       "      <th>sum_amount_Cardnum_count_1</th>\n",
       "      <th>act/median_amount_Merchnum_count_14</th>\n",
       "    </tr>\n",
       "  </thead>\n",
       "  <tbody>\n",
       "    <tr>\n",
       "      <th>3344</th>\n",
       "      <td>388.846818</td>\n",
       "      <td>403.836857</td>\n",
       "      <td>351.452308</td>\n",
       "      <td>401.771071</td>\n",
       "      <td>401.771071</td>\n",
       "      <td>234.88</td>\n",
       "      <td>254.465</td>\n",
       "      <td>1602.81</td>\n",
       "      <td>1602.81</td>\n",
       "      <td>1602.81</td>\n",
       "      <td>...</td>\n",
       "      <td>11249.59</td>\n",
       "      <td>481.111228</td>\n",
       "      <td>12521.12</td>\n",
       "      <td>11249.59</td>\n",
       "      <td>1.678512</td>\n",
       "      <td>17912.65</td>\n",
       "      <td>23550.930000</td>\n",
       "      <td>22849.72</td>\n",
       "      <td>577398.84</td>\n",
       "      <td>1.678512</td>\n",
       "    </tr>\n",
       "    <tr>\n",
       "      <th>3345</th>\n",
       "      <td>5.158783</td>\n",
       "      <td>5.286674</td>\n",
       "      <td>5.258034</td>\n",
       "      <td>5.158783</td>\n",
       "      <td>4.997035</td>\n",
       "      <td>3.80</td>\n",
       "      <td>3.800</td>\n",
       "      <td>41.25</td>\n",
       "      <td>41.25</td>\n",
       "      <td>41.25</td>\n",
       "      <td>...</td>\n",
       "      <td>82298.07</td>\n",
       "      <td>7.469275</td>\n",
       "      <td>142066.83</td>\n",
       "      <td>59909.45</td>\n",
       "      <td>1.168449</td>\n",
       "      <td>280907.43</td>\n",
       "      <td>861019.430001</td>\n",
       "      <td>495569.22</td>\n",
       "      <td>109586.82</td>\n",
       "      <td>1.168449</td>\n",
       "    </tr>\n",
       "    <tr>\n",
       "      <th>3346</th>\n",
       "      <td>303.658805</td>\n",
       "      <td>312.223341</td>\n",
       "      <td>311.070961</td>\n",
       "      <td>326.337446</td>\n",
       "      <td>336.228780</td>\n",
       "      <td>168.73</td>\n",
       "      <td>171.390</td>\n",
       "      <td>718.71</td>\n",
       "      <td>718.71</td>\n",
       "      <td>718.71</td>\n",
       "      <td>...</td>\n",
       "      <td>166105.76</td>\n",
       "      <td>473.955062</td>\n",
       "      <td>239008.15</td>\n",
       "      <td>112972.87</td>\n",
       "      <td>1.635472</td>\n",
       "      <td>387335.21</td>\n",
       "      <td>362346.110000</td>\n",
       "      <td>665880.68</td>\n",
       "      <td>2639416.98</td>\n",
       "      <td>1.690266</td>\n",
       "    </tr>\n",
       "    <tr>\n",
       "      <th>3347</th>\n",
       "      <td>5.158783</td>\n",
       "      <td>5.286674</td>\n",
       "      <td>5.258034</td>\n",
       "      <td>5.158783</td>\n",
       "      <td>4.997035</td>\n",
       "      <td>3.80</td>\n",
       "      <td>3.800</td>\n",
       "      <td>41.25</td>\n",
       "      <td>41.25</td>\n",
       "      <td>41.25</td>\n",
       "      <td>...</td>\n",
       "      <td>82298.07</td>\n",
       "      <td>7.469275</td>\n",
       "      <td>142066.83</td>\n",
       "      <td>59909.45</td>\n",
       "      <td>0.967914</td>\n",
       "      <td>280907.43</td>\n",
       "      <td>861019.430001</td>\n",
       "      <td>495569.22</td>\n",
       "      <td>109586.82</td>\n",
       "      <td>0.967914</td>\n",
       "    </tr>\n",
       "    <tr>\n",
       "      <th>3348</th>\n",
       "      <td>179.658333</td>\n",
       "      <td>194.044286</td>\n",
       "      <td>194.044286</td>\n",
       "      <td>143.050000</td>\n",
       "      <td>143.050000</td>\n",
       "      <td>150.59</td>\n",
       "      <td>126.095</td>\n",
       "      <td>280.36</td>\n",
       "      <td>280.36</td>\n",
       "      <td>280.36</td>\n",
       "      <td>...</td>\n",
       "      <td>1144.40</td>\n",
       "      <td>257.354815</td>\n",
       "      <td>1424.76</td>\n",
       "      <td>1144.40</td>\n",
       "      <td>0.135678</td>\n",
       "      <td>1424.76</td>\n",
       "      <td>1740.270000</td>\n",
       "      <td>1526.36</td>\n",
       "      <td>5080.26</td>\n",
       "      <td>0.109093</td>\n",
       "    </tr>\n",
       "    <tr>\n",
       "      <th>...</th>\n",
       "      <td>...</td>\n",
       "      <td>...</td>\n",
       "      <td>...</td>\n",
       "      <td>...</td>\n",
       "      <td>...</td>\n",
       "      <td>...</td>\n",
       "      <td>...</td>\n",
       "      <td>...</td>\n",
       "      <td>...</td>\n",
       "      <td>...</td>\n",
       "      <td>...</td>\n",
       "      <td>...</td>\n",
       "      <td>...</td>\n",
       "      <td>...</td>\n",
       "      <td>...</td>\n",
       "      <td>...</td>\n",
       "      <td>...</td>\n",
       "      <td>...</td>\n",
       "      <td>...</td>\n",
       "      <td>...</td>\n",
       "      <td>...</td>\n",
       "    </tr>\n",
       "    <tr>\n",
       "      <th>84294</th>\n",
       "      <td>181.385000</td>\n",
       "      <td>220.846667</td>\n",
       "      <td>220.846667</td>\n",
       "      <td>181.385000</td>\n",
       "      <td>181.385000</td>\n",
       "      <td>299.77</td>\n",
       "      <td>181.385</td>\n",
       "      <td>299.77</td>\n",
       "      <td>299.77</td>\n",
       "      <td>299.77</td>\n",
       "      <td>...</td>\n",
       "      <td>362.77</td>\n",
       "      <td>103.239578</td>\n",
       "      <td>662.54</td>\n",
       "      <td>362.77</td>\n",
       "      <td>2.611237</td>\n",
       "      <td>662.54</td>\n",
       "      <td>662.540000</td>\n",
       "      <td>662.54</td>\n",
       "      <td>31250.29</td>\n",
       "      <td>2.656358</td>\n",
       "    </tr>\n",
       "    <tr>\n",
       "      <th>84295</th>\n",
       "      <td>251.855556</td>\n",
       "      <td>228.526000</td>\n",
       "      <td>228.526000</td>\n",
       "      <td>233.324000</td>\n",
       "      <td>233.324000</td>\n",
       "      <td>179.98</td>\n",
       "      <td>179.980</td>\n",
       "      <td>691.57</td>\n",
       "      <td>691.57</td>\n",
       "      <td>691.57</td>\n",
       "      <td>...</td>\n",
       "      <td>2333.24</td>\n",
       "      <td>220.282664</td>\n",
       "      <td>2546.77</td>\n",
       "      <td>2333.24</td>\n",
       "      <td>4.378701</td>\n",
       "      <td>2546.77</td>\n",
       "      <td>4304.630000</td>\n",
       "      <td>3069.79</td>\n",
       "      <td>17104.87</td>\n",
       "      <td>4.427056</td>\n",
       "    </tr>\n",
       "    <tr>\n",
       "      <th>84296</th>\n",
       "      <td>235.000000</td>\n",
       "      <td>235.000000</td>\n",
       "      <td>235.000000</td>\n",
       "      <td>235.000000</td>\n",
       "      <td>235.000000</td>\n",
       "      <td>235.00</td>\n",
       "      <td>235.000</td>\n",
       "      <td>235.00</td>\n",
       "      <td>235.00</td>\n",
       "      <td>235.00</td>\n",
       "      <td>...</td>\n",
       "      <td>235.00</td>\n",
       "      <td>590.978208</td>\n",
       "      <td>235.00</td>\n",
       "      <td>235.00</td>\n",
       "      <td>2.022897</td>\n",
       "      <td>235.00</td>\n",
       "      <td>235.000000</td>\n",
       "      <td>235.00</td>\n",
       "      <td>19163.66</td>\n",
       "      <td>2.022897</td>\n",
       "    </tr>\n",
       "    <tr>\n",
       "      <th>84297</th>\n",
       "      <td>600.000000</td>\n",
       "      <td>600.000000</td>\n",
       "      <td>600.000000</td>\n",
       "      <td>312.500000</td>\n",
       "      <td>312.500000</td>\n",
       "      <td>312.50</td>\n",
       "      <td>312.500</td>\n",
       "      <td>600.00</td>\n",
       "      <td>600.00</td>\n",
       "      <td>600.00</td>\n",
       "      <td>...</td>\n",
       "      <td>625.00</td>\n",
       "      <td>287.115510</td>\n",
       "      <td>625.00</td>\n",
       "      <td>625.00</td>\n",
       "      <td>1.000000</td>\n",
       "      <td>625.00</td>\n",
       "      <td>600.000000</td>\n",
       "      <td>625.00</td>\n",
       "      <td>9251.07</td>\n",
       "      <td>1.000000</td>\n",
       "    </tr>\n",
       "    <tr>\n",
       "      <th>84298</th>\n",
       "      <td>121.938750</td>\n",
       "      <td>121.195600</td>\n",
       "      <td>114.474286</td>\n",
       "      <td>140.612353</td>\n",
       "      <td>140.612353</td>\n",
       "      <td>60.76</td>\n",
       "      <td>60.760</td>\n",
       "      <td>365.32</td>\n",
       "      <td>365.32</td>\n",
       "      <td>365.32</td>\n",
       "      <td>...</td>\n",
       "      <td>2390.41</td>\n",
       "      <td>227.295065</td>\n",
       "      <td>2843.35</td>\n",
       "      <td>2390.41</td>\n",
       "      <td>0.261324</td>\n",
       "      <td>3469.28</td>\n",
       "      <td>4173.730000</td>\n",
       "      <td>3469.28</td>\n",
       "      <td>67666.80</td>\n",
       "      <td>0.265840</td>\n",
       "    </tr>\n",
       "  </tbody>\n",
       "</table>\n",
       "<p>80632 rows × 80 columns</p>\n",
       "</div>"
      ],
      "text/plain": [
       "       ave_amount_card_zip_count_1  ave_amount_card_zip_count_7  \\\n",
       "3344                    388.846818                   403.836857   \n",
       "3345                      5.158783                     5.286674   \n",
       "3346                    303.658805                   312.223341   \n",
       "3347                      5.158783                     5.286674   \n",
       "3348                    179.658333                   194.044286   \n",
       "...                            ...                          ...   \n",
       "84294                   181.385000                   220.846667   \n",
       "84295                   251.855556                   228.526000   \n",
       "84296                   235.000000                   235.000000   \n",
       "84297                   600.000000                   600.000000   \n",
       "84298                   121.938750                   121.195600   \n",
       "\n",
       "       ave_amount_card_zip_count_3  ave_amount_card_state_count_1  \\\n",
       "3344                    351.452308                     401.771071   \n",
       "3345                      5.258034                       5.158783   \n",
       "3346                    311.070961                     326.337446   \n",
       "3347                      5.258034                       5.158783   \n",
       "3348                    194.044286                     143.050000   \n",
       "...                            ...                            ...   \n",
       "84294                   220.846667                     181.385000   \n",
       "84295                   228.526000                     233.324000   \n",
       "84296                   235.000000                     235.000000   \n",
       "84297                   600.000000                     312.500000   \n",
       "84298                   114.474286                     140.612353   \n",
       "\n",
       "       ave_amount_card_state_count_0  median_amount_card_state_count_3  \\\n",
       "3344                      401.771071                            234.88   \n",
       "3345                        4.997035                              3.80   \n",
       "3346                      336.228780                            168.73   \n",
       "3347                        4.997035                              3.80   \n",
       "3348                      143.050000                            150.59   \n",
       "...                              ...                               ...   \n",
       "84294                     181.385000                            299.77   \n",
       "84295                     233.324000                            179.98   \n",
       "84296                     235.000000                            235.00   \n",
       "84297                     312.500000                            312.50   \n",
       "84298                     140.612353                             60.76   \n",
       "\n",
       "       median_amount_card_state_count_1  max_amount_card_merchnum_count_7  \\\n",
       "3344                            254.465                           1602.81   \n",
       "3345                              3.800                             41.25   \n",
       "3346                            171.390                            718.71   \n",
       "3347                              3.800                             41.25   \n",
       "3348                            126.095                            280.36   \n",
       "...                                 ...                               ...   \n",
       "84294                           181.385                            299.77   \n",
       "84295                           179.980                            691.57   \n",
       "84296                           235.000                            235.00   \n",
       "84297                           312.500                            600.00   \n",
       "84298                            60.760                            365.32   \n",
       "\n",
       "       max_amount_card_merchnum_count_0  max_amount_card_merchnum_count_1  \\\n",
       "3344                            1602.81                           1602.81   \n",
       "3345                              41.25                             41.25   \n",
       "3346                             718.71                            718.71   \n",
       "3347                              41.25                             41.25   \n",
       "3348                             280.36                            280.36   \n",
       "...                                 ...                               ...   \n",
       "84294                            299.77                            299.77   \n",
       "84295                            691.57                            691.57   \n",
       "84296                            235.00                            235.00   \n",
       "84297                            600.00                            600.00   \n",
       "84298                            365.32                            365.32   \n",
       "\n",
       "       ...  sum_amount_card_state_count_1  ave_amount_Cardnum_count_30  \\\n",
       "3344   ...                       11249.59                   481.111228   \n",
       "3345   ...                       82298.07                     7.469275   \n",
       "3346   ...                      166105.76                   473.955062   \n",
       "3347   ...                       82298.07                     7.469275   \n",
       "3348   ...                        1144.40                   257.354815   \n",
       "...    ...                            ...                          ...   \n",
       "84294  ...                         362.77                   103.239578   \n",
       "84295  ...                        2333.24                   220.282664   \n",
       "84296  ...                         235.00                   590.978208   \n",
       "84297  ...                         625.00                   287.115510   \n",
       "84298  ...                        2390.41                   227.295065   \n",
       "\n",
       "       sum_amount_card_state_count_3  sum_amount_card_state_count_0  \\\n",
       "3344                        12521.12                       11249.59   \n",
       "3345                       142066.83                       59909.45   \n",
       "3346                       239008.15                      112972.87   \n",
       "3347                       142066.83                       59909.45   \n",
       "3348                         1424.76                        1144.40   \n",
       "...                              ...                            ...   \n",
       "84294                         662.54                         362.77   \n",
       "84295                        2546.77                        2333.24   \n",
       "84296                         235.00                         235.00   \n",
       "84297                         625.00                         625.00   \n",
       "84298                        2843.35                        2390.41   \n",
       "\n",
       "       act/median_amount_Merchnum_count_30  sum_amount_card_state_count_7  \\\n",
       "3344                              1.678512                       17912.65   \n",
       "3345                              1.168449                      280907.43   \n",
       "3346                              1.635472                      387335.21   \n",
       "3347                              0.967914                      280907.43   \n",
       "3348                              0.135678                        1424.76   \n",
       "...                                    ...                            ...   \n",
       "84294                             2.611237                         662.54   \n",
       "84295                             4.378701                        2546.77   \n",
       "84296                             2.022897                         235.00   \n",
       "84297                             1.000000                         625.00   \n",
       "84298                             0.261324                        3469.28   \n",
       "\n",
       "       sum_amount_card_zip_count_30  sum_amount_card_state_count_14  \\\n",
       "3344                   23550.930000                        22849.72   \n",
       "3345                  861019.430001                       495569.22   \n",
       "3346                  362346.110000                       665880.68   \n",
       "3347                  861019.430001                       495569.22   \n",
       "3348                    1740.270000                         1526.36   \n",
       "...                             ...                             ...   \n",
       "84294                    662.540000                          662.54   \n",
       "84295                   4304.630000                         3069.79   \n",
       "84296                    235.000000                          235.00   \n",
       "84297                    600.000000                          625.00   \n",
       "84298                   4173.730000                         3469.28   \n",
       "\n",
       "       sum_amount_Cardnum_count_1  act/median_amount_Merchnum_count_14  \n",
       "3344                    577398.84                             1.678512  \n",
       "3345                    109586.82                             1.168449  \n",
       "3346                   2639416.98                             1.690266  \n",
       "3347                    109586.82                             0.967914  \n",
       "3348                      5080.26                             0.109093  \n",
       "...                           ...                                  ...  \n",
       "84294                    31250.29                             2.656358  \n",
       "84295                    17104.87                             4.427056  \n",
       "84296                    19163.66                             2.022897  \n",
       "84297                     9251.07                             1.000000  \n",
       "84298                    67666.80                             0.265840  \n",
       "\n",
       "[80632 rows x 80 columns]"
      ]
     },
     "execution_count": 82,
     "metadata": {},
     "output_type": "execute_result"
    }
   ],
   "source": [
    "top80"
   ]
  },
  {
   "cell_type": "code",
   "execution_count": null,
   "metadata": {},
   "outputs": [],
   "source": []
  },
  {
   "cell_type": "markdown",
   "metadata": {},
   "source": [
    "# Wrapper"
   ]
  },
  {
   "cell_type": "code",
   "execution_count": 83,
   "metadata": {
    "ExecuteTime": {
     "end_time": "2021-05-07T12:48:55.212844Z",
     "start_time": "2021-05-07T12:48:55.183309Z"
    }
   },
   "outputs": [],
   "source": [
    "Y = df['Fraud']"
   ]
  },
  {
   "cell_type": "code",
   "execution_count": 85,
   "metadata": {
    "ExecuteTime": {
     "end_time": "2021-05-07T12:49:32.196606Z",
     "start_time": "2021-05-07T12:49:32.158413Z"
    }
   },
   "outputs": [],
   "source": [
    "# definde fdr as the measure of goodenss for the wrapper\n",
    "def fdr(classifier, x, y, cutoff=0.03):\n",
    "    return fdr_prob(y, classifier.predict_proba(x), cutoff)\n",
    "\n",
    "def fdr_prob(y, y_prob, cutoff=0.03):\n",
    "    if len(y_prob.shape) != 1:\n",
    "        y_prob = y_prob[:, -1]\n",
    "    num_fraud = len(y[y==1])\n",
    "    \n",
    "    sorted_prob = np.asarray(sorted(zip(y_prob, y), key=lambda x: x[0], reverse=True))\n",
    "    \n",
    "    cutoff_bin = sorted_prob[0:int(len(y)*cutoff), 1:]\n",
    "    \n",
    "    return len(cutoff_bin[cutoff_bin == 1]) / num_fraud"
   ]
  },
  {
   "cell_type": "code",
   "execution_count": 86,
   "metadata": {
    "ExecuteTime": {
     "end_time": "2021-05-07T13:48:06.921715Z",
     "start_time": "2021-05-07T12:50:35.538773Z"
    },
    "colab": {
     "base_uri": "https://localhost:8080/"
    },
    "id": "H_ZI_VaJAh_z",
    "outputId": "2f587424-6575-41d4-cc9b-05c7069a27ea"
   },
   "outputs": [
    {
     "name": "stderr",
     "output_type": "stream",
     "text": [
      "[Parallel(n_jobs=1)]: Using backend SequentialBackend with 1 concurrent workers.\n",
      "[Parallel(n_jobs=1)]: Done   1 out of   1 | elapsed:    0.8s remaining:    0.0s\n",
      "[Parallel(n_jobs=1)]: Done  80 out of  80 | elapsed:   53.0s finished\n",
      "\n",
      "[2021-05-07 20:51:31] Features: 1/79 -- score: 0.8870967741935484[Parallel(n_jobs=1)]: Using backend SequentialBackend with 1 concurrent workers.\n",
      "[Parallel(n_jobs=1)]: Done   1 out of   1 | elapsed:    0.4s remaining:    0.0s\n",
      "[Parallel(n_jobs=1)]: Done  79 out of  79 | elapsed:   43.4s finished\n",
      "\n",
      "[2021-05-07 20:52:14] Features: 2/79 -- score: 0.9389400921658986[Parallel(n_jobs=1)]: Using backend SequentialBackend with 1 concurrent workers.\n",
      "[Parallel(n_jobs=1)]: Done   1 out of   1 | elapsed:    0.6s remaining:    0.0s\n",
      "[Parallel(n_jobs=1)]: Done  78 out of  78 | elapsed:   49.2s finished\n",
      "\n",
      "[2021-05-07 20:53:04] Features: 3/79 -- score: 0.966589861751152[Parallel(n_jobs=1)]: Using backend SequentialBackend with 1 concurrent workers.\n",
      "[Parallel(n_jobs=1)]: Done   1 out of   1 | elapsed:    0.5s remaining:    0.0s\n",
      "[Parallel(n_jobs=1)]: Done  77 out of  77 | elapsed:   52.7s finished\n",
      "\n",
      "[2021-05-07 20:53:56] Features: 4/79 -- score: 0.9700460829493087[Parallel(n_jobs=1)]: Using backend SequentialBackend with 1 concurrent workers.\n",
      "[Parallel(n_jobs=1)]: Done   1 out of   1 | elapsed:    0.5s remaining:    0.0s\n",
      "[Parallel(n_jobs=1)]: Done  76 out of  76 | elapsed:   57.8s finished\n",
      "\n",
      "[2021-05-07 20:54:54] Features: 5/79 -- score: 0.9700460829493087[Parallel(n_jobs=1)]: Using backend SequentialBackend with 1 concurrent workers.\n",
      "[Parallel(n_jobs=1)]: Done   1 out of   1 | elapsed:    0.7s remaining:    0.0s\n",
      "[Parallel(n_jobs=1)]: Done  75 out of  75 | elapsed:  1.1min finished\n",
      "\n",
      "[2021-05-07 20:55:58] Features: 6/79 -- score: 0.967741935483871[Parallel(n_jobs=1)]: Using backend SequentialBackend with 1 concurrent workers.\n",
      "[Parallel(n_jobs=1)]: Done   1 out of   1 | elapsed:    0.9s remaining:    0.0s\n",
      "[Parallel(n_jobs=1)]: Done  74 out of  74 | elapsed:  1.1min finished\n",
      "\n",
      "[2021-05-07 20:57:04] Features: 7/79 -- score: 0.966589861751152[Parallel(n_jobs=1)]: Using backend SequentialBackend with 1 concurrent workers.\n",
      "[Parallel(n_jobs=1)]: Done   1 out of   1 | elapsed:    0.9s remaining:    0.0s\n",
      "[Parallel(n_jobs=1)]: Done  73 out of  73 | elapsed:  1.2min finished\n",
      "\n",
      "[2021-05-07 20:58:17] Features: 8/79 -- score: 0.967741935483871[Parallel(n_jobs=1)]: Using backend SequentialBackend with 1 concurrent workers.\n",
      "[Parallel(n_jobs=1)]: Done   1 out of   1 | elapsed:    1.1s remaining:    0.0s\n",
      "[Parallel(n_jobs=1)]: Done  72 out of  72 | elapsed:  1.3min finished\n",
      "\n",
      "[2021-05-07 20:59:36] Features: 9/79 -- score: 0.9746543778801844[Parallel(n_jobs=1)]: Using backend SequentialBackend with 1 concurrent workers.\n",
      "[Parallel(n_jobs=1)]: Done   1 out of   1 | elapsed:    1.0s remaining:    0.0s\n",
      "[Parallel(n_jobs=1)]: Done  71 out of  71 | elapsed:  1.4min finished\n",
      "\n",
      "[2021-05-07 21:01:00] Features: 10/79 -- score: 0.9838709677419355[Parallel(n_jobs=1)]: Using backend SequentialBackend with 1 concurrent workers.\n",
      "[Parallel(n_jobs=1)]: Done   1 out of   1 | elapsed:    1.2s remaining:    0.0s\n",
      "[Parallel(n_jobs=1)]: Done  70 out of  70 | elapsed:  1.6min finished\n",
      "\n",
      "[2021-05-07 21:02:37] Features: 11/79 -- score: 0.9861751152073732[Parallel(n_jobs=1)]: Using backend SequentialBackend with 1 concurrent workers.\n",
      "[Parallel(n_jobs=1)]: Done   1 out of   1 | elapsed:    1.3s remaining:    0.0s\n",
      "[Parallel(n_jobs=1)]: Done  69 out of  69 | elapsed:  1.7min finished\n",
      "\n",
      "[2021-05-07 21:04:17] Features: 12/79 -- score: 0.9907834101382489[Parallel(n_jobs=1)]: Using backend SequentialBackend with 1 concurrent workers.\n",
      "[Parallel(n_jobs=1)]: Done   1 out of   1 | elapsed:    1.2s remaining:    0.0s\n",
      "[Parallel(n_jobs=1)]: Done  68 out of  68 | elapsed:  1.7min finished\n",
      "\n",
      "[2021-05-07 21:05:56] Features: 13/79 -- score: 0.9907834101382489[Parallel(n_jobs=1)]: Using backend SequentialBackend with 1 concurrent workers.\n",
      "[Parallel(n_jobs=1)]: Done   1 out of   1 | elapsed:    1.3s remaining:    0.0s\n",
      "[Parallel(n_jobs=1)]: Done  67 out of  67 | elapsed:  1.7min finished\n",
      "\n",
      "[2021-05-07 21:07:40] Features: 14/79 -- score: 0.9907834101382489[Parallel(n_jobs=1)]: Using backend SequentialBackend with 1 concurrent workers.\n",
      "[Parallel(n_jobs=1)]: Done   1 out of   1 | elapsed:    1.3s remaining:    0.0s\n",
      "[Parallel(n_jobs=1)]: Done  66 out of  66 | elapsed:  1.8min finished\n",
      "\n",
      "[2021-05-07 21:09:28] Features: 15/79 -- score: 0.9907834101382489[Parallel(n_jobs=1)]: Using backend SequentialBackend with 1 concurrent workers.\n",
      "[Parallel(n_jobs=1)]: Done   1 out of   1 | elapsed:    1.5s remaining:    0.0s\n",
      "[Parallel(n_jobs=1)]: Done  65 out of  65 | elapsed:  1.8min finished\n",
      "\n",
      "[2021-05-07 21:11:17] Features: 16/79 -- score: 0.9907834101382489[Parallel(n_jobs=1)]: Using backend SequentialBackend with 1 concurrent workers.\n",
      "[Parallel(n_jobs=1)]: Done   1 out of   1 | elapsed:    1.5s remaining:    0.0s\n",
      "[Parallel(n_jobs=1)]: Done  64 out of  64 | elapsed:  1.9min finished\n",
      "\n",
      "[2021-05-07 21:13:12] Features: 17/79 -- score: 0.988479262672811[Parallel(n_jobs=1)]: Using backend SequentialBackend with 1 concurrent workers.\n",
      "[Parallel(n_jobs=1)]: Done   1 out of   1 | elapsed:    2.0s remaining:    0.0s\n",
      "[Parallel(n_jobs=1)]: Done  63 out of  63 | elapsed:  2.1min finished\n",
      "\n",
      "[2021-05-07 21:15:16] Features: 18/79 -- score: 0.9861751152073732[Parallel(n_jobs=1)]: Using backend SequentialBackend with 1 concurrent workers.\n",
      "[Parallel(n_jobs=1)]: Done   1 out of   1 | elapsed:    1.7s remaining:    0.0s\n",
      "[Parallel(n_jobs=1)]: Done  62 out of  62 | elapsed:  2.0min finished\n",
      "\n",
      "[2021-05-07 21:17:17] Features: 19/79 -- score: 0.9850230414746544[Parallel(n_jobs=1)]: Using backend SequentialBackend with 1 concurrent workers.\n",
      "[Parallel(n_jobs=1)]: Done   1 out of   1 | elapsed:    2.1s remaining:    0.0s\n",
      "[Parallel(n_jobs=1)]: Done  61 out of  61 | elapsed:  2.1min finished\n",
      "\n",
      "[2021-05-07 21:19:20] Features: 20/79 -- score: 0.9850230414746544[Parallel(n_jobs=1)]: Using backend SequentialBackend with 1 concurrent workers.\n",
      "[Parallel(n_jobs=1)]: Done   1 out of   1 | elapsed:    1.8s remaining:    0.0s\n",
      "[Parallel(n_jobs=1)]: Done  60 out of  60 | elapsed:  2.1min finished\n",
      "\n",
      "[2021-05-07 21:21:29] Features: 21/79 -- score: 0.9850230414746544[Parallel(n_jobs=1)]: Using backend SequentialBackend with 1 concurrent workers.\n",
      "[Parallel(n_jobs=1)]: Done   1 out of   1 | elapsed:    1.9s remaining:    0.0s\n",
      "[Parallel(n_jobs=1)]: Done  59 out of  59 | elapsed:  2.2min finished\n",
      "\n",
      "[2021-05-07 21:23:42] Features: 22/79 -- score: 0.9850230414746544[Parallel(n_jobs=1)]: Using backend SequentialBackend with 1 concurrent workers.\n",
      "[Parallel(n_jobs=1)]: Done   1 out of   1 | elapsed:    2.4s remaining:    0.0s\n",
      "[Parallel(n_jobs=1)]: Done  58 out of  58 | elapsed:  2.4min finished\n",
      "\n",
      "[2021-05-07 21:26:06] Features: 23/79 -- score: 0.9815668202764977[Parallel(n_jobs=1)]: Using backend SequentialBackend with 1 concurrent workers.\n",
      "[Parallel(n_jobs=1)]: Done   1 out of   1 | elapsed:    2.7s remaining:    0.0s\n",
      "[Parallel(n_jobs=1)]: Done  57 out of  57 | elapsed:  2.3min finished\n",
      "\n",
      "[2021-05-07 21:28:25] Features: 24/79 -- score: 0.9815668202764977[Parallel(n_jobs=1)]: Using backend SequentialBackend with 1 concurrent workers.\n",
      "[Parallel(n_jobs=1)]: Done   1 out of   1 | elapsed:    2.2s remaining:    0.0s\n",
      "[Parallel(n_jobs=1)]: Done  56 out of  56 | elapsed:  2.3min finished\n",
      "\n",
      "[2021-05-07 21:30:45] Features: 25/79 -- score: 0.9792626728110599[Parallel(n_jobs=1)]: Using backend SequentialBackend with 1 concurrent workers.\n",
      "[Parallel(n_jobs=1)]: Done   1 out of   1 | elapsed:    2.4s remaining:    0.0s\n",
      "[Parallel(n_jobs=1)]: Done  55 out of  55 | elapsed:  2.4min finished\n",
      "\n",
      "[2021-05-07 21:33:12] Features: 26/79 -- score: 0.967741935483871[Parallel(n_jobs=1)]: Using backend SequentialBackend with 1 concurrent workers.\n",
      "[Parallel(n_jobs=1)]: Done   1 out of   1 | elapsed:    2.6s remaining:    0.0s\n",
      "[Parallel(n_jobs=1)]: Done  54 out of  54 | elapsed:  2.5min finished\n",
      "\n",
      "[2021-05-07 21:35:43] Features: 27/79 -- score: 0.967741935483871[Parallel(n_jobs=1)]: Using backend SequentialBackend with 1 concurrent workers.\n",
      "[Parallel(n_jobs=1)]: Done   1 out of   1 | elapsed:    2.7s remaining:    0.0s\n",
      "[Parallel(n_jobs=1)]: Done  53 out of  53 | elapsed:  2.5min finished\n",
      "\n",
      "[2021-05-07 21:38:12] Features: 28/79 -- score: 0.9700460829493087[Parallel(n_jobs=1)]: Using backend SequentialBackend with 1 concurrent workers.\n"
     ]
    },
    {
     "name": "stderr",
     "output_type": "stream",
     "text": [
      "[Parallel(n_jobs=1)]: Done   1 out of   1 | elapsed:    2.6s remaining:    0.0s\n",
      "[Parallel(n_jobs=1)]: Done  52 out of  52 | elapsed:  2.3min finished\n",
      "\n",
      "[2021-05-07 21:40:32] Features: 29/79 -- score: 0.9700460829493087[Parallel(n_jobs=1)]: Using backend SequentialBackend with 1 concurrent workers.\n",
      "[Parallel(n_jobs=1)]: Done   1 out of   1 | elapsed:    2.5s remaining:    0.0s\n",
      "[Parallel(n_jobs=1)]: Done  51 out of  51 | elapsed:  2.4min finished\n",
      "\n",
      "[2021-05-07 21:42:56] Features: 30/79 -- score: 0.9654377880184332[Parallel(n_jobs=1)]: Using backend SequentialBackend with 1 concurrent workers.\n",
      "[Parallel(n_jobs=1)]: Done   1 out of   1 | elapsed:    2.6s remaining:    0.0s\n",
      "[Parallel(n_jobs=1)]: Done  50 out of  50 | elapsed:  2.4min finished\n",
      "\n",
      "[2021-05-07 21:45:22] Features: 31/79 -- score: 0.9631336405529954[Parallel(n_jobs=1)]: Using backend SequentialBackend with 1 concurrent workers.\n",
      "[Parallel(n_jobs=1)]: Done   1 out of   1 | elapsed:    3.0s remaining:    0.0s\n",
      "[Parallel(n_jobs=1)]: Done  49 out of  49 | elapsed:  2.5min finished\n",
      "\n",
      "[2021-05-07 21:47:54] Features: 32/79 -- score: 0.9608294930875576[Parallel(n_jobs=1)]: Using backend SequentialBackend with 1 concurrent workers.\n",
      "[Parallel(n_jobs=1)]: Done   1 out of   1 | elapsed:    2.9s remaining:    0.0s\n"
     ]
    },
    {
     "name": "stdout",
     "output_type": "stream",
     "text": [
      "Wall time: 57min 31s\n"
     ]
    },
    {
     "name": "stderr",
     "output_type": "stream",
     "text": [
      "\n",
      "STOPPING EARLY DUE TO KEYBOARD INTERRUPT..."
     ]
    },
    {
     "data": {
      "text/plain": [
       "SequentialFeatureSelector(cv=0, estimator=DecisionTreeClassifier(max_depth=10),\n",
       "                          k_features=79,\n",
       "                          scoring=<function fdr at 0x0000024C22F9B550>,\n",
       "                          verbose=2)"
      ]
     },
     "execution_count": 86,
     "metadata": {},
     "output_type": "execute_result"
    }
   ],
   "source": [
    "%%time \n",
    "from sklearn.tree import DecisionTreeClassifier\n",
    "from sklearn.linear_model import LogisticRegression\n",
    "from mlxtend.feature_selection import SequentialFeatureSelector as SFS\n",
    "model = DecisionTreeClassifier(criterion='gini',max_depth=10)\n",
    "sfs=SFS(model, k_features=79,forward=True,verbose=2,scoring=fdr,cv=0)\n",
    "#sfs=SFS(model, k_features=79,forward=True,verbose=2,scoring='accuracy',cv=0)\n",
    "sfs.fit(top80,Y)"
   ]
  },
  {
   "cell_type": "code",
   "execution_count": null,
   "metadata": {},
   "outputs": [],
   "source": []
  },
  {
   "cell_type": "code",
   "execution_count": 87,
   "metadata": {
    "ExecuteTime": {
     "end_time": "2021-05-07T13:48:12.206502Z",
     "start_time": "2021-05-07T13:48:12.176208Z"
    },
    "id": "nrrMmi37Hk7E"
   },
   "outputs": [
    {
     "data": {
      "text/plain": [
       "('ave_amount_card_zip_count_1',\n",
       " 'ave_amount_card_zip_count_7',\n",
       " 'ave_amount_card_zip_count_3',\n",
       " 'ave_amount_card_merchnum_count_1',\n",
       " 'ave_amount_card_zip_count_30',\n",
       " 'ave_amount_card_merchnum_count_3',\n",
       " 'median_amount_card_zip_count_0',\n",
       " 'median_amount_card_zip_count_3',\n",
       " 'median_amount_card_state_count_7',\n",
       " 'ave_amount_card_zip_count_14',\n",
       " 'median_amount_card_zip_count_1',\n",
       " 'ave_amount_card_merchnum_count_7',\n",
       " 'median_amount_card_zip_count_14',\n",
       " 'median_amount_card_zip_count_7',\n",
       " 'median_amount_card_merchnum_count_0',\n",
       " 'ave_amount_card_merchnum_count_30',\n",
       " 'ave_amount_card_merchnum_count_14',\n",
       " 'median_amount_card_merchnum_count_1',\n",
       " 'median_amount_card_state_count_14',\n",
       " 'median_amount_card_merchnum_count_3',\n",
       " 'median_amount_card_zip_count_30',\n",
       " 'ave_amount_Cardnum_count_1',\n",
       " 'median_amount_card_merchnum_count_14',\n",
       " 'median_amount_card_merchnum_count_30',\n",
       " 'median_amount_card_state_count_30',\n",
       " 'ave_amount_Cardnum_count_3',\n",
       " 'ave_amount_Cardnum_count_7',\n",
       " 'median_amount_card_merchnum_count_7',\n",
       " 'ave_amount_Cardnum_count_0',\n",
       " 'ave_amount_Cardnum_count_14',\n",
       " 'ave_amount_Cardnum_count_30',\n",
       " 'sum_amount_Cardnum_count_1')"
      ]
     },
     "execution_count": 87,
     "metadata": {},
     "output_type": "execute_result"
    }
   ],
   "source": [
    "sfs.k_feature_names_"
   ]
  },
  {
   "cell_type": "code",
   "execution_count": 88,
   "metadata": {
    "ExecuteTime": {
     "end_time": "2021-05-07T13:48:19.878888Z",
     "start_time": "2021-05-07T13:48:19.771690Z"
    },
    "id": "_ciO4y29IPGU"
   },
   "outputs": [
    {
     "name": "stderr",
     "output_type": "stream",
     "text": [
      "C:\\Users\\Lin Liu\\anaconda3\\lib\\site-packages\\numpy\\core\\_methods.py:233: RuntimeWarning: Degrees of freedom <= 0 for slice\n",
      "  ret = _var(a, axis=axis, dtype=dtype, out=out, ddof=ddof,\n",
      "C:\\Users\\Lin Liu\\anaconda3\\lib\\site-packages\\numpy\\core\\_methods.py:226: RuntimeWarning: invalid value encountered in double_scalars\n",
      "  ret = ret.dtype.type(ret / rcount)\n"
     ]
    }
   ],
   "source": [
    "features=pd.DataFrame.from_dict(sfs.get_metric_dict()).T"
   ]
  },
  {
   "cell_type": "code",
   "execution_count": 100,
   "metadata": {
    "ExecuteTime": {
     "end_time": "2021-05-07T13:51:25.691330Z",
     "start_time": "2021-05-07T13:51:25.645720Z"
    }
   },
   "outputs": [],
   "source": [
    "top30list = list(features.loc[30]['feature_names'])"
   ]
  },
  {
   "cell_type": "code",
   "execution_count": 101,
   "metadata": {
    "ExecuteTime": {
     "end_time": "2021-05-07T13:51:27.604948Z",
     "start_time": "2021-05-07T13:51:27.579907Z"
    }
   },
   "outputs": [
    {
     "data": {
      "text/plain": [
       "['ave_amount_card_zip_count_1',\n",
       " 'ave_amount_card_zip_count_7',\n",
       " 'ave_amount_card_zip_count_3',\n",
       " 'ave_amount_card_zip_count_30',\n",
       " 'ave_amount_card_merchnum_count_3',\n",
       " 'median_amount_card_zip_count_0',\n",
       " 'median_amount_card_zip_count_3',\n",
       " 'median_amount_card_state_count_7',\n",
       " 'ave_amount_card_zip_count_14',\n",
       " 'median_amount_card_zip_count_1',\n",
       " 'ave_amount_card_merchnum_count_7',\n",
       " 'median_amount_card_zip_count_14',\n",
       " 'median_amount_card_zip_count_7',\n",
       " 'median_amount_card_merchnum_count_0',\n",
       " 'ave_amount_card_merchnum_count_30',\n",
       " 'ave_amount_card_merchnum_count_14',\n",
       " 'median_amount_card_merchnum_count_1',\n",
       " 'median_amount_card_state_count_14',\n",
       " 'median_amount_card_merchnum_count_3',\n",
       " 'median_amount_card_zip_count_30',\n",
       " 'ave_amount_Cardnum_count_1',\n",
       " 'median_amount_card_merchnum_count_14',\n",
       " 'median_amount_card_merchnum_count_30',\n",
       " 'median_amount_card_state_count_30',\n",
       " 'ave_amount_Cardnum_count_3',\n",
       " 'ave_amount_Cardnum_count_7',\n",
       " 'median_amount_card_merchnum_count_7',\n",
       " 'ave_amount_Cardnum_count_0',\n",
       " 'ave_amount_Cardnum_count_30',\n",
       " 'sum_amount_Cardnum_count_1']"
      ]
     },
     "execution_count": 101,
     "metadata": {},
     "output_type": "execute_result"
    }
   ],
   "source": [
    "top30list"
   ]
  },
  {
   "cell_type": "code",
   "execution_count": null,
   "metadata": {},
   "outputs": [],
   "source": [
    "# sort the top 30 by their importance\n",
    "result = features.loc[0:30]['feature_names']\n",
    "sorted30 = []\n",
    "for l in result:\n",
    "    for i in l:\n",
    "        if i not in sorted30:\n",
    "            sorted30.append(i)"
   ]
  },
  {
   "cell_type": "code",
   "execution_count": 129,
   "metadata": {
    "ExecuteTime": {
     "end_time": "2021-05-07T15:04:50.223612Z",
     "start_time": "2021-05-07T15:04:50.197681Z"
    }
   },
   "outputs": [
    {
     "data": {
      "text/plain": [
       "['ave_amount_card_merchnum_count_14',\n",
       " 'sum_amount_Cardnum_count_1',\n",
       " 'median_amount_card_merchnum_count_1',\n",
       " 'ave_amount_card_merchnum_count_30',\n",
       " 'ave_amount_card_merchnum_count_7',\n",
       " 'median_amount_card_merchnum_count_3',\n",
       " 'median_amount_card_merchnum_count_0',\n",
       " 'median_amount_card_state_count_7',\n",
       " 'median_amount_card_state_count_14',\n",
       " 'median_amount_card_zip_count_30',\n",
       " 'ave_amount_card_zip_count_7',\n",
       " 'median_amount_card_zip_count_7',\n",
       " 'median_amount_card_zip_count_14',\n",
       " 'median_amount_card_merchnum_count_30',\n",
       " 'median_amount_card_merchnum_count_7',\n",
       " 'median_amount_card_state_count_30',\n",
       " 'ave_amount_card_zip_count_1',\n",
       " 'median_amount_card_merchnum_count_14',\n",
       " 'ave_amount_card_zip_count_3',\n",
       " 'ave_amount_card_merchnum_count_3',\n",
       " 'ave_amount_card_zip_count_14',\n",
       " 'ave_amount_card_zip_count_30',\n",
       " 'median_amount_card_zip_count_3',\n",
       " 'median_amount_card_zip_count_0',\n",
       " 'median_amount_card_zip_count_1',\n",
       " 'ave_amount_Cardnum_count_0',\n",
       " 'ave_amount_Cardnum_count_3',\n",
       " 'ave_amount_Cardnum_count_1',\n",
       " 'ave_amount_Cardnum_count_7',\n",
       " 'ave_amount_Cardnum_count_30']"
      ]
     },
     "execution_count": 129,
     "metadata": {},
     "output_type": "execute_result"
    }
   ],
   "source": [
    "sorted30"
   ]
  },
  {
   "cell_type": "code",
   "execution_count": 126,
   "metadata": {
    "ExecuteTime": {
     "end_time": "2021-05-07T14:52:30.999844Z",
     "start_time": "2021-05-07T14:52:30.957956Z"
    }
   },
   "outputs": [],
   "source": [
    "top30 = final[['Recnum','Date','Fraud']+sorted30]"
   ]
  },
  {
   "cell_type": "code",
   "execution_count": 127,
   "metadata": {
    "ExecuteTime": {
     "end_time": "2021-05-07T14:52:31.970275Z",
     "start_time": "2021-05-07T14:52:31.908498Z"
    },
    "id": "mSY4lc87l1xF"
   },
   "outputs": [
    {
     "data": {
      "text/html": [
       "<div>\n",
       "<style scoped>\n",
       "    .dataframe tbody tr th:only-of-type {\n",
       "        vertical-align: middle;\n",
       "    }\n",
       "\n",
       "    .dataframe tbody tr th {\n",
       "        vertical-align: top;\n",
       "    }\n",
       "\n",
       "    .dataframe thead th {\n",
       "        text-align: right;\n",
       "    }\n",
       "</style>\n",
       "<table border=\"1\" class=\"dataframe\">\n",
       "  <thead>\n",
       "    <tr style=\"text-align: right;\">\n",
       "      <th></th>\n",
       "      <th>Recnum</th>\n",
       "      <th>Date</th>\n",
       "      <th>Fraud</th>\n",
       "      <th>ave_amount_card_merchnum_count_14</th>\n",
       "      <th>sum_amount_Cardnum_count_1</th>\n",
       "      <th>median_amount_card_merchnum_count_1</th>\n",
       "      <th>ave_amount_card_merchnum_count_30</th>\n",
       "      <th>ave_amount_card_merchnum_count_7</th>\n",
       "      <th>median_amount_card_merchnum_count_3</th>\n",
       "      <th>median_amount_card_merchnum_count_0</th>\n",
       "      <th>...</th>\n",
       "      <th>ave_amount_card_zip_count_14</th>\n",
       "      <th>ave_amount_card_zip_count_30</th>\n",
       "      <th>median_amount_card_zip_count_3</th>\n",
       "      <th>median_amount_card_zip_count_0</th>\n",
       "      <th>median_amount_card_zip_count_1</th>\n",
       "      <th>ave_amount_Cardnum_count_0</th>\n",
       "      <th>ave_amount_Cardnum_count_3</th>\n",
       "      <th>ave_amount_Cardnum_count_1</th>\n",
       "      <th>ave_amount_Cardnum_count_7</th>\n",
       "      <th>ave_amount_Cardnum_count_30</th>\n",
       "    </tr>\n",
       "  </thead>\n",
       "  <tbody>\n",
       "    <tr>\n",
       "      <th>0</th>\n",
       "      <td>1</td>\n",
       "      <td>2010-01-01</td>\n",
       "      <td>0</td>\n",
       "      <td>3.662766</td>\n",
       "      <td>38758.43</td>\n",
       "      <td>3.62</td>\n",
       "      <td>3.666297</td>\n",
       "      <td>3.655909</td>\n",
       "      <td>3.62</td>\n",
       "      <td>3.62</td>\n",
       "      <td>...</td>\n",
       "      <td>7.076372</td>\n",
       "      <td>7.666234</td>\n",
       "      <td>3.62</td>\n",
       "      <td>3.62</td>\n",
       "      <td>3.62</td>\n",
       "      <td>16.797628</td>\n",
       "      <td>30.630963</td>\n",
       "      <td>24.989317</td>\n",
       "      <td>30.223873</td>\n",
       "      <td>33.789793</td>\n",
       "    </tr>\n",
       "    <tr>\n",
       "      <th>1</th>\n",
       "      <td>2</td>\n",
       "      <td>2010-01-01</td>\n",
       "      <td>0</td>\n",
       "      <td>31.420000</td>\n",
       "      <td>818645.77</td>\n",
       "      <td>31.42</td>\n",
       "      <td>31.420000</td>\n",
       "      <td>31.420000</td>\n",
       "      <td>31.42</td>\n",
       "      <td>31.42</td>\n",
       "      <td>...</td>\n",
       "      <td>94.590000</td>\n",
       "      <td>94.590000</td>\n",
       "      <td>51.71</td>\n",
       "      <td>51.71</td>\n",
       "      <td>51.71</td>\n",
       "      <td>1284.967703</td>\n",
       "      <td>969.576929</td>\n",
       "      <td>1127.611253</td>\n",
       "      <td>775.627244</td>\n",
       "      <td>538.009019</td>\n",
       "    </tr>\n",
       "    <tr>\n",
       "      <th>2</th>\n",
       "      <td>3</td>\n",
       "      <td>2010-01-01</td>\n",
       "      <td>0</td>\n",
       "      <td>278.148571</td>\n",
       "      <td>523167.62</td>\n",
       "      <td>258.09</td>\n",
       "      <td>304.816667</td>\n",
       "      <td>294.758333</td>\n",
       "      <td>258.09</td>\n",
       "      <td>258.09</td>\n",
       "      <td>...</td>\n",
       "      <td>264.874444</td>\n",
       "      <td>289.107273</td>\n",
       "      <td>229.95</td>\n",
       "      <td>229.95</td>\n",
       "      <td>229.95</td>\n",
       "      <td>793.786176</td>\n",
       "      <td>850.361427</td>\n",
       "      <td>838.409647</td>\n",
       "      <td>853.536117</td>\n",
       "      <td>780.180688</td>\n",
       "    </tr>\n",
       "    <tr>\n",
       "      <th>3</th>\n",
       "      <td>4</td>\n",
       "      <td>2010-01-01</td>\n",
       "      <td>0</td>\n",
       "      <td>4.782699</td>\n",
       "      <td>109586.82</td>\n",
       "      <td>3.85</td>\n",
       "      <td>4.721352</td>\n",
       "      <td>4.837090</td>\n",
       "      <td>3.80</td>\n",
       "      <td>3.80</td>\n",
       "      <td>...</td>\n",
       "      <td>5.260876</td>\n",
       "      <td>5.281226</td>\n",
       "      <td>3.80</td>\n",
       "      <td>3.80</td>\n",
       "      <td>3.80</td>\n",
       "      <td>5.444532</td>\n",
       "      <td>6.599404</td>\n",
       "      <td>6.799033</td>\n",
       "      <td>7.181371</td>\n",
       "      <td>7.469275</td>\n",
       "    </tr>\n",
       "    <tr>\n",
       "      <th>4</th>\n",
       "      <td>5</td>\n",
       "      <td>2010-01-01</td>\n",
       "      <td>0</td>\n",
       "      <td>3.662766</td>\n",
       "      <td>38758.43</td>\n",
       "      <td>3.62</td>\n",
       "      <td>3.666297</td>\n",
       "      <td>3.655909</td>\n",
       "      <td>3.62</td>\n",
       "      <td>3.62</td>\n",
       "      <td>...</td>\n",
       "      <td>7.076372</td>\n",
       "      <td>7.666234</td>\n",
       "      <td>3.62</td>\n",
       "      <td>3.62</td>\n",
       "      <td>3.62</td>\n",
       "      <td>16.797628</td>\n",
       "      <td>30.630963</td>\n",
       "      <td>24.989317</td>\n",
       "      <td>30.223873</td>\n",
       "      <td>33.789793</td>\n",
       "    </tr>\n",
       "  </tbody>\n",
       "</table>\n",
       "<p>5 rows × 33 columns</p>\n",
       "</div>"
      ],
      "text/plain": [
       "   Recnum       Date  Fraud  ave_amount_card_merchnum_count_14  \\\n",
       "0       1 2010-01-01      0                           3.662766   \n",
       "1       2 2010-01-01      0                          31.420000   \n",
       "2       3 2010-01-01      0                         278.148571   \n",
       "3       4 2010-01-01      0                           4.782699   \n",
       "4       5 2010-01-01      0                           3.662766   \n",
       "\n",
       "   sum_amount_Cardnum_count_1  median_amount_card_merchnum_count_1  \\\n",
       "0                    38758.43                                 3.62   \n",
       "1                   818645.77                                31.42   \n",
       "2                   523167.62                               258.09   \n",
       "3                   109586.82                                 3.85   \n",
       "4                    38758.43                                 3.62   \n",
       "\n",
       "   ave_amount_card_merchnum_count_30  ave_amount_card_merchnum_count_7  \\\n",
       "0                           3.666297                          3.655909   \n",
       "1                          31.420000                         31.420000   \n",
       "2                         304.816667                        294.758333   \n",
       "3                           4.721352                          4.837090   \n",
       "4                           3.666297                          3.655909   \n",
       "\n",
       "   median_amount_card_merchnum_count_3  median_amount_card_merchnum_count_0  \\\n",
       "0                                 3.62                                 3.62   \n",
       "1                                31.42                                31.42   \n",
       "2                               258.09                               258.09   \n",
       "3                                 3.80                                 3.80   \n",
       "4                                 3.62                                 3.62   \n",
       "\n",
       "   ...  ave_amount_card_zip_count_14  ave_amount_card_zip_count_30  \\\n",
       "0  ...                      7.076372                      7.666234   \n",
       "1  ...                     94.590000                     94.590000   \n",
       "2  ...                    264.874444                    289.107273   \n",
       "3  ...                      5.260876                      5.281226   \n",
       "4  ...                      7.076372                      7.666234   \n",
       "\n",
       "   median_amount_card_zip_count_3  median_amount_card_zip_count_0  \\\n",
       "0                            3.62                            3.62   \n",
       "1                           51.71                           51.71   \n",
       "2                          229.95                          229.95   \n",
       "3                            3.80                            3.80   \n",
       "4                            3.62                            3.62   \n",
       "\n",
       "   median_amount_card_zip_count_1  ave_amount_Cardnum_count_0  \\\n",
       "0                            3.62                   16.797628   \n",
       "1                           51.71                 1284.967703   \n",
       "2                          229.95                  793.786176   \n",
       "3                            3.80                    5.444532   \n",
       "4                            3.62                   16.797628   \n",
       "\n",
       "   ave_amount_Cardnum_count_3  ave_amount_Cardnum_count_1  \\\n",
       "0                   30.630963                   24.989317   \n",
       "1                  969.576929                 1127.611253   \n",
       "2                  850.361427                  838.409647   \n",
       "3                    6.599404                    6.799033   \n",
       "4                   30.630963                   24.989317   \n",
       "\n",
       "   ave_amount_Cardnum_count_7  ave_amount_Cardnum_count_30  \n",
       "0                   30.223873                    33.789793  \n",
       "1                  775.627244                   538.009019  \n",
       "2                  853.536117                   780.180688  \n",
       "3                    7.181371                     7.469275  \n",
       "4                   30.223873                    33.789793  \n",
       "\n",
       "[5 rows x 33 columns]"
      ]
     },
     "execution_count": 127,
     "metadata": {},
     "output_type": "execute_result"
    }
   ],
   "source": [
    "top30.head()"
   ]
  },
  {
   "cell_type": "code",
   "execution_count": 108,
   "metadata": {
    "ExecuteTime": {
     "end_time": "2021-05-07T13:53:29.664938Z",
     "start_time": "2021-05-07T13:53:28.848592Z"
    },
    "id": "BFOvmrsQIVj0"
   },
   "outputs": [
    {
     "name": "stderr",
     "output_type": "stream",
     "text": [
      "C:\\Users\\Lin Liu\\anaconda3\\lib\\site-packages\\numpy\\core\\_methods.py:233: RuntimeWarning: Degrees of freedom <= 0 for slice\n",
      "  ret = _var(a, axis=axis, dtype=dtype, out=out, ddof=ddof,\n",
      "C:\\Users\\Lin Liu\\anaconda3\\lib\\site-packages\\numpy\\core\\_methods.py:226: RuntimeWarning: invalid value encountered in double_scalars\n",
      "  ret = ret.dtype.type(ret / rcount)\n"
     ]
    },
    {
     "data": {
      "image/png": "[encoded data removed]",
      "text/plain": [
       "<Figure size 432x288 with 1 Axes>"
      ]
     },
     "metadata": {
      "needs_background": "light"
     },
     "output_type": "display_data"
    }
   ],
   "source": [
    "from mlxtend.plotting import plot_sequential_feature_selection as plot_sfs\n",
    "import matplotlib.pyplot as plt\n",
    "fig1 = plot_sfs(sfs.get_metric_dict(),\n",
    "                kind = 'std_dev')\n",
    "plt.ylim([.8,1])\n",
    "plt.xlim(0,20)\n",
    "plt.title('Sequential Forward Selection (w, StdDev)')\n",
    "plt.grid()\n",
    "plt.show()"
   ]
  },
  {
   "cell_type": "code",
   "execution_count": 128,
   "metadata": {
    "ExecuteTime": {
     "end_time": "2021-05-07T14:52:44.801922Z",
     "start_time": "2021-05-07T14:52:38.481337Z"
    },
    "id": "mbvAGK4zHzt4"
   },
   "outputs": [],
   "source": [
    "top30.to_csv('top30.csv')"
   ]
  },
  {
   "cell_type": "code",
   "execution_count": null,
   "metadata": {},
   "outputs": [],
   "source": []
  }
 ],
 "metadata": {
  "colab": {
   "collapsed_sections": [],
   "machine_shape": "hm",
   "name": "project3.ipynb",
   "provenance": [],
   "toc_visible": true
  },
  "kernelspec": {
   "display_name": "Python 3",
   "language": "python",
   "name": "python3"
  },
  "language_info": {
   "codemirror_mode": {
    "name": "ipython",
    "version": 3
   },
   "file_extension": ".py",
   "mimetype": "text/x-python",
   "name": "python",
   "nbconvert_exporter": "python",
   "pygments_lexer": "ipython3",
   "version": "3.8.5"
  },
  "varInspector": {
   "cols": {
    "lenName": 16,
    "lenType": 16,
    "lenVar": 40
   },
   "kernels_config": {
    "python": {
     "delete_cmd_postfix": "",
     "delete_cmd_prefix": "del ",
     "library": "var_list.py",
     "varRefreshCmd": "print(var_dic_list())"
    },
    "r": {
     "delete_cmd_postfix": ") ",
     "delete_cmd_prefix": "rm(",
     "library": "var_list.r",
     "varRefreshCmd": "cat(var_dic_list()) "
    }
   },
   "types_to_exclude": [
    "module",
    "function",
    "builtin_function_or_method",
    "instance",
    "_Feature"
   ],
   "window_display": false
  }
 },
 "nbformat": 4,
 "nbformat_minor": 1
}
