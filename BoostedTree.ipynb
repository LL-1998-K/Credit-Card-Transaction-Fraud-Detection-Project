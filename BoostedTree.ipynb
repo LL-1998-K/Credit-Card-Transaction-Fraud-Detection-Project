{
 "cells": [
  {
   "cell_type": "code",
   "execution_count": null,
   "metadata": {
    "id": "WKUlswIBdC86"
   },
   "outputs": [],
   "source": [
    "import pandas as pd\n",
    "import numpy as np\n",
    "import calendar\n",
    "from timeit import default_timer as timer\n",
    "import datetime as dt\n",
    "from sklearn.model_selection import train_test_split\n",
    "from sklearn.linear_model import LogisticRegression"
   ]
  },
  {
   "cell_type": "code",
   "execution_count": null,
   "metadata": {
    "id": "IJ5GVeI1df9f"
   },
   "outputs": [],
   "source": [
    "X=pd.read_csv('top30.csv')"
   ]
  },
  {
   "cell_type": "code",
   "execution_count": null,
   "metadata": {
    "id": "xRempwH1dkce"
   },
   "outputs": [],
   "source": [
    "data=pd.read_excel('card transactions.xlsx')"
   ]
  },
  {
   "cell_type": "code",
   "execution_count": null,
   "metadata": {
    "id": "V6uZ81nLd1It"
   },
   "outputs": [],
   "source": [
    "y=data[['Fraud','Date']]"
   ]
  },
  {
   "cell_type": "code",
   "execution_count": null,
   "metadata": {
    "id": "1gmKFENveYb_"
   },
   "outputs": [],
   "source": [
    "X.drop('Unnamed: 0',axis=1,inplace=True)"
   ]
  },
  {
   "cell_type": "code",
   "execution_count": null,
   "metadata": {
    "id": "OKHeQXmU8or4"
   },
   "outputs": [],
   "source": [
    "X=X.iloc[:,:24]"
   ]
  },
  {
   "cell_type": "code",
   "execution_count": null,
   "metadata": {
    "id": "1qoTuJvaepuU"
   },
   "outputs": [],
   "source": [
    "X['date']=data['Date']"
   ]
  },
  {
   "cell_type": "code",
   "execution_count": null,
   "metadata": {
    "colab": {
     "base_uri": "https://localhost:8080/",
     "height": 300
    },
    "id": "ps_pboepeaLW",
    "outputId": "bcacfa41-582f-4bf4-c769-d6202fa0349a"
   },
   "outputs": [
    {
     "data": {
      "text/html": [
       "<div>\n",
       "<style scoped>\n",
       "    .dataframe tbody tr th:only-of-type {\n",
       "        vertical-align: middle;\n",
       "    }\n",
       "\n",
       "    .dataframe tbody tr th {\n",
       "        vertical-align: top;\n",
       "    }\n",
       "\n",
       "    .dataframe thead th {\n",
       "        text-align: right;\n",
       "    }\n",
       "</style>\n",
       "<table border=\"1\" class=\"dataframe\">\n",
       "  <thead>\n",
       "    <tr style=\"text-align: right;\">\n",
       "      <th></th>\n",
       "      <th>ave_amount_card_zip_count_3</th>\n",
       "      <th>ave_amount_card_zip_count_1</th>\n",
       "      <th>ave_amount_card_zip_count_0</th>\n",
       "      <th>ave_amount_card_zip_count_7</th>\n",
       "      <th>ave_amount_card_zip_count_14</th>\n",
       "      <th>median_amount_card_zip_count_3</th>\n",
       "      <th>median_amount_card_zip_count_14</th>\n",
       "      <th>median_amount_card_zip_count_0</th>\n",
       "      <th>median_amount_card_zip_count_1</th>\n",
       "      <th>median_amount_card_merchnum_count_14</th>\n",
       "      <th>median_amount_card_zip_count_30</th>\n",
       "      <th>median_amount_card_zip_count_7</th>\n",
       "      <th>median_amount_card_merchnum_count_30</th>\n",
       "      <th>ave_amount_Cardnum_count_14</th>\n",
       "      <th>ave_amount_Cardnum_count_3</th>\n",
       "      <th>sum_amount_card_zip_count_30</th>\n",
       "      <th>ave_amount_Cardnum_count_0</th>\n",
       "      <th>ave_amount_Cardnum_count_30</th>\n",
       "      <th>ave_amount_Cardnum_count_1</th>\n",
       "      <th>median_amount_Cardnum_count_0</th>\n",
       "      <th>median_amount_Cardnum_count_1</th>\n",
       "      <th>act/median_amount_Merchnum_count_1</th>\n",
       "      <th>act/median_amount_Merchnum_count_0</th>\n",
       "      <th>median_amount_Cardnum_count_3</th>\n",
       "      <th>date</th>\n",
       "    </tr>\n",
       "  </thead>\n",
       "  <tbody>\n",
       "    <tr>\n",
       "      <th>0</th>\n",
       "      <td>6.546966</td>\n",
       "      <td>5.992519</td>\n",
       "      <td>5.668170</td>\n",
       "      <td>7.582144</td>\n",
       "      <td>7.076372</td>\n",
       "      <td>3.62</td>\n",
       "      <td>3.62</td>\n",
       "      <td>3.62</td>\n",
       "      <td>3.62</td>\n",
       "      <td>3.62</td>\n",
       "      <td>3.62</td>\n",
       "      <td>3.62</td>\n",
       "      <td>3.62</td>\n",
       "      <td>34.956101</td>\n",
       "      <td>30.630963</td>\n",
       "      <td>25321.570000</td>\n",
       "      <td>16.797628</td>\n",
       "      <td>33.789793</td>\n",
       "      <td>24.989317</td>\n",
       "      <td>3.62</td>\n",
       "      <td>3.620</td>\n",
       "      <td>0.967914</td>\n",
       "      <td>0.986376</td>\n",
       "      <td>3.62</td>\n",
       "      <td>2010-01-01</td>\n",
       "    </tr>\n",
       "    <tr>\n",
       "      <th>1</th>\n",
       "      <td>106.355000</td>\n",
       "      <td>106.355000</td>\n",
       "      <td>106.355000</td>\n",
       "      <td>106.355000</td>\n",
       "      <td>94.590000</td>\n",
       "      <td>51.71</td>\n",
       "      <td>31.42</td>\n",
       "      <td>51.71</td>\n",
       "      <td>51.71</td>\n",
       "      <td>126.53</td>\n",
       "      <td>31.42</td>\n",
       "      <td>51.71</td>\n",
       "      <td>126.53</td>\n",
       "      <td>621.460883</td>\n",
       "      <td>969.576929</td>\n",
       "      <td>662.130000</td>\n",
       "      <td>1284.967703</td>\n",
       "      <td>538.009019</td>\n",
       "      <td>1127.611253</td>\n",
       "      <td>1920.00</td>\n",
       "      <td>1341.025</td>\n",
       "      <td>1.000000</td>\n",
       "      <td>1.000000</td>\n",
       "      <td>542.53</td>\n",
       "      <td>2010-01-01</td>\n",
       "    </tr>\n",
       "    <tr>\n",
       "      <th>2</th>\n",
       "      <td>285.500000</td>\n",
       "      <td>285.500000</td>\n",
       "      <td>285.500000</td>\n",
       "      <td>285.500000</td>\n",
       "      <td>264.874444</td>\n",
       "      <td>229.95</td>\n",
       "      <td>206.88</td>\n",
       "      <td>229.95</td>\n",
       "      <td>229.95</td>\n",
       "      <td>250.18</td>\n",
       "      <td>206.88</td>\n",
       "      <td>229.95</td>\n",
       "      <td>247.86</td>\n",
       "      <td>816.409299</td>\n",
       "      <td>850.361427</td>\n",
       "      <td>3180.180000</td>\n",
       "      <td>793.786176</td>\n",
       "      <td>780.180688</td>\n",
       "      <td>838.409647</td>\n",
       "      <td>303.68</td>\n",
       "      <td>399.000</td>\n",
       "      <td>1.121028</td>\n",
       "      <td>1.121028</td>\n",
       "      <td>350.93</td>\n",
       "      <td>2010-01-01</td>\n",
       "    </tr>\n",
       "    <tr>\n",
       "      <th>3</th>\n",
       "      <td>5.258034</td>\n",
       "      <td>5.158783</td>\n",
       "      <td>4.997035</td>\n",
       "      <td>5.286674</td>\n",
       "      <td>5.260876</td>\n",
       "      <td>3.80</td>\n",
       "      <td>3.80</td>\n",
       "      <td>3.80</td>\n",
       "      <td>3.80</td>\n",
       "      <td>3.80</td>\n",
       "      <td>3.80</td>\n",
       "      <td>3.80</td>\n",
       "      <td>3.80</td>\n",
       "      <td>7.251856</td>\n",
       "      <td>6.599404</td>\n",
       "      <td>861019.430001</td>\n",
       "      <td>5.444532</td>\n",
       "      <td>7.469275</td>\n",
       "      <td>6.799033</td>\n",
       "      <td>3.80</td>\n",
       "      <td>3.800</td>\n",
       "      <td>0.967914</td>\n",
       "      <td>0.986376</td>\n",
       "      <td>3.80</td>\n",
       "      <td>2010-01-01</td>\n",
       "    </tr>\n",
       "    <tr>\n",
       "      <th>4</th>\n",
       "      <td>6.546966</td>\n",
       "      <td>5.992519</td>\n",
       "      <td>5.668170</td>\n",
       "      <td>7.582144</td>\n",
       "      <td>7.076372</td>\n",
       "      <td>3.62</td>\n",
       "      <td>3.62</td>\n",
       "      <td>3.62</td>\n",
       "      <td>3.62</td>\n",
       "      <td>3.62</td>\n",
       "      <td>3.62</td>\n",
       "      <td>3.62</td>\n",
       "      <td>3.62</td>\n",
       "      <td>34.956101</td>\n",
       "      <td>30.630963</td>\n",
       "      <td>25321.570000</td>\n",
       "      <td>16.797628</td>\n",
       "      <td>33.789793</td>\n",
       "      <td>24.989317</td>\n",
       "      <td>3.62</td>\n",
       "      <td>3.620</td>\n",
       "      <td>0.967914</td>\n",
       "      <td>0.986376</td>\n",
       "      <td>3.62</td>\n",
       "      <td>2010-01-01</td>\n",
       "    </tr>\n",
       "  </tbody>\n",
       "</table>\n",
       "</div>"
      ],
      "text/plain": [
       "   ave_amount_card_zip_count_3  ...       date\n",
       "0                     6.546966  ... 2010-01-01\n",
       "1                   106.355000  ... 2010-01-01\n",
       "2                   285.500000  ... 2010-01-01\n",
       "3                     5.258034  ... 2010-01-01\n",
       "4                     6.546966  ... 2010-01-01\n",
       "\n",
       "[5 rows x 25 columns]"
      ]
     },
     "execution_count": 8,
     "metadata": {
      "tags": []
     },
     "output_type": "execute_result"
    }
   ],
   "source": [
    "X.head()"
   ]
  },
  {
   "cell_type": "code",
   "execution_count": null,
   "metadata": {
    "id": "gG2Us8egfTT_"
   },
   "outputs": [],
   "source": [
    "oot_x=X[X['date']>='2010-10-01']\n",
    "oot_y=y[y['Date']>='2010-10-01']"
   ]
  },
  {
   "cell_type": "code",
   "execution_count": null,
   "metadata": {
    "id": "VOFJl_QUewDu"
   },
   "outputs": [],
   "source": [
    "X=X[(X['date']>'2010-01-14') & (X['date']<'2010-10-01')]"
   ]
  },
  {
   "cell_type": "code",
   "execution_count": null,
   "metadata": {
    "id": "Nqk6q-ZEF_QU"
   },
   "outputs": [],
   "source": [
    "y=y[(y['Date']>'2010-01-14') & (y['Date']<'2010-10-01')]"
   ]
  },
  {
   "cell_type": "code",
   "execution_count": null,
   "metadata": {
    "id": "F_eCYuqzHesU"
   },
   "outputs": [],
   "source": [
    "y=y.drop('Date',axis=1)\n",
    "X=X.drop('date',axis=1)"
   ]
  },
  {
   "cell_type": "code",
   "execution_count": null,
   "metadata": {
    "id": "GDg_-bfdFdXd"
   },
   "outputs": [],
   "source": [
    "X_train, X_test, y_train, y_test = train_test_split(X, y, test_size = 0.30,random_state = 1)"
   ]
  },
  {
   "cell_type": "code",
   "execution_count": null,
   "metadata": {
    "id": "v0UIw10SPdHM"
   },
   "outputs": [],
   "source": [
    "from sklearn.preprocessing import MinMaxScaler\n",
    "mms = MinMaxScaler()\n",
    "X_train = mms.fit_transform(X_train)"
   ]
  },
  {
   "cell_type": "markdown",
   "metadata": {
    "id": "pJgSMvt3Gmq0"
   },
   "source": [
    "## Boosted Tree"
   ]
  },
  {
   "cell_type": "code",
   "execution_count": null,
   "metadata": {
    "colab": {
     "base_uri": "https://localhost:8080/"
    },
    "id": "ZgtAy29qGcxc",
    "outputId": "ee6db62e-b780-4e3f-a890-f406433f0b14"
   },
   "outputs": [
    {
     "name": "stderr",
     "output_type": "stream",
     "text": [
      "/usr/local/lib/python3.7/dist-packages/sklearn/preprocessing/_label.py:235: DataConversionWarning: A column-vector y was passed when a 1d array was expected. Please change the shape of y to (n_samples, ), for example using ravel().\n",
      "  y = column_or_1d(y, warn=True)\n",
      "/usr/local/lib/python3.7/dist-packages/sklearn/preprocessing/_label.py:268: DataConversionWarning: A column-vector y was passed when a 1d array was expected. Please change the shape of y to (n_samples, ), for example using ravel().\n",
      "  y = column_or_1d(y, warn=True)\n"
     ]
    },
    {
     "data": {
      "text/plain": [
       "XGBClassifier(alpha=10, base_score=0.5, booster='gbtree', colsample_bylevel=1,\n",
       "              colsample_bynode=1, colsample_bytree=0.3, gamma=0,\n",
       "              learning_rate=0.1, max_delta_step=0, max_depth=2,\n",
       "              min_child_weight=1, missing=None, n_estimators=500, n_jobs=1,\n",
       "              nthread=None, objective='reg:logistic', random_state=0,\n",
       "              reg_alpha=0, reg_lambda=1, scale_pos_weight=1, seed=None,\n",
       "              silent=None, subsample=1, verbosity=1)"
      ]
     },
     "execution_count": 15,
     "metadata": {
      "tags": []
     },
     "output_type": "execute_result"
    }
   ],
   "source": [
    "import xgboost as xgb\n",
    "xg_class = xgb.XGBClassifier(objective ='reg:logistic', colsample_bytree = 0.3, learning_rate = 0.1,\n",
    "                max_depth = 2, alpha = 10, n_estimators = 500)\n",
    "xg_class.fit(X_train,y_train)"
   ]
  },
  {
   "cell_type": "code",
   "execution_count": null,
   "metadata": {
    "colab": {
     "base_uri": "https://localhost:8080/"
    },
    "id": "fPrW5RNiI8Wu",
    "outputId": "23c25a96-3b85-4302-e36b-e3694608a6fe"
   },
   "outputs": [
    {
     "data": {
      "text/plain": [
       "547"
      ]
     },
     "execution_count": 16,
     "metadata": {
      "tags": []
     },
     "output_type": "execute_result"
    }
   ],
   "source": [
    "training=pd.DataFrame()\n",
    "y_pred=xg_class.predict_proba(X_train)\n",
    "test_score=y_pred[:,1]\n",
    "training['Fraud']=y_train['Fraud']\n",
    "training['score']=test_score\n",
    "numbads=len(y_train[y_train['Fraud']==1])\n",
    "numbads"
   ]
  },
  {
   "cell_type": "code",
   "execution_count": null,
   "metadata": {
    "colab": {
     "base_uri": "https://localhost:8080/"
    },
    "id": "46tlmi8iJIrk",
    "outputId": "b75caa46-a436-4fb8-e9fb-4905c7f6b882"
   },
   "outputs": [
    {
     "data": {
      "text/plain": [
       "0.9853747714808044"
      ]
     },
     "execution_count": 17,
     "metadata": {
      "tags": []
     },
     "output_type": "execute_result"
    }
   ],
   "source": [
    "topRows = int(round(len(training)*0.03))\n",
    "\n",
    "temp = training[['score','Fraud']].copy()\n",
    "temp0 = temp.sort_values('score',ascending=False)\n",
    "temp1 = temp0.head(topRows)\n",
    "temp2 = temp0.tail(topRows)\n",
    "needed1 = temp1.loc[:,'Fraud']\n",
    "needed2 = temp2.loc[:,'Fraud']\n",
    "FDR1 = sum(needed1)/numbads\n",
    "FDR2 = sum(needed2)/numbads\n",
    "FDRate = np.maximum(FDR1,FDR2)\n",
    "FDRate"
   ]
  },
  {
   "cell_type": "code",
   "execution_count": null,
   "metadata": {
    "id": "9uHXyOMXQDCk"
   },
   "outputs": [],
   "source": [
    "X_test = mms.fit_transform(X_test)"
   ]
  },
  {
   "cell_type": "code",
   "execution_count": null,
   "metadata": {
    "id": "RTh4-aYIMmgM"
   },
   "outputs": [],
   "source": [
    "y_pred=xg_class.predict_proba(X_test)"
   ]
  },
  {
   "cell_type": "code",
   "execution_count": null,
   "metadata": {
    "colab": {
     "base_uri": "https://localhost:8080/"
    },
    "id": "bg42ExmMKUqV",
    "outputId": "b02bb051-cffa-49ff-e43c-241342951454"
   },
   "outputs": [
    {
     "data": {
      "text/plain": [
       "231"
      ]
     },
     "execution_count": 20,
     "metadata": {
      "tags": []
     },
     "output_type": "execute_result"
    }
   ],
   "source": [
    "testing=pd.DataFrame()\n",
    "test_score=y_pred[:,1]\n",
    "testing['Fraud']=y_test['Fraud']\n",
    "testing['score']=test_score\n",
    "numbads=len(y_test[y_test['Fraud']==1])\n",
    "numbads"
   ]
  },
  {
   "cell_type": "code",
   "execution_count": null,
   "metadata": {
    "colab": {
     "base_uri": "https://localhost:8080/"
    },
    "id": "IPXIaCCKKaH0",
    "outputId": "84d46cca-bd5a-4563-cf23-c3a38ae83aa0"
   },
   "outputs": [
    {
     "data": {
      "text/plain": [
       "0.7012987012987013"
      ]
     },
     "execution_count": 21,
     "metadata": {
      "tags": []
     },
     "output_type": "execute_result"
    }
   ],
   "source": [
    "topRows = int(round(len(testing)*0.03))\n",
    "\n",
    "temp = testing[['score','Fraud']].copy()\n",
    "temp0 = temp.sort_values('score',ascending=False)\n",
    "temp1 = temp0.head(topRows)\n",
    "temp2 = temp0.tail(topRows)\n",
    "needed1 = temp1.loc[:,'Fraud']\n",
    "needed2 = temp2.loc[:,'Fraud']\n",
    "FDR1 = sum(needed1)/numbads\n",
    "FDR2 = sum(needed2)/numbads\n",
    "FDRate = np.maximum(FDR1,FDR2)\n",
    "FDRate"
   ]
  },
  {
   "cell_type": "code",
   "execution_count": null,
   "metadata": {
    "id": "psFsnDRDOwOW"
   },
   "outputs": [],
   "source": [
    "oot_x = oot_x.drop('date',axis=1)\n",
    "oot_y = oot_y.drop('Date',axis=1)\n",
    "oot_x = mms.fit_transform(oot_x)"
   ]
  },
  {
   "cell_type": "code",
   "execution_count": null,
   "metadata": {
    "colab": {
     "base_uri": "https://localhost:8080/"
    },
    "id": "edzwDY11Walv",
    "outputId": "653359ae-831d-4347-b1f9-68bb211a9078"
   },
   "outputs": [
    {
     "data": {
      "text/plain": [
       "231"
      ]
     },
     "execution_count": 23,
     "metadata": {
      "tags": []
     },
     "output_type": "execute_result"
    }
   ],
   "source": [
    "y_pred=xg_class.predict_proba(oot_x)\n",
    "oot=pd.DataFrame()\n",
    "test_score=y_pred[:,1]\n",
    "oot['Fraud']=oot_y['Fraud']\n",
    "oot['score']=test_score\n",
    "numbads=len(y_test[y_test['Fraud']==1])\n",
    "numbads"
   ]
  },
  {
   "cell_type": "code",
   "execution_count": null,
   "metadata": {
    "colab": {
     "base_uri": "https://localhost:8080/"
    },
    "id": "XcbWbTFZlNG5",
    "outputId": "82484ddd-edfc-453d-9305-75be55460ad4"
   },
   "outputs": [
    {
     "data": {
      "text/plain": [
       "0.43722943722943725"
      ]
     },
     "execution_count": 24,
     "metadata": {
      "tags": []
     },
     "output_type": "execute_result"
    }
   ],
   "source": [
    "topRows = int(round(len(testing)*0.03))\n",
    "\n",
    "temp = oot[['score','Fraud']].copy()\n",
    "temp0 = temp.sort_values('score',ascending=False)\n",
    "temp1 = temp0.head(topRows)\n",
    "temp2 = temp0.tail(topRows)\n",
    "needed1 = temp1.loc[:,'Fraud']\n",
    "needed2 = temp2.loc[:,'Fraud']\n",
    "FDR1 = sum(needed1)/numbads\n",
    "FDR2 = sum(needed2)/numbads\n",
    "FDRate = np.maximum(FDR1,FDR2)\n",
    "FDRate"
   ]
  }
 ],
 "metadata": {
  "colab": {
   "collapsed_sections": [],
   "name": "project3 BoostedTree.ipynb",
   "provenance": [],
   "toc_visible": true
  },
  "kernelspec": {
   "display_name": "Python 3",
   "language": "python",
   "name": "python3"
  },
  "language_info": {
   "codemirror_mode": {
    "name": "ipython",
    "version": 3
   },
   "file_extension": ".py",
   "mimetype": "text/x-python",
   "name": "python",
   "nbconvert_exporter": "python",
   "pygments_lexer": "ipython3",
   "version": "3.8.5"
  },
  "varInspector": {
   "cols": {
    "lenName": 16,
    "lenType": 16,
    "lenVar": 40
   },
   "kernels_config": {
    "python": {
     "delete_cmd_postfix": "",
     "delete_cmd_prefix": "del ",
     "library": "var_list.py",
     "varRefreshCmd": "print(var_dic_list())"
    },
    "r": {
     "delete_cmd_postfix": ") ",
     "delete_cmd_prefix": "rm(",
     "library": "var_list.r",
     "varRefreshCmd": "cat(var_dic_list()) "
    }
   },
   "types_to_exclude": [
    "module",
    "function",
    "builtin_function_or_method",
    "instance",
    "_Feature"
   ],
   "window_display": false
  }
 },
 "nbformat": 4,
 "nbformat_minor": 1
}
