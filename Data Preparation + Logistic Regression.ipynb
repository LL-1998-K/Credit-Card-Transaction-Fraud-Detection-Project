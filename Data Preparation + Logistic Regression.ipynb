{
 "cells": [
  {
   "cell_type": "code",
   "execution_count": 109,
   "metadata": {
    "ExecuteTime": {
     "end_time": "2021-05-07T12:34:45.772489Z",
     "start_time": "2021-05-07T12:34:45.765213Z"
    },
    "id": "WSfZbDXEBeY4"
   },
   "outputs": [],
   "source": [
    "import pandas as pd\n",
    "import numpy as np\n",
    "import matplotlib.pyplot as plt\n",
    "import seaborn as sns\n",
    "from datetime import datetime\n",
    "from datetime import timedelta\n",
    "from sklearn import preprocessing\n",
    "from sklearn.preprocessing import StandardScaler\n",
    "import scipy.stats\n",
    "import scipy.stats as sps"
   ]
  },
  {
   "cell_type": "code",
   "execution_count": 110,
   "metadata": {
    "ExecuteTime": {
     "end_time": "2021-05-07T12:35:12.708075Z",
     "start_time": "2021-05-07T12:34:46.145150Z"
    },
    "id": "n0WGgxZEBeY5"
   },
   "outputs": [],
   "source": [
    "data = pd.read_excel('card transactions.xlsx', engine='openpyxl', converters={'Merchnum' : lambda x:str(x)})"
   ]
  },
  {
   "cell_type": "code",
   "execution_count": 111,
   "metadata": {
    "ExecuteTime": {
     "end_time": "2021-05-07T12:35:12.765195Z",
     "start_time": "2021-05-07T12:35:12.711183Z"
    },
    "colab": {
     "base_uri": "https://localhost:8080/"
    },
    "id": "iKGvqtWqBeY5",
    "outputId": "7aec63fa-b2d6-49bc-f5af-3ed771319c25"
   },
   "outputs": [
    {
     "name": "stdout",
     "output_type": "stream",
     "text": [
      "<class 'pandas.core.frame.DataFrame'>\n",
      "RangeIndex: 96753 entries, 0 to 96752\n",
      "Data columns (total 10 columns):\n",
      " #   Column             Non-Null Count  Dtype         \n",
      "---  ------             --------------  -----         \n",
      " 0   Recnum             96753 non-null  int64         \n",
      " 1   Cardnum            96753 non-null  int64         \n",
      " 2   Date               96753 non-null  datetime64[ns]\n",
      " 3   Merchnum           93378 non-null  object        \n",
      " 4   Merch description  96753 non-null  object        \n",
      " 5   Merch state        95558 non-null  object        \n",
      " 6   Merch zip          92097 non-null  float64       \n",
      " 7   Transtype          96753 non-null  object        \n",
      " 8   Amount             96753 non-null  float64       \n",
      " 9   Fraud              96753 non-null  int64         \n",
      "dtypes: datetime64[ns](1), float64(2), int64(3), object(4)\n",
      "memory usage: 7.4+ MB\n"
     ]
    }
   ],
   "source": [
    "data.info()"
   ]
  },
  {
   "cell_type": "code",
   "execution_count": null,
   "metadata": {
    "id": "TTkMeyouBeY6"
   },
   "outputs": [],
   "source": []
  },
  {
   "cell_type": "code",
   "execution_count": 112,
   "metadata": {
    "ExecuteTime": {
     "end_time": "2021-05-07T12:35:12.798949Z",
     "start_time": "2021-05-07T12:35:12.776571Z"
    },
    "colab": {
     "base_uri": "https://localhost:8080/",
     "height": 80
    },
    "id": "Ng3V4Y9JBeY6",
    "outputId": "72e9fe2f-a7c5-4305-df12-b520fff7fc0a"
   },
   "outputs": [
    {
     "data": {
      "text/html": [
       "<div>\n",
       "<style scoped>\n",
       "    .dataframe tbody tr th:only-of-type {\n",
       "        vertical-align: middle;\n",
       "    }\n",
       "\n",
       "    .dataframe tbody tr th {\n",
       "        vertical-align: top;\n",
       "    }\n",
       "\n",
       "    .dataframe thead th {\n",
       "        text-align: right;\n",
       "    }\n",
       "</style>\n",
       "<table border=\"1\" class=\"dataframe\">\n",
       "  <thead>\n",
       "    <tr style=\"text-align: right;\">\n",
       "      <th></th>\n",
       "      <th>Recnum</th>\n",
       "      <th>Cardnum</th>\n",
       "      <th>Date</th>\n",
       "      <th>Merchnum</th>\n",
       "      <th>Merch description</th>\n",
       "      <th>Merch state</th>\n",
       "      <th>Merch zip</th>\n",
       "      <th>Transtype</th>\n",
       "      <th>Amount</th>\n",
       "      <th>Fraud</th>\n",
       "    </tr>\n",
       "  </thead>\n",
       "  <tbody>\n",
       "    <tr>\n",
       "      <th>52714</th>\n",
       "      <td>52715</td>\n",
       "      <td>5142189135</td>\n",
       "      <td>2010-07-13</td>\n",
       "      <td>NaN</td>\n",
       "      <td>INTERMEXICO</td>\n",
       "      <td>NaN</td>\n",
       "      <td>NaN</td>\n",
       "      <td>P</td>\n",
       "      <td>3102045.53</td>\n",
       "      <td>0</td>\n",
       "    </tr>\n",
       "  </tbody>\n",
       "</table>\n",
       "</div>"
      ],
      "text/plain": [
       "       Recnum     Cardnum       Date Merchnum Merch description Merch state  \\\n",
       "52714   52715  5142189135 2010-07-13      NaN       INTERMEXICO         NaN   \n",
       "\n",
       "       Merch zip Transtype      Amount  Fraud  \n",
       "52714        NaN         P  3102045.53      0  "
      ]
     },
     "execution_count": 112,
     "metadata": {},
     "output_type": "execute_result"
    }
   ],
   "source": [
    "# remove outliers\n",
    "m = data['Amount'].mean()\n",
    "s = data['Amount'].std()\n",
    "lb = m-5*s\n",
    "ub = m+5*s\n",
    "data[(data['Amount']<lb) | (data['Amount']>ub)]"
   ]
  },
  {
   "cell_type": "code",
   "execution_count": 113,
   "metadata": {
    "ExecuteTime": {
     "end_time": "2021-05-07T12:35:12.828115Z",
     "start_time": "2021-05-07T12:35:12.804205Z"
    },
    "id": "FJ297mutBeY6"
   },
   "outputs": [],
   "source": [
    "data.drop([52714], axis=0, inplace=True)"
   ]
  },
  {
   "cell_type": "code",
   "execution_count": 114,
   "metadata": {
    "ExecuteTime": {
     "end_time": "2021-05-07T12:35:12.863783Z",
     "start_time": "2021-05-07T12:35:12.831772Z"
    },
    "id": "LZAlgua0BeY7"
   },
   "outputs": [],
   "source": [
    "# remove transaction types not equal 'P'\n",
    "data = data[data['Transtype']=='P']"
   ]
  },
  {
   "cell_type": "code",
   "execution_count": null,
   "metadata": {
    "id": "U4fEfzWhBeY7"
   },
   "outputs": [],
   "source": []
  },
  {
   "cell_type": "code",
   "execution_count": 115,
   "metadata": {
    "ExecuteTime": {
     "end_time": "2021-05-07T12:35:12.924754Z",
     "start_time": "2021-05-07T12:35:12.872795Z"
    },
    "colab": {
     "base_uri": "https://localhost:8080/",
     "height": 142
    },
    "id": "cCEmOk3iBeY7",
    "outputId": "0429db71-5b61-471e-cf5d-84ebaeb874e6"
   },
   "outputs": [
    {
     "data": {
      "text/html": [
       "<div>\n",
       "<style scoped>\n",
       "    .dataframe tbody tr th:only-of-type {\n",
       "        vertical-align: middle;\n",
       "    }\n",
       "\n",
       "    .dataframe tbody tr th {\n",
       "        vertical-align: top;\n",
       "    }\n",
       "\n",
       "    .dataframe thead th {\n",
       "        text-align: right;\n",
       "    }\n",
       "</style>\n",
       "<table border=\"1\" class=\"dataframe\">\n",
       "  <thead>\n",
       "    <tr style=\"text-align: right;\">\n",
       "      <th></th>\n",
       "      <th>Recnum</th>\n",
       "      <th>Cardnum</th>\n",
       "      <th>Date</th>\n",
       "      <th>Merchnum</th>\n",
       "      <th>Merch description</th>\n",
       "      <th>Merch state</th>\n",
       "      <th>Merch zip</th>\n",
       "      <th>Transtype</th>\n",
       "      <th>Amount</th>\n",
       "      <th>Fraud</th>\n",
       "    </tr>\n",
       "  </thead>\n",
       "  <tbody>\n",
       "    <tr>\n",
       "      <th>83923</th>\n",
       "      <td>83924</td>\n",
       "      <td>5142182645</td>\n",
       "      <td>2010-10-28</td>\n",
       "      <td>8168600400097</td>\n",
       "      <td>0000000000000000000000</td>\n",
       "      <td>WA</td>\n",
       "      <td>98052.0</td>\n",
       "      <td>P</td>\n",
       "      <td>463.86</td>\n",
       "      <td>0</td>\n",
       "    </tr>\n",
       "    <tr>\n",
       "      <th>92542</th>\n",
       "      <td>92543</td>\n",
       "      <td>5142185554</td>\n",
       "      <td>2010-12-10</td>\n",
       "      <td>8168600400097</td>\n",
       "      <td>0000000000000000000000</td>\n",
       "      <td>WA</td>\n",
       "      <td>98052.0</td>\n",
       "      <td>P</td>\n",
       "      <td>127.87</td>\n",
       "      <td>0</td>\n",
       "    </tr>\n",
       "    <tr>\n",
       "      <th>92570</th>\n",
       "      <td>92571</td>\n",
       "      <td>5142185554</td>\n",
       "      <td>2010-12-10</td>\n",
       "      <td>8168600400097</td>\n",
       "      <td>0000000000000000000000</td>\n",
       "      <td>WA</td>\n",
       "      <td>98052.0</td>\n",
       "      <td>P</td>\n",
       "      <td>769.70</td>\n",
       "      <td>0</td>\n",
       "    </tr>\n",
       "  </tbody>\n",
       "</table>\n",
       "</div>"
      ],
      "text/plain": [
       "       Recnum     Cardnum       Date       Merchnum       Merch description  \\\n",
       "83923   83924  5142182645 2010-10-28  8168600400097  0000000000000000000000   \n",
       "92542   92543  5142185554 2010-12-10  8168600400097  0000000000000000000000   \n",
       "92570   92571  5142185554 2010-12-10  8168600400097  0000000000000000000000   \n",
       "\n",
       "      Merch state  Merch zip Transtype  Amount  Fraud  \n",
       "83923          WA    98052.0         P  463.86      0  \n",
       "92542          WA    98052.0         P  127.87      0  \n",
       "92570          WA    98052.0         P  769.70      0  "
      ]
     },
     "execution_count": 115,
     "metadata": {},
     "output_type": "execute_result"
    }
   ],
   "source": [
    "# notice that\n",
    "data[data['Merch description']=='0000000000000000000000']"
   ]
  },
  {
   "cell_type": "code",
   "execution_count": 116,
   "metadata": {
    "ExecuteTime": {
     "end_time": "2021-05-07T12:35:12.959448Z",
     "start_time": "2021-05-07T12:35:12.932181Z"
    },
    "id": "AaCl_mGcBeY7"
   },
   "outputs": [],
   "source": [
    "data1 = data.copy()"
   ]
  },
  {
   "cell_type": "markdown",
   "metadata": {
    "id": "5A5BDGpSBeY8"
   },
   "source": [
    "## Filling missing values"
   ]
  },
  {
   "cell_type": "code",
   "execution_count": 117,
   "metadata": {
    "ExecuteTime": {
     "end_time": "2021-05-07T12:35:13.047637Z",
     "start_time": "2021-05-07T12:35:12.968738Z"
    },
    "colab": {
     "base_uri": "https://localhost:8080/"
    },
    "id": "5GPe5dc2Cj4i",
    "outputId": "a35b2a53-aee7-4028-f7d0-51da7caa4726"
   },
   "outputs": [
    {
     "data": {
      "text/plain": [
       "Recnum                  0\n",
       "Cardnum                 0\n",
       "Date                    0\n",
       "Merchnum             3198\n",
       "Merch description       0\n",
       "Merch state          1020\n",
       "Merch zip            4300\n",
       "Transtype               0\n",
       "Amount                  0\n",
       "Fraud                   0\n",
       "dtype: int64"
      ]
     },
     "execution_count": 117,
     "metadata": {},
     "output_type": "execute_result"
    }
   ],
   "source": [
    "data.isna().sum()"
   ]
  },
  {
   "cell_type": "code",
   "execution_count": 118,
   "metadata": {
    "ExecuteTime": {
     "end_time": "2021-05-07T12:35:13.057763Z",
     "start_time": "2021-05-07T12:35:13.054285Z"
    },
    "id": "FFDTxd81BeY8"
   },
   "outputs": [],
   "source": [
    "# Merch num:\n",
    "# groupby description and use the mode\n",
    "# if no description avaliable, fill by 'unknown'"
   ]
  },
  {
   "cell_type": "code",
   "execution_count": 119,
   "metadata": {
    "ExecuteTime": {
     "end_time": "2021-05-07T12:35:28.101525Z",
     "start_time": "2021-05-07T12:35:13.063474Z"
    },
    "id": "Za-biBeaBeY8"
   },
   "outputs": [],
   "source": [
    "data['Merchnum'] = data['Merchnum'].fillna(data.groupby(['Merch description'])['Merchnum'] \\\n",
    "                        .transform(lambda x:x.mode()[0] if x.mode().empty==False else np.NaN))"
   ]
  },
  {
   "cell_type": "code",
   "execution_count": 120,
   "metadata": {
    "ExecuteTime": {
     "end_time": "2021-05-07T12:35:28.149089Z",
     "start_time": "2021-05-07T12:35:28.104347Z"
    },
    "colab": {
     "base_uri": "https://localhost:8080/"
    },
    "id": "unq-jYr-BeY9",
    "outputId": "e3a6c91b-2c5c-451e-c8db-f1baaba8ea81"
   },
   "outputs": [
    {
     "data": {
      "text/plain": [
       "Recnum                  0\n",
       "Cardnum                 0\n",
       "Date                    0\n",
       "Merchnum             2038\n",
       "Merch description       0\n",
       "Merch state          1020\n",
       "Merch zip            4300\n",
       "Transtype               0\n",
       "Amount                  0\n",
       "Fraud                   0\n",
       "dtype: int64"
      ]
     },
     "execution_count": 120,
     "metadata": {},
     "output_type": "execute_result"
    }
   ],
   "source": [
    "data.isna().sum()"
   ]
  },
  {
   "cell_type": "code",
   "execution_count": 121,
   "metadata": {
    "ExecuteTime": {
     "end_time": "2021-05-07T12:35:39.393306Z",
     "start_time": "2021-05-07T12:35:28.159380Z"
    },
    "id": "aeVbuxMDCNty"
   },
   "outputs": [],
   "source": [
    "data['Merch zip'] = data['Merch zip'].fillna(data.groupby(['Merch description'])['Merch zip'] \\\n",
    "                        .transform(lambda x:x.mode()[0] if x.mode().empty==False else np.NaN))"
   ]
  },
  {
   "cell_type": "code",
   "execution_count": 122,
   "metadata": {
    "ExecuteTime": {
     "end_time": "2021-05-07T12:35:39.436748Z",
     "start_time": "2021-05-07T12:35:39.396091Z"
    },
    "colab": {
     "base_uri": "https://localhost:8080/"
    },
    "id": "QsaRIJfsCfeJ",
    "outputId": "5be368b3-a431-445a-d85b-c566241cb80c"
   },
   "outputs": [
    {
     "data": {
      "text/plain": [
       "Recnum                  0\n",
       "Cardnum                 0\n",
       "Date                    0\n",
       "Merchnum             2038\n",
       "Merch description       0\n",
       "Merch state          1020\n",
       "Merch zip            2043\n",
       "Transtype               0\n",
       "Amount                  0\n",
       "Fraud                   0\n",
       "dtype: int64"
      ]
     },
     "execution_count": 122,
     "metadata": {},
     "output_type": "execute_result"
    }
   ],
   "source": [
    "data.isna().sum()"
   ]
  },
  {
   "cell_type": "code",
   "execution_count": 123,
   "metadata": {
    "ExecuteTime": {
     "end_time": "2021-05-07T12:35:54.111540Z",
     "start_time": "2021-05-07T12:35:39.440703Z"
    },
    "id": "z4xHWzSECYhf"
   },
   "outputs": [],
   "source": [
    "data['Merch state'] = data['Merch state'].fillna(data.groupby(['Merch description'])['Merch state'] \\\n",
    "                        .transform(lambda x:x.mode()[0] if x.mode().empty==False else np.NaN))"
   ]
  },
  {
   "cell_type": "code",
   "execution_count": 124,
   "metadata": {
    "ExecuteTime": {
     "end_time": "2021-05-07T12:35:54.183222Z",
     "start_time": "2021-05-07T12:35:54.115084Z"
    },
    "colab": {
     "base_uri": "https://localhost:8080/"
    },
    "id": "31R_H99OCTDf",
    "outputId": "285e74c1-42af-4769-ca56-2f65edbc670e"
   },
   "outputs": [
    {
     "data": {
      "text/plain": [
       "Recnum                  0\n",
       "Cardnum                 0\n",
       "Date                    0\n",
       "Merchnum             2038\n",
       "Merch description       0\n",
       "Merch state           363\n",
       "Merch zip            2043\n",
       "Transtype               0\n",
       "Amount                  0\n",
       "Fraud                   0\n",
       "dtype: int64"
      ]
     },
     "execution_count": 124,
     "metadata": {},
     "output_type": "execute_result"
    }
   ],
   "source": [
    "data.isna().sum()"
   ]
  },
  {
   "cell_type": "code",
   "execution_count": 125,
   "metadata": {
    "ExecuteTime": {
     "end_time": "2021-05-07T12:35:54.207166Z",
     "start_time": "2021-05-07T12:35:54.197223Z"
    },
    "id": "iulFV2ozBeY9"
   },
   "outputs": [],
   "source": [
    "# Merch zip & state"
   ]
  },
  {
   "cell_type": "code",
   "execution_count": 126,
   "metadata": {
    "ExecuteTime": {
     "end_time": "2021-05-07T12:35:54.244344Z",
     "start_time": "2021-05-07T12:35:54.212642Z"
    },
    "colab": {
     "base_uri": "https://localhost:8080/"
    },
    "id": "vCkDtdymBeY9",
    "outputId": "f384502f-a5db-462d-9e10-e85ca7eece46"
   },
   "outputs": [
    {
     "data": {
      "text/plain": [
       "269"
      ]
     },
     "execution_count": 126,
     "metadata": {},
     "output_type": "execute_result"
    }
   ],
   "source": [
    "ns = data['Merch state'].isnull()\n",
    "nsi = ns[ns==True].index\n",
    "sum(data.loc[nsi,'Merch zip'].isnull())"
   ]
  },
  {
   "cell_type": "markdown",
   "metadata": {
    "id": "7ubLmITEBeY9"
   },
   "source": [
    "When 'Merch state' is NaN, usually 'Merch zip' is NaN as well"
   ]
  },
  {
   "cell_type": "code",
   "execution_count": 127,
   "metadata": {
    "ExecuteTime": {
     "end_time": "2021-05-07T12:35:54.277141Z",
     "start_time": "2021-05-07T12:35:54.249889Z"
    },
    "colab": {
     "base_uri": "https://localhost:8080/"
    },
    "id": "eSGUmtWeBeY-",
    "outputId": "7fcca49d-c418-4a1f-8abf-db295f595619"
   },
   "outputs": [
    {
     "data": {
      "text/plain": [
       "2043"
      ]
     },
     "execution_count": 127,
     "metadata": {},
     "output_type": "execute_result"
    }
   ],
   "source": [
    "sum(data['Merch zip'].isnull())"
   ]
  },
  {
   "cell_type": "code",
   "execution_count": 128,
   "metadata": {
    "ExecuteTime": {
     "end_time": "2021-05-07T12:35:54.302864Z",
     "start_time": "2021-05-07T12:35:54.279973Z"
    },
    "colab": {
     "base_uri": "https://localhost:8080/"
    },
    "id": "dFkDeybqBeY-",
    "outputId": "8ce77e53-70f9-4ade-aefb-f7f2641bb258"
   },
   "outputs": [
    {
     "data": {
      "text/plain": [
       "363"
      ]
     },
     "execution_count": 128,
     "metadata": {},
     "output_type": "execute_result"
    }
   ],
   "source": [
    "nz = data['Merch zip'].isnull()\n",
    "nzi = ns[ns==True].index\n",
    "sum(data.loc[nzi,'Merch state'].isnull())"
   ]
  },
  {
   "cell_type": "markdown",
   "metadata": {
    "id": "r5biC3QpBeY-"
   },
   "source": [
    "When 'Merch zip' is NaN, not as much 'Merch state' is NaN"
   ]
  },
  {
   "cell_type": "markdown",
   "metadata": {
    "id": "qHwGsbKyBeY-"
   },
   "source": [
    "Thus, we first fill 'Merch state' using 'Merch zip' and 'Merch description',\n",
    "and then use 'Merch state' to fill missing 'Merch zip'"
   ]
  },
  {
   "cell_type": "code",
   "execution_count": 129,
   "metadata": {
    "ExecuteTime": {
     "end_time": "2021-05-07T12:35:54.319398Z",
     "start_time": "2021-05-07T12:35:54.311669Z"
    },
    "id": "QiIxWyIPBeY_"
   },
   "outputs": [],
   "source": [
    "# Merch state\n",
    "# first group by existing zipcode"
   ]
  },
  {
   "cell_type": "code",
   "execution_count": 130,
   "metadata": {
    "ExecuteTime": {
     "end_time": "2021-05-07T12:35:54.431316Z",
     "start_time": "2021-05-07T12:35:54.335010Z"
    },
    "colab": {
     "base_uri": "https://localhost:8080/",
     "height": 419
    },
    "id": "YnajnvRYBeY_",
    "outputId": "c0a6a9ce-25f2-4afa-b834-7347bf36aeea"
   },
   "outputs": [
    {
     "data": {
      "text/html": [
       "<div>\n",
       "<style scoped>\n",
       "    .dataframe tbody tr th:only-of-type {\n",
       "        vertical-align: middle;\n",
       "    }\n",
       "\n",
       "    .dataframe tbody tr th {\n",
       "        vertical-align: top;\n",
       "    }\n",
       "\n",
       "    .dataframe thead th {\n",
       "        text-align: right;\n",
       "    }\n",
       "</style>\n",
       "<table border=\"1\" class=\"dataframe\">\n",
       "  <thead>\n",
       "    <tr style=\"text-align: right;\">\n",
       "      <th></th>\n",
       "      <th>Recnum</th>\n",
       "      <th>Cardnum</th>\n",
       "      <th>Date</th>\n",
       "      <th>Merchnum</th>\n",
       "      <th>Merch description</th>\n",
       "      <th>Merch state</th>\n",
       "      <th>Merch zip</th>\n",
       "      <th>Transtype</th>\n",
       "      <th>Amount</th>\n",
       "      <th>Fraud</th>\n",
       "    </tr>\n",
       "  </thead>\n",
       "  <tbody>\n",
       "    <tr>\n",
       "      <th>3258</th>\n",
       "      <td>3259</td>\n",
       "      <td>5142153880</td>\n",
       "      <td>2010-01-14</td>\n",
       "      <td>582582822587</td>\n",
       "      <td>DIGITAL TECHNOLOGY CONTRA</td>\n",
       "      <td>NaN</td>\n",
       "      <td>926.0</td>\n",
       "      <td>P</td>\n",
       "      <td>2340.00</td>\n",
       "      <td>0</td>\n",
       "    </tr>\n",
       "    <tr>\n",
       "      <th>3262</th>\n",
       "      <td>3263</td>\n",
       "      <td>5142154098</td>\n",
       "      <td>2010-01-14</td>\n",
       "      <td>582582822587</td>\n",
       "      <td>DIGITAL TECHNOLOGY CONTRA</td>\n",
       "      <td>NaN</td>\n",
       "      <td>926.0</td>\n",
       "      <td>P</td>\n",
       "      <td>2387.00</td>\n",
       "      <td>0</td>\n",
       "    </tr>\n",
       "    <tr>\n",
       "      <th>3540</th>\n",
       "      <td>3541</td>\n",
       "      <td>5142154098</td>\n",
       "      <td>2010-01-17</td>\n",
       "      <td>582582822587</td>\n",
       "      <td>DIGITAL TECHNOLOGY CONTRA</td>\n",
       "      <td>NaN</td>\n",
       "      <td>926.0</td>\n",
       "      <td>P</td>\n",
       "      <td>2300.00</td>\n",
       "      <td>0</td>\n",
       "    </tr>\n",
       "    <tr>\n",
       "      <th>3642</th>\n",
       "      <td>3643</td>\n",
       "      <td>5142153880</td>\n",
       "      <td>2010-01-17</td>\n",
       "      <td>582582822587</td>\n",
       "      <td>DIGITAL TECHNOLOGY CONTRA</td>\n",
       "      <td>NaN</td>\n",
       "      <td>926.0</td>\n",
       "      <td>P</td>\n",
       "      <td>2500.00</td>\n",
       "      <td>0</td>\n",
       "    </tr>\n",
       "    <tr>\n",
       "      <th>4969</th>\n",
       "      <td>4970</td>\n",
       "      <td>5142194136</td>\n",
       "      <td>2010-01-24</td>\n",
       "      <td>597597721468</td>\n",
       "      <td>CRISTALIA ACQUISITION COR</td>\n",
       "      <td>NaN</td>\n",
       "      <td>929.0</td>\n",
       "      <td>P</td>\n",
       "      <td>83.00</td>\n",
       "      <td>0</td>\n",
       "    </tr>\n",
       "    <tr>\n",
       "      <th>...</th>\n",
       "      <td>...</td>\n",
       "      <td>...</td>\n",
       "      <td>...</td>\n",
       "      <td>...</td>\n",
       "      <td>...</td>\n",
       "      <td>...</td>\n",
       "      <td>...</td>\n",
       "      <td>...</td>\n",
       "      <td>...</td>\n",
       "      <td>...</td>\n",
       "    </tr>\n",
       "    <tr>\n",
       "      <th>83272</th>\n",
       "      <td>83273</td>\n",
       "      <td>5142193384</td>\n",
       "      <td>2010-10-26</td>\n",
       "      <td>600555303209</td>\n",
       "      <td>EMBASSY SUITES PR</td>\n",
       "      <td>NaN</td>\n",
       "      <td>38117.0</td>\n",
       "      <td>P</td>\n",
       "      <td>300.00</td>\n",
       "      <td>0</td>\n",
       "    </tr>\n",
       "    <tr>\n",
       "      <th>83425</th>\n",
       "      <td>83426</td>\n",
       "      <td>5142193384</td>\n",
       "      <td>2010-10-27</td>\n",
       "      <td>600555303209</td>\n",
       "      <td>EMBASSY SUITES PR</td>\n",
       "      <td>NaN</td>\n",
       "      <td>38117.0</td>\n",
       "      <td>P</td>\n",
       "      <td>600.00</td>\n",
       "      <td>0</td>\n",
       "    </tr>\n",
       "    <tr>\n",
       "      <th>83454</th>\n",
       "      <td>83455</td>\n",
       "      <td>5142193384</td>\n",
       "      <td>2010-10-27</td>\n",
       "      <td>600555303209</td>\n",
       "      <td>EMBASSY SUITES PR</td>\n",
       "      <td>NaN</td>\n",
       "      <td>38117.0</td>\n",
       "      <td>P</td>\n",
       "      <td>600.00</td>\n",
       "      <td>0</td>\n",
       "    </tr>\n",
       "    <tr>\n",
       "      <th>86405</th>\n",
       "      <td>86406</td>\n",
       "      <td>5142194136</td>\n",
       "      <td>2010-11-10</td>\n",
       "      <td>7007631331</td>\n",
       "      <td>AAFES BUCHANAN MAIN STR</td>\n",
       "      <td>NaN</td>\n",
       "      <td>934.0</td>\n",
       "      <td>P</td>\n",
       "      <td>184.41</td>\n",
       "      <td>0</td>\n",
       "    </tr>\n",
       "    <tr>\n",
       "      <th>90259</th>\n",
       "      <td>90260</td>\n",
       "      <td>5142233702</td>\n",
       "      <td>2010-12-01</td>\n",
       "      <td>4006851471</td>\n",
       "      <td>INTERNET VISION</td>\n",
       "      <td>NaN</td>\n",
       "      <td>41160.0</td>\n",
       "      <td>P</td>\n",
       "      <td>131.00</td>\n",
       "      <td>0</td>\n",
       "    </tr>\n",
       "  </tbody>\n",
       "</table>\n",
       "<p>94 rows × 10 columns</p>\n",
       "</div>"
      ],
      "text/plain": [
       "       Recnum     Cardnum       Date      Merchnum          Merch description  \\\n",
       "3258     3259  5142153880 2010-01-14  582582822587  DIGITAL TECHNOLOGY CONTRA   \n",
       "3262     3263  5142154098 2010-01-14  582582822587  DIGITAL TECHNOLOGY CONTRA   \n",
       "3540     3541  5142154098 2010-01-17  582582822587  DIGITAL TECHNOLOGY CONTRA   \n",
       "3642     3643  5142153880 2010-01-17  582582822587  DIGITAL TECHNOLOGY CONTRA   \n",
       "4969     4970  5142194136 2010-01-24  597597721468  CRISTALIA ACQUISITION COR   \n",
       "...       ...         ...        ...           ...                        ...   \n",
       "83272   83273  5142193384 2010-10-26  600555303209          EMBASSY SUITES PR   \n",
       "83425   83426  5142193384 2010-10-27  600555303209          EMBASSY SUITES PR   \n",
       "83454   83455  5142193384 2010-10-27  600555303209          EMBASSY SUITES PR   \n",
       "86405   86406  5142194136 2010-11-10    7007631331    AAFES BUCHANAN MAIN STR   \n",
       "90259   90260  5142233702 2010-12-01    4006851471            INTERNET VISION   \n",
       "\n",
       "      Merch state  Merch zip Transtype   Amount  Fraud  \n",
       "3258          NaN      926.0         P  2340.00      0  \n",
       "3262          NaN      926.0         P  2387.00      0  \n",
       "3540          NaN      926.0         P  2300.00      0  \n",
       "3642          NaN      926.0         P  2500.00      0  \n",
       "4969          NaN      929.0         P    83.00      0  \n",
       "...           ...        ...       ...      ...    ...  \n",
       "83272         NaN    38117.0         P   300.00      0  \n",
       "83425         NaN    38117.0         P   600.00      0  \n",
       "83454         NaN    38117.0         P   600.00      0  \n",
       "86405         NaN      934.0         P   184.41      0  \n",
       "90259         NaN    41160.0         P   131.00      0  \n",
       "\n",
       "[94 rows x 10 columns]"
      ]
     },
     "execution_count": 130,
     "metadata": {},
     "output_type": "execute_result"
    }
   ],
   "source": [
    "# find all rows where zip is not NaN for missing state\n",
    "d = data[(data['Merch state'].isnull()==True) & (data['Merch zip'].isnull()==False)]\n",
    "d"
   ]
  },
  {
   "cell_type": "code",
   "execution_count": 131,
   "metadata": {
    "ExecuteTime": {
     "end_time": "2021-05-07T12:35:54.498230Z",
     "start_time": "2021-05-07T12:35:54.436853Z"
    },
    "colab": {
     "base_uri": "https://localhost:8080/"
    },
    "id": "4Ki6k1wIBeY_",
    "outputId": "1b7532b8-8601-41f4-c6b2-86451a85e909"
   },
   "outputs": [
    {
     "data": {
      "text/plain": [
       "{926.0: nan,\n",
       " 929.0: nan,\n",
       " 1400.0: nan,\n",
       " 65132.0: nan,\n",
       " 86899.0: nan,\n",
       " 23080.0: nan,\n",
       " 60528.0: nan,\n",
       " 6.0: 'IL',\n",
       " 934.0: nan,\n",
       " 738.0: nan,\n",
       " 2.0: 'MD',\n",
       " 90805.0: nan,\n",
       " 76302.0: nan,\n",
       " 9.0: 'CA',\n",
       " 914.0: nan,\n",
       " 95461.0: nan,\n",
       " 50823.0: nan,\n",
       " 48700.0: nan,\n",
       " 680.0: nan,\n",
       " 1.0: 'PA',\n",
       " 681.0: nan,\n",
       " 623.0: nan,\n",
       " 726.0: nan,\n",
       " 936.0: nan,\n",
       " 12108.0: nan,\n",
       " 791.0: nan,\n",
       " 907.0: nan,\n",
       " 922.0: nan,\n",
       " 920.0: nan,\n",
       " 3.0: 'GA',\n",
       " 801.0: nan,\n",
       " 8.0: 'CO',\n",
       " 31040.0: nan,\n",
       " 38117.0: 'TN',\n",
       " 41160.0: nan}"
      ]
     },
     "execution_count": 131,
     "metadata": {},
     "output_type": "execute_result"
    }
   ],
   "source": [
    "# find matching state for zip\n",
    "z_to_s = {}\n",
    "for z in d['Merch zip'].unique():\n",
    "    dz = data.loc[data['Merch zip']==z,'Merch state']\n",
    "    if dz.mode().empty == True:\n",
    "        s = np.NaN\n",
    "    else:\n",
    "        s = dz.mode()[0]\n",
    "    z_to_s.update({z:s})\n",
    "z_to_s"
   ]
  },
  {
   "cell_type": "code",
   "execution_count": 132,
   "metadata": {
    "ExecuteTime": {
     "end_time": "2021-05-07T12:35:54.804998Z",
     "start_time": "2021-05-07T12:35:54.540712Z"
    },
    "colab": {
     "base_uri": "https://localhost:8080/",
     "height": 191
    },
    "id": "SHQG9X0kBeY_",
    "outputId": "4980ac92-6afc-40c4-9385-daa83e5fe5bb"
   },
   "outputs": [],
   "source": [
    "for index in d.index:\n",
    "    data.loc[index,'Merch state'] = z_to_s[data.loc[index,'Merch zip']]"
   ]
  },
  {
   "cell_type": "code",
   "execution_count": 133,
   "metadata": {
    "ExecuteTime": {
     "end_time": "2021-05-07T12:35:54.887403Z",
     "start_time": "2021-05-07T12:35:54.828752Z"
    },
    "id": "HQHXCYhjBeY_",
    "outputId": "7f000380-3cc6-4a36-df74-891e4cc7fd7d"
   },
   "outputs": [
    {
     "data": {
      "text/plain": [
       "335"
      ]
     },
     "execution_count": 133,
     "metadata": {},
     "output_type": "execute_result"
    }
   ],
   "source": [
    "sum(data['Merch state'].isnull())"
   ]
  },
  {
   "cell_type": "markdown",
   "metadata": {
    "id": "9TpnVK1YBeZA"
   },
   "source": [
    "reduce from 1200 down to 1000"
   ]
  },
  {
   "cell_type": "code",
   "execution_count": 134,
   "metadata": {
    "ExecuteTime": {
     "end_time": "2021-05-07T12:36:09.791901Z",
     "start_time": "2021-05-07T12:35:54.896420Z"
    },
    "id": "T95oGQ7kBeZA",
    "outputId": "37ef9436-b9c5-4852-b88d-2100008f2260"
   },
   "outputs": [],
   "source": [
    "# then group by Merch description & Merch zip, use the mode\n",
    "# if no available zip or description, fill by 'unknown'\n",
    "data['Merch state'] = data['Merch state'].fillna(data.groupby(['Merch description'])['Merch state'] \\\n",
    "                        .transform(lambda x:x.mode()[0] if x.mode().empty==False else 'unknown'))"
   ]
  },
  {
   "cell_type": "code",
   "execution_count": 135,
   "metadata": {
    "ExecuteTime": {
     "end_time": "2021-05-07T12:36:09.902635Z",
     "start_time": "2021-05-07T12:36:09.800793Z"
    },
    "id": "UKSa8o6xBeZA",
    "outputId": "34d1bf2e-caff-4005-b252-c3249b942e48"
   },
   "outputs": [
    {
     "data": {
      "text/plain": [
       "0"
      ]
     },
     "execution_count": 135,
     "metadata": {},
     "output_type": "execute_result"
    }
   ],
   "source": [
    "sum(data['Merch state'].isnull())"
   ]
  },
  {
   "cell_type": "code",
   "execution_count": 136,
   "metadata": {
    "ExecuteTime": {
     "end_time": "2021-05-07T12:36:10.244385Z",
     "start_time": "2021-05-07T12:36:09.932607Z"
    },
    "id": "n5Yd49w3BeZA",
    "outputId": "eda7ca47-6f94-476d-9759-045442433f21"
   },
   "outputs": [],
   "source": [
    "# Merch zip\n",
    "# group by Merch state and use the mode\n",
    "data['Merch zip'] = data['Merch zip'].fillna(data.groupby(['Merch state'])['Merch zip'] \\\n",
    "                        .transform(lambda x:x.mode()[0] if x.mode().empty==False else 'unknown'))"
   ]
  },
  {
   "cell_type": "code",
   "execution_count": 137,
   "metadata": {
    "ExecuteTime": {
     "end_time": "2021-05-07T12:36:10.307498Z",
     "start_time": "2021-05-07T12:36:10.255279Z"
    },
    "id": "1ieOigi0BeZA",
    "outputId": "99a7d36e-a5e3-429b-aed8-e75771fe8bb3"
   },
   "outputs": [
    {
     "data": {
      "text/plain": [
       "0"
      ]
     },
     "execution_count": 137,
     "metadata": {},
     "output_type": "execute_result"
    }
   ],
   "source": [
    "sum(data['Merch zip'].isnull())"
   ]
  },
  {
   "cell_type": "code",
   "execution_count": null,
   "metadata": {
    "id": "zzf4qvRgBeZA"
   },
   "outputs": [],
   "source": []
  },
  {
   "cell_type": "code",
   "execution_count": 138,
   "metadata": {
    "ExecuteTime": {
     "end_time": "2021-05-07T12:36:10.354926Z",
     "start_time": "2021-05-07T12:36:10.342347Z"
    },
    "id": "8amj3a_3BeZB"
   },
   "outputs": [],
   "source": [
    "# total how many unknowns"
   ]
  },
  {
   "cell_type": "code",
   "execution_count": 139,
   "metadata": {
    "ExecuteTime": {
     "end_time": "2021-05-07T12:36:10.440720Z",
     "start_time": "2021-05-07T12:36:10.369130Z"
    },
    "id": "xxoItZQSBeZB",
    "outputId": "78c33d77-4630-4e7f-83ab-8d77632212fa"
   },
   "outputs": [
    {
     "data": {
      "text/plain": [
       "0"
      ]
     },
     "execution_count": 139,
     "metadata": {},
     "output_type": "execute_result"
    }
   ],
   "source": [
    "len(data[data['Merchnum']=='unknown'])"
   ]
  },
  {
   "cell_type": "code",
   "execution_count": 140,
   "metadata": {
    "ExecuteTime": {
     "end_time": "2021-05-07T12:36:10.502475Z",
     "start_time": "2021-05-07T12:36:10.456422Z"
    },
    "id": "CBwvCH3JBeZB",
    "outputId": "0b140e41-173b-4f52-d6b6-a463fe6fe5a1"
   },
   "outputs": [
    {
     "data": {
      "text/plain": [
       "335"
      ]
     },
     "execution_count": 140,
     "metadata": {},
     "output_type": "execute_result"
    }
   ],
   "source": [
    "len(data[data['Merch state']=='unknown'])"
   ]
  },
  {
   "cell_type": "code",
   "execution_count": 141,
   "metadata": {
    "ExecuteTime": {
     "end_time": "2021-05-07T12:36:10.589482Z",
     "start_time": "2021-05-07T12:36:10.513335Z"
    },
    "id": "681wqtKABeZB",
    "outputId": "250b5b48-7abe-4490-d606-36f0fae25f44"
   },
   "outputs": [
    {
     "data": {
      "text/plain": [
       "40"
      ]
     },
     "execution_count": 141,
     "metadata": {},
     "output_type": "execute_result"
    }
   ],
   "source": [
    "len(data[data['Merch zip']=='unknown'])"
   ]
  },
  {
   "cell_type": "code",
   "execution_count": 142,
   "metadata": {
    "ExecuteTime": {
     "end_time": "2021-05-07T12:36:10.680088Z",
     "start_time": "2021-05-07T12:36:10.597711Z"
    },
    "id": "mjw1x299BeZB",
    "outputId": "fd1da422-93e1-4ca6-f231-1977dc2088d0"
   },
   "outputs": [
    {
     "data": {
      "text/plain": [
       "0"
      ]
     },
     "execution_count": 142,
     "metadata": {},
     "output_type": "execute_result"
    }
   ],
   "source": [
    "len(data[(data['Merchnum']=='unknown') & (data['Merch state']=='unknown') & (data['Merch zip']=='unknown')])"
   ]
  },
  {
   "cell_type": "code",
   "execution_count": 143,
   "metadata": {
    "ExecuteTime": {
     "end_time": "2021-05-07T12:36:10.768314Z",
     "start_time": "2021-05-07T12:36:10.702662Z"
    },
    "id": "pgo2kSE4BeZB",
    "outputId": "baa3017c-cd00-4a38-d1d8-b082e43674e2"
   },
   "outputs": [
    {
     "data": {
      "text/plain": [
       "0"
      ]
     },
     "execution_count": 143,
     "metadata": {},
     "output_type": "execute_result"
    }
   ],
   "source": [
    "len(data[(data['Merchnum']=='unknown') & (data['Merch state']=='unknown')])"
   ]
  },
  {
   "cell_type": "code",
   "execution_count": 144,
   "metadata": {
    "ExecuteTime": {
     "end_time": "2021-05-07T12:36:10.802176Z",
     "start_time": "2021-05-07T12:36:10.773837Z"
    },
    "id": "P5L_xyw7BeZC",
    "outputId": "9ece7423-807b-476d-9668-2b832b4f284e"
   },
   "outputs": [
    {
     "data": {
      "text/plain": [
       "0"
      ]
     },
     "execution_count": 144,
     "metadata": {},
     "output_type": "execute_result"
    }
   ],
   "source": [
    "len(data[(data['Merchnum']=='unknown') & (data['Merch zip']=='unknown')])"
   ]
  },
  {
   "cell_type": "code",
   "execution_count": 145,
   "metadata": {
    "ExecuteTime": {
     "end_time": "2021-05-07T12:36:10.871888Z",
     "start_time": "2021-05-07T12:36:10.812753Z"
    }
   },
   "outputs": [
    {
     "data": {
      "text/plain": [
       "Recnum                  0\n",
       "Cardnum                 0\n",
       "Date                    0\n",
       "Merchnum             2038\n",
       "Merch description       0\n",
       "Merch state             0\n",
       "Merch zip               0\n",
       "Transtype               0\n",
       "Amount                  0\n",
       "Fraud                   0\n",
       "dtype: int64"
      ]
     },
     "execution_count": 145,
     "metadata": {},
     "output_type": "execute_result"
    }
   ],
   "source": [
    "data.isna().sum()"
   ]
  },
  {
   "cell_type": "code",
   "execution_count": 146,
   "metadata": {
    "ExecuteTime": {
     "end_time": "2021-05-07T12:36:10.941945Z",
     "start_time": "2021-05-07T12:36:10.880263Z"
    }
   },
   "outputs": [],
   "source": [
    "data = data.replace(np.nan,'unknown')"
   ]
  },
  {
   "cell_type": "code",
   "execution_count": 147,
   "metadata": {
    "ExecuteTime": {
     "end_time": "2021-05-07T12:36:11.062027Z",
     "start_time": "2021-05-07T12:36:10.944859Z"
    }
   },
   "outputs": [
    {
     "data": {
      "text/plain": [
       "Recnum               0\n",
       "Cardnum              0\n",
       "Date                 0\n",
       "Merchnum             0\n",
       "Merch description    0\n",
       "Merch state          0\n",
       "Merch zip            0\n",
       "Transtype            0\n",
       "Amount               0\n",
       "Fraud                0\n",
       "dtype: int64"
      ]
     },
     "execution_count": 147,
     "metadata": {},
     "output_type": "execute_result"
    }
   ],
   "source": [
    "data.isna().sum()"
   ]
  },
  {
   "cell_type": "code",
   "execution_count": 39,
   "metadata": {
    "ExecuteTime": {
     "end_time": "2021-05-07T11:36:39.892182Z",
     "start_time": "2021-05-07T11:36:38.282834Z"
    },
    "id": "deFfsY3eBeZC"
   },
   "outputs": [],
   "source": [
    "data.to_csv('data_cleaned.csv')"
   ]
  },
  {
   "cell_type": "code",
   "execution_count": 86,
   "metadata": {
    "ExecuteTime": {
     "end_time": "2021-05-07T12:25:02.909668Z",
     "start_time": "2021-05-07T12:25:02.902410Z"
    }
   },
   "outputs": [
    {
     "data": {
      "text/plain": [
       "(96397, 13)"
      ]
     },
     "execution_count": 86,
     "metadata": {},
     "output_type": "execute_result"
    }
   ],
   "source": [
    "data.shape"
   ]
  },
  {
   "cell_type": "markdown",
   "metadata": {},
   "source": [
    "### Feature Engineering"
   ]
  },
  {
   "cell_type": "code",
   "execution_count": 148,
   "metadata": {
    "ExecuteTime": {
     "end_time": "2021-05-07T12:36:11.426140Z",
     "start_time": "2021-05-07T12:36:11.069312Z"
    },
    "id": "q_ru8eh6BeZC"
   },
   "outputs": [],
   "source": [
    "data['Cardnum']=data['Cardnum'].astype(str)\n",
    "data['Merchnum']=data['Merchnum'].astype(str)\n",
    "data['Merch zip']=data['Merch zip'].astype(str)\n",
    "data['card_merchnum']=data.Cardnum+data.Merchnum\n",
    "data['card_zip']=data.Cardnum+data['Merch zip']\n",
    "data['card_state']=data.Cardnum+data['Merch state']"
   ]
  },
  {
   "cell_type": "code",
   "execution_count": 149,
   "metadata": {
    "ExecuteTime": {
     "end_time": "2021-05-07T12:36:11.456826Z",
     "start_time": "2021-05-07T12:36:11.435362Z"
    }
   },
   "outputs": [],
   "source": [
    "attributes=['Cardnum','Merchnum','card_merchnum','card_zip','card_state']"
   ]
  },
  {
   "cell_type": "code",
   "execution_count": 150,
   "metadata": {
    "ExecuteTime": {
     "end_time": "2021-05-07T12:36:11.607185Z",
     "start_time": "2021-05-07T12:36:11.464658Z"
    }
   },
   "outputs": [],
   "source": [
    "df1 = data.copy()\n",
    "final = data.copy()\n",
    "df1['check_date'] = df1.Date\n",
    "df1['check_record'] = df1.Recnum"
   ]
  },
  {
   "cell_type": "code",
   "execution_count": 151,
   "metadata": {
    "ExecuteTime": {
     "end_time": "2021-05-07T12:36:11.620990Z",
     "start_time": "2021-05-07T12:36:11.613495Z"
    }
   },
   "outputs": [],
   "source": [
    "import datetime as dt"
   ]
  },
  {
   "cell_type": "code",
   "execution_count": 152,
   "metadata": {
    "ExecuteTime": {
     "end_time": "2021-05-07T12:41:29.272256Z",
     "start_time": "2021-05-07T12:36:11.629446Z"
    }
   },
   "outputs": [],
   "source": [
    "\n",
    "for entity in attributes:\n",
    "    df_1 = df1[['Recnum','Date',entity]]\n",
    "    df_r = df1[['check_record','check_date',entity,'Amount']]\n",
    "    temp = pd.merge(df_1,df_r,left_on=entity,right_on=entity)\n",
    "    #day since\n",
    "    day_since_df = temp[temp.Recnum > temp.check_record][['Recnum','Date','check_date']]\\\n",
    "        .groupby('Recnum')[['Date','check_date']].last()\n",
    "    mapper = (day_since_df.Date - day_since_df.check_date).dt.days\n",
    "    final[entity + '_day_since'] = final.Recnum.map(mapper)\n",
    "    final[entity + '_day_since'].fillna(365,inplace=True)\n",
    "    \n",
    "    \n",
    "    for offset_t in [0,1,3,7,14,30]:\n",
    "        #frequency variable\n",
    "        count_day_df = temp[(temp.check_date >= (temp.Date - dt.timedelta(offset_t)))\n",
    "                           & (temp.Recnum >= temp.check_record)]\n",
    "        col_name = f'{entity}_count_{offset_t}'\n",
    "        mapper2 = count_day_df.groupby('Recnum')[entity].count()\n",
    "        final[col_name] = final.Recnum.map(mapper2)\n",
    "        #amount mean variable\n",
    "        count_day_df = temp[(temp.check_date >= (temp.Date - dt.timedelta(offset_t)))\n",
    "                           & (temp.Recnum >= temp.check_record)]\n",
    "        col_name = f'ave_amount_{entity}_count_{offset_t}'\n",
    "        mapper3 = count_day_df.groupby(entity)['Amount'].mean()\n",
    "        final[col_name] = final[entity].map(mapper3)\n",
    "        #amount max variable\n",
    "        count_day_df = temp[(temp.check_date >= (temp.Date - dt.timedelta(offset_t)))\n",
    "                           & (temp.Recnum >= temp.check_record)]\n",
    "        col_name = f'max_amount_{entity}_count_{offset_t}'\n",
    "        mapper4 = count_day_df.groupby(entity)['Amount'].max()\n",
    "        final[col_name] = final[entity].map(mapper4)\n",
    "        #amount sum variable\n",
    "        \n",
    "        count_day_df = temp[(temp.check_date >= (temp.Date - dt.timedelta(offset_t)))\n",
    "                           & (temp.Recnum >= temp.check_record)]\n",
    "        col_name = f'sum_amount_{entity}_count_{offset_t}'\n",
    "        mapper5 = count_day_df.groupby(entity)['Amount'].sum()\n",
    "        final[col_name] = final[entity].map(mapper5)\n",
    "        #amount median variable\n",
    "        count_day_df = temp[(temp.check_date >= (temp.Date - dt.timedelta(offset_t)))\n",
    "                           & (temp.Recnum >= temp.check_record)]\n",
    "        col_name = f'median_amount_{entity}_count_{offset_t}'\n",
    "        mapper6 = count_day_df.groupby(entity)['Amount'].median()\n",
    "        final[col_name] = final[entity].map(mapper6)\n",
    " \n"
   ]
  },
  {
   "cell_type": "code",
   "execution_count": 153,
   "metadata": {
    "ExecuteTime": {
     "end_time": "2021-05-07T12:41:29.924742Z",
     "start_time": "2021-05-07T12:41:29.285086Z"
    }
   },
   "outputs": [],
   "source": [
    "for entity in attributes:\n",
    "    for offset_t in [0,1,3,7,14,30]:\n",
    "        # amount act/mean variable\n",
    "        col_name = f'act/mean_amount_{entity}_count_{offset_t}'\n",
    "        final[col_name] = final['Amount']/final[f'ave_amount_{entity}_count_{offset_t}']\n",
    "        # amount act/max variable\n",
    "        col_name = f'act/max_amount_{entity}_count_{offset_t}'\n",
    "        final[col_name] = final['Amount']/final[f'max_amount_{entity}_count_{offset_t}']\n",
    "        # amount act/total variable\n",
    "        col_name = f'act/sum_amount_{entity}_count_{offset_t}'\n",
    "        final[col_name] = final['Amount']/final[f'sum_amount_{entity}_count_{offset_t}']\n",
    "        # amount act/median variable\n",
    "        col_name = f'act/median_amount_{entity}_count_{offset_t}'\n",
    "        final[col_name] = final['Amount']/final[f'median_amount_{entity}_count_{offset_t}']\n",
    "        "
   ]
  },
  {
   "cell_type": "code",
   "execution_count": 154,
   "metadata": {
    "ExecuteTime": {
     "end_time": "2021-05-07T12:41:30.659109Z",
     "start_time": "2021-05-07T12:41:29.928634Z"
    }
   },
   "outputs": [],
   "source": [
    "for att in attributes:\n",
    "  for d in ['0','1']:\n",
    "    for dd in ['3','7','14','30']:\n",
    "    #number velocity change variable\n",
    "        final[att+'_count_'+d+'_by_'+dd] \\\n",
    "        = final[att + '_count_'+d] / (final[att+'_count_'+dd] / float(dd))\n",
    "    #amount velocity change variable\n",
    "        final[att+'_amount_'+d+'_by_'+dd] \\\n",
    "        = final['sum_amount_'+att + '_count_'+d] / (final['sum_amount_'+att+'_count_'+dd] / float(dd))"
   ]
  },
  {
   "cell_type": "code",
   "execution_count": 155,
   "metadata": {
    "ExecuteTime": {
     "end_time": "2021-05-07T12:41:30.744889Z",
     "start_time": "2021-05-07T12:41:30.665663Z"
    }
   },
   "outputs": [
    {
     "data": {
      "text/html": [
       "<div>\n",
       "<style scoped>\n",
       "    .dataframe tbody tr th:only-of-type {\n",
       "        vertical-align: middle;\n",
       "    }\n",
       "\n",
       "    .dataframe tbody tr th {\n",
       "        vertical-align: top;\n",
       "    }\n",
       "\n",
       "    .dataframe thead th {\n",
       "        text-align: right;\n",
       "    }\n",
       "</style>\n",
       "<table border=\"1\" class=\"dataframe\">\n",
       "  <thead>\n",
       "    <tr style=\"text-align: right;\">\n",
       "      <th></th>\n",
       "      <th>Recnum</th>\n",
       "      <th>Cardnum</th>\n",
       "      <th>Date</th>\n",
       "      <th>Merchnum</th>\n",
       "      <th>Merch description</th>\n",
       "      <th>Merch state</th>\n",
       "      <th>Merch zip</th>\n",
       "      <th>Transtype</th>\n",
       "      <th>Amount</th>\n",
       "      <th>Fraud</th>\n",
       "      <th>...</th>\n",
       "      <th>card_state_count_0_by_30</th>\n",
       "      <th>card_state_amount_0_by_30</th>\n",
       "      <th>card_state_count_1_by_3</th>\n",
       "      <th>card_state_amount_1_by_3</th>\n",
       "      <th>card_state_count_1_by_7</th>\n",
       "      <th>card_state_amount_1_by_7</th>\n",
       "      <th>card_state_count_1_by_14</th>\n",
       "      <th>card_state_amount_1_by_14</th>\n",
       "      <th>card_state_count_1_by_30</th>\n",
       "      <th>card_state_amount_1_by_30</th>\n",
       "    </tr>\n",
       "  </thead>\n",
       "  <tbody>\n",
       "    <tr>\n",
       "      <th>0</th>\n",
       "      <td>1</td>\n",
       "      <td>5142190439</td>\n",
       "      <td>2010-01-01</td>\n",
       "      <td>5509006296254</td>\n",
       "      <td>FEDEX SHP 12/23/09 AB#</td>\n",
       "      <td>TN</td>\n",
       "      <td>38118.0</td>\n",
       "      <td>P</td>\n",
       "      <td>3.62</td>\n",
       "      <td>0</td>\n",
       "      <td>...</td>\n",
       "      <td>30.0</td>\n",
       "      <td>5.687965</td>\n",
       "      <td>3.0</td>\n",
       "      <td>2.434137</td>\n",
       "      <td>7.0</td>\n",
       "      <td>3.601697</td>\n",
       "      <td>14.0</td>\n",
       "      <td>5.052264</td>\n",
       "      <td>30.0</td>\n",
       "      <td>6.595622</td>\n",
       "    </tr>\n",
       "    <tr>\n",
       "      <th>1</th>\n",
       "      <td>2</td>\n",
       "      <td>5142183973</td>\n",
       "      <td>2010-01-01</td>\n",
       "      <td>61003026333</td>\n",
       "      <td>SERVICE MERCHANDISE #81</td>\n",
       "      <td>MA</td>\n",
       "      <td>1803.0</td>\n",
       "      <td>P</td>\n",
       "      <td>31.42</td>\n",
       "      <td>0</td>\n",
       "      <td>...</td>\n",
       "      <td>30.0</td>\n",
       "      <td>6.054642</td>\n",
       "      <td>3.0</td>\n",
       "      <td>2.490411</td>\n",
       "      <td>7.0</td>\n",
       "      <td>4.103679</td>\n",
       "      <td>14.0</td>\n",
       "      <td>5.990636</td>\n",
       "      <td>30.0</td>\n",
       "      <td>6.818594</td>\n",
       "    </tr>\n",
       "    <tr>\n",
       "      <th>2</th>\n",
       "      <td>3</td>\n",
       "      <td>5142131721</td>\n",
       "      <td>2010-01-01</td>\n",
       "      <td>4503082993600</td>\n",
       "      <td>OFFICE DEPOT #191</td>\n",
       "      <td>MD</td>\n",
       "      <td>20706.0</td>\n",
       "      <td>P</td>\n",
       "      <td>178.49</td>\n",
       "      <td>0</td>\n",
       "      <td>...</td>\n",
       "      <td>30.0</td>\n",
       "      <td>6.672983</td>\n",
       "      <td>3.0</td>\n",
       "      <td>2.317355</td>\n",
       "      <td>7.0</td>\n",
       "      <td>4.097748</td>\n",
       "      <td>14.0</td>\n",
       "      <td>6.260969</td>\n",
       "      <td>30.0</td>\n",
       "      <td>8.987599</td>\n",
       "    </tr>\n",
       "    <tr>\n",
       "      <th>3</th>\n",
       "      <td>4</td>\n",
       "      <td>5142148452</td>\n",
       "      <td>2010-01-01</td>\n",
       "      <td>5509006296254</td>\n",
       "      <td>FEDEX SHP 12/28/09 AB#</td>\n",
       "      <td>TN</td>\n",
       "      <td>38118.0</td>\n",
       "      <td>P</td>\n",
       "      <td>3.62</td>\n",
       "      <td>0</td>\n",
       "      <td>...</td>\n",
       "      <td>30.0</td>\n",
       "      <td>2.087390</td>\n",
       "      <td>3.0</td>\n",
       "      <td>1.737874</td>\n",
       "      <td>7.0</td>\n",
       "      <td>2.050805</td>\n",
       "      <td>14.0</td>\n",
       "      <td>2.324949</td>\n",
       "      <td>30.0</td>\n",
       "      <td>2.867464</td>\n",
       "    </tr>\n",
       "    <tr>\n",
       "      <th>4</th>\n",
       "      <td>5</td>\n",
       "      <td>5142190439</td>\n",
       "      <td>2010-01-01</td>\n",
       "      <td>5509006296254</td>\n",
       "      <td>FEDEX SHP 12/23/09 AB#</td>\n",
       "      <td>TN</td>\n",
       "      <td>38118.0</td>\n",
       "      <td>P</td>\n",
       "      <td>3.62</td>\n",
       "      <td>0</td>\n",
       "      <td>...</td>\n",
       "      <td>30.0</td>\n",
       "      <td>5.687965</td>\n",
       "      <td>3.0</td>\n",
       "      <td>2.434137</td>\n",
       "      <td>7.0</td>\n",
       "      <td>3.601697</td>\n",
       "      <td>14.0</td>\n",
       "      <td>5.052264</td>\n",
       "      <td>30.0</td>\n",
       "      <td>6.595622</td>\n",
       "    </tr>\n",
       "  </tbody>\n",
       "</table>\n",
       "<p>5 rows × 368 columns</p>\n",
       "</div>"
      ],
      "text/plain": [
       "   Recnum     Cardnum       Date       Merchnum        Merch description  \\\n",
       "0       1  5142190439 2010-01-01  5509006296254   FEDEX SHP 12/23/09 AB#   \n",
       "1       2  5142183973 2010-01-01    61003026333  SERVICE MERCHANDISE #81   \n",
       "2       3  5142131721 2010-01-01  4503082993600        OFFICE DEPOT #191   \n",
       "3       4  5142148452 2010-01-01  5509006296254   FEDEX SHP 12/28/09 AB#   \n",
       "4       5  5142190439 2010-01-01  5509006296254   FEDEX SHP 12/23/09 AB#   \n",
       "\n",
       "  Merch state Merch zip Transtype  Amount  Fraud  ...  \\\n",
       "0          TN   38118.0         P    3.62      0  ...   \n",
       "1          MA    1803.0         P   31.42      0  ...   \n",
       "2          MD   20706.0         P  178.49      0  ...   \n",
       "3          TN   38118.0         P    3.62      0  ...   \n",
       "4          TN   38118.0         P    3.62      0  ...   \n",
       "\n",
       "  card_state_count_0_by_30 card_state_amount_0_by_30 card_state_count_1_by_3  \\\n",
       "0                     30.0                  5.687965                     3.0   \n",
       "1                     30.0                  6.054642                     3.0   \n",
       "2                     30.0                  6.672983                     3.0   \n",
       "3                     30.0                  2.087390                     3.0   \n",
       "4                     30.0                  5.687965                     3.0   \n",
       "\n",
       "   card_state_amount_1_by_3  card_state_count_1_by_7  \\\n",
       "0                  2.434137                      7.0   \n",
       "1                  2.490411                      7.0   \n",
       "2                  2.317355                      7.0   \n",
       "3                  1.737874                      7.0   \n",
       "4                  2.434137                      7.0   \n",
       "\n",
       "   card_state_amount_1_by_7  card_state_count_1_by_14  \\\n",
       "0                  3.601697                      14.0   \n",
       "1                  4.103679                      14.0   \n",
       "2                  4.097748                      14.0   \n",
       "3                  2.050805                      14.0   \n",
       "4                  3.601697                      14.0   \n",
       "\n",
       "   card_state_amount_1_by_14  card_state_count_1_by_30  \\\n",
       "0                   5.052264                      30.0   \n",
       "1                   5.990636                      30.0   \n",
       "2                   6.260969                      30.0   \n",
       "3                   2.324949                      30.0   \n",
       "4                   5.052264                      30.0   \n",
       "\n",
       "   card_state_amount_1_by_30  \n",
       "0                   6.595622  \n",
       "1                   6.818594  \n",
       "2                   8.987599  \n",
       "3                   2.867464  \n",
       "4                   6.595622  \n",
       "\n",
       "[5 rows x 368 columns]"
      ]
     },
     "execution_count": 155,
     "metadata": {},
     "output_type": "execute_result"
    }
   ],
   "source": [
    "final.head()"
   ]
  },
  {
   "cell_type": "code",
   "execution_count": 156,
   "metadata": {
    "ExecuteTime": {
     "end_time": "2021-05-07T12:41:30.773525Z",
     "start_time": "2021-05-07T12:41:30.754641Z"
    }
   },
   "outputs": [],
   "source": [
    "import calendar"
   ]
  },
  {
   "cell_type": "code",
   "execution_count": 157,
   "metadata": {
    "ExecuteTime": {
     "end_time": "2021-05-07T12:41:33.453194Z",
     "start_time": "2021-05-07T12:41:30.781216Z"
    }
   },
   "outputs": [],
   "source": [
    "final['dow'] = final['Date'].apply(lambda x: calendar.day_name[x.weekday()])\n",
    "\n",
    "# use 2 month as OOT data\n",
    "train_test = final[final['Date'] < '2010-11-01']\n",
    "\n",
    "# statistical smoothing\n",
    "c = 4\n",
    "nmid = 20\n",
    "y_avg = train_test['Fraud'].mean()\n",
    "y_dow = train_test.groupby('dow')['Fraud'].mean()\n",
    "num = train_test.groupby('dow').size()\n",
    "y_dow_smooth = y_avg + (y_dow - y_avg)/(1 + np.exp(-(num - nmid)/c))\n",
    "final['dow_risk'] = final['dow'].map(y_dow_smooth)"
   ]
  },
  {
   "cell_type": "code",
   "execution_count": 158,
   "metadata": {
    "ExecuteTime": {
     "end_time": "2021-05-07T12:41:33.992716Z",
     "start_time": "2021-05-07T12:41:33.456125Z"
    }
   },
   "outputs": [
    {
     "data": {
      "text/plain": [
       "dow\n",
       "Friday       0.025994\n",
       "Monday       0.008711\n",
       "Saturday     0.010095\n",
       "Sunday       0.009630\n",
       "Thursday     0.018626\n",
       "Tuesday      0.007127\n",
       "Wednesday    0.009788\n",
       "Name: dow_risk, dtype: float64"
      ]
     },
     "execution_count": 158,
     "metadata": {},
     "output_type": "execute_result"
    }
   ],
   "source": [
    "final.groupby('dow')['dow_risk'].mean()"
   ]
  },
  {
   "cell_type": "code",
   "execution_count": 159,
   "metadata": {
    "ExecuteTime": {
     "end_time": "2021-05-07T12:41:34.527698Z",
     "start_time": "2021-05-07T12:41:33.996362Z"
    }
   },
   "outputs": [],
   "source": [
    "# use only the previous time data\n",
    "#bf = bf[bf['Date']<'2010-11-01']\n",
    "##################################################################\n",
    "# A better, safer way would be to build these variables anew for each record, \n",
    "#using only the previous time data. \n",
    "bf = data.copy()\n",
    "# remove Fedex transaction\n",
    "bf['check_Fedex'] = bf['Merch description'].apply(lambda x:x[:5])\n",
    "bf.drop(bf[bf['check_Fedex']=='FEDEX'].index, axis=0, inplace=True)\n",
    "bf.drop('check_Fedex', axis=1, inplace=True)\n",
    "\n",
    "# find the first digit of amount\n",
    "bf['f_digit'] = bf['Amount'].apply(lambda x:int(str(x*100)[:1]))\n",
    "bf['is_low'] = bf['f_digit'].apply(lambda x: 1 if x<3 else 0)"
   ]
  },
  {
   "cell_type": "code",
   "execution_count": 160,
   "metadata": {
    "ExecuteTime": {
     "end_time": "2021-05-07T12:41:34.693099Z",
     "start_time": "2021-05-07T12:41:34.543730Z"
    }
   },
   "outputs": [],
   "source": [
    "# group by 'Cardnum'\n",
    "n_low = bf.groupby('Cardnum')['is_low'].sum()\n",
    "n = bf.groupby('Cardnum')['f_digit'].count()\n",
    "n_high = n - n_low\n",
    "# if either n_low or n_high = 0, set them to 0\n",
    "n_low = n_low.apply(lambda x: 1 if x==0 else x)\n",
    "n_high = n_high.apply(lambda x: 1 if x==0 else x)\n",
    "R = 1.096 * n_low / n_high\n",
    "R_reverse = 1/R\n",
    "r_df = pd.concat([R, R_reverse], axis=1).rename(columns={0:'R',1:'1/R'})\n",
    "U = r_df[['R','1/R']].max(axis=1)\n",
    "# smoothing\n",
    "c=3\n",
    "nmid=15\n",
    "U_star = 1 + (U-1)/(1+np.exp(-(n-nmid)/c))\n",
    "final['benford_card'] = final['Cardnum'].map(U_star)"
   ]
  },
  {
   "cell_type": "code",
   "execution_count": 161,
   "metadata": {
    "ExecuteTime": {
     "end_time": "2021-05-07T12:41:34.924210Z",
     "start_time": "2021-05-07T12:41:34.696980Z"
    }
   },
   "outputs": [],
   "source": [
    "# group by'Merchnum'\n",
    "n_low = bf.groupby('Merchnum')['is_low'].sum()\n",
    "n = bf.groupby('Merchnum')['f_digit'].count()\n",
    "n_high = n - n_low\n",
    "# if either n_low or n_high = 0, set them to 0\n",
    "n_low = n_low.apply(lambda x: 1 if x==0 else x)\n",
    "n_high = n_high.apply(lambda x: 1 if x==0 else x)\n",
    "R = 1.096 * n_low / n_high\n",
    "R_reverse = 1/R\n",
    "r_df = pd.concat([R, R_reverse], axis=1).rename(columns={0:'R',1:'1/R'})\n",
    "U = r_df[['R','1/R']].max(axis=1)\n",
    "# smoothing\n",
    "c=3\n",
    "nmid=15\n",
    "U_star = 1 + (U-1)/(1+np.exp(-(n-nmid)/c))\n",
    "# fillin 1 for Fedex\n",
    "U_star = U_star.append(pd.Series([1], index=['5509006296254']))\n",
    "final['benford_merch'] = final['Merchnum'].map(U_star)"
   ]
  },
  {
   "cell_type": "code",
   "execution_count": 162,
   "metadata": {
    "ExecuteTime": {
     "end_time": "2021-05-07T12:41:34.987531Z",
     "start_time": "2021-05-07T12:41:34.932293Z"
    }
   },
   "outputs": [
    {
     "data": {
      "text/html": [
       "<div>\n",
       "<style scoped>\n",
       "    .dataframe tbody tr th:only-of-type {\n",
       "        vertical-align: middle;\n",
       "    }\n",
       "\n",
       "    .dataframe tbody tr th {\n",
       "        vertical-align: top;\n",
       "    }\n",
       "\n",
       "    .dataframe thead th {\n",
       "        text-align: right;\n",
       "    }\n",
       "</style>\n",
       "<table border=\"1\" class=\"dataframe\">\n",
       "  <thead>\n",
       "    <tr style=\"text-align: right;\">\n",
       "      <th></th>\n",
       "      <th>Recnum</th>\n",
       "      <th>Cardnum</th>\n",
       "      <th>Date</th>\n",
       "      <th>Merchnum</th>\n",
       "      <th>Merch description</th>\n",
       "      <th>Merch state</th>\n",
       "      <th>Merch zip</th>\n",
       "      <th>Transtype</th>\n",
       "      <th>Amount</th>\n",
       "      <th>Fraud</th>\n",
       "      <th>...</th>\n",
       "      <th>card_state_count_1_by_7</th>\n",
       "      <th>card_state_amount_1_by_7</th>\n",
       "      <th>card_state_count_1_by_14</th>\n",
       "      <th>card_state_amount_1_by_14</th>\n",
       "      <th>card_state_count_1_by_30</th>\n",
       "      <th>card_state_amount_1_by_30</th>\n",
       "      <th>dow</th>\n",
       "      <th>dow_risk</th>\n",
       "      <th>benford_card</th>\n",
       "      <th>benford_merch</th>\n",
       "    </tr>\n",
       "  </thead>\n",
       "  <tbody>\n",
       "    <tr>\n",
       "      <th>0</th>\n",
       "      <td>1</td>\n",
       "      <td>5142190439</td>\n",
       "      <td>2010-01-01</td>\n",
       "      <td>5509006296254</td>\n",
       "      <td>FEDEX SHP 12/23/09 AB#</td>\n",
       "      <td>TN</td>\n",
       "      <td>38118.0</td>\n",
       "      <td>P</td>\n",
       "      <td>3.62</td>\n",
       "      <td>0</td>\n",
       "      <td>...</td>\n",
       "      <td>7.0</td>\n",
       "      <td>3.601697</td>\n",
       "      <td>14.0</td>\n",
       "      <td>5.052264</td>\n",
       "      <td>30.0</td>\n",
       "      <td>6.595622</td>\n",
       "      <td>Friday</td>\n",
       "      <td>0.025994</td>\n",
       "      <td>2.178008</td>\n",
       "      <td>1.000000</td>\n",
       "    </tr>\n",
       "    <tr>\n",
       "      <th>1</th>\n",
       "      <td>2</td>\n",
       "      <td>5142183973</td>\n",
       "      <td>2010-01-01</td>\n",
       "      <td>61003026333</td>\n",
       "      <td>SERVICE MERCHANDISE #81</td>\n",
       "      <td>MA</td>\n",
       "      <td>1803.0</td>\n",
       "      <td>P</td>\n",
       "      <td>31.42</td>\n",
       "      <td>0</td>\n",
       "      <td>...</td>\n",
       "      <td>7.0</td>\n",
       "      <td>4.103679</td>\n",
       "      <td>14.0</td>\n",
       "      <td>5.990636</td>\n",
       "      <td>30.0</td>\n",
       "      <td>6.818594</td>\n",
       "      <td>Friday</td>\n",
       "      <td>0.025994</td>\n",
       "      <td>1.604857</td>\n",
       "      <td>1.000894</td>\n",
       "    </tr>\n",
       "    <tr>\n",
       "      <th>2</th>\n",
       "      <td>3</td>\n",
       "      <td>5142131721</td>\n",
       "      <td>2010-01-01</td>\n",
       "      <td>4503082993600</td>\n",
       "      <td>OFFICE DEPOT #191</td>\n",
       "      <td>MD</td>\n",
       "      <td>20706.0</td>\n",
       "      <td>P</td>\n",
       "      <td>178.49</td>\n",
       "      <td>0</td>\n",
       "      <td>...</td>\n",
       "      <td>7.0</td>\n",
       "      <td>4.097748</td>\n",
       "      <td>14.0</td>\n",
       "      <td>6.260969</td>\n",
       "      <td>30.0</td>\n",
       "      <td>8.987599</td>\n",
       "      <td>Friday</td>\n",
       "      <td>0.025994</td>\n",
       "      <td>2.368143</td>\n",
       "      <td>1.025818</td>\n",
       "    </tr>\n",
       "    <tr>\n",
       "      <th>3</th>\n",
       "      <td>4</td>\n",
       "      <td>5142148452</td>\n",
       "      <td>2010-01-01</td>\n",
       "      <td>5509006296254</td>\n",
       "      <td>FEDEX SHP 12/28/09 AB#</td>\n",
       "      <td>TN</td>\n",
       "      <td>38118.0</td>\n",
       "      <td>P</td>\n",
       "      <td>3.62</td>\n",
       "      <td>0</td>\n",
       "      <td>...</td>\n",
       "      <td>7.0</td>\n",
       "      <td>2.050805</td>\n",
       "      <td>14.0</td>\n",
       "      <td>2.324949</td>\n",
       "      <td>30.0</td>\n",
       "      <td>2.867464</td>\n",
       "      <td>Friday</td>\n",
       "      <td>0.025994</td>\n",
       "      <td>1.044105</td>\n",
       "      <td>1.000000</td>\n",
       "    </tr>\n",
       "    <tr>\n",
       "      <th>4</th>\n",
       "      <td>5</td>\n",
       "      <td>5142190439</td>\n",
       "      <td>2010-01-01</td>\n",
       "      <td>5509006296254</td>\n",
       "      <td>FEDEX SHP 12/23/09 AB#</td>\n",
       "      <td>TN</td>\n",
       "      <td>38118.0</td>\n",
       "      <td>P</td>\n",
       "      <td>3.62</td>\n",
       "      <td>0</td>\n",
       "      <td>...</td>\n",
       "      <td>7.0</td>\n",
       "      <td>3.601697</td>\n",
       "      <td>14.0</td>\n",
       "      <td>5.052264</td>\n",
       "      <td>30.0</td>\n",
       "      <td>6.595622</td>\n",
       "      <td>Friday</td>\n",
       "      <td>0.025994</td>\n",
       "      <td>2.178008</td>\n",
       "      <td>1.000000</td>\n",
       "    </tr>\n",
       "  </tbody>\n",
       "</table>\n",
       "<p>5 rows × 372 columns</p>\n",
       "</div>"
      ],
      "text/plain": [
       "   Recnum     Cardnum       Date       Merchnum        Merch description  \\\n",
       "0       1  5142190439 2010-01-01  5509006296254   FEDEX SHP 12/23/09 AB#   \n",
       "1       2  5142183973 2010-01-01    61003026333  SERVICE MERCHANDISE #81   \n",
       "2       3  5142131721 2010-01-01  4503082993600        OFFICE DEPOT #191   \n",
       "3       4  5142148452 2010-01-01  5509006296254   FEDEX SHP 12/28/09 AB#   \n",
       "4       5  5142190439 2010-01-01  5509006296254   FEDEX SHP 12/23/09 AB#   \n",
       "\n",
       "  Merch state Merch zip Transtype  Amount  Fraud  ... card_state_count_1_by_7  \\\n",
       "0          TN   38118.0         P    3.62      0  ...                     7.0   \n",
       "1          MA    1803.0         P   31.42      0  ...                     7.0   \n",
       "2          MD   20706.0         P  178.49      0  ...                     7.0   \n",
       "3          TN   38118.0         P    3.62      0  ...                     7.0   \n",
       "4          TN   38118.0         P    3.62      0  ...                     7.0   \n",
       "\n",
       "  card_state_amount_1_by_7 card_state_count_1_by_14  \\\n",
       "0                 3.601697                     14.0   \n",
       "1                 4.103679                     14.0   \n",
       "2                 4.097748                     14.0   \n",
       "3                 2.050805                     14.0   \n",
       "4                 3.601697                     14.0   \n",
       "\n",
       "   card_state_amount_1_by_14  card_state_count_1_by_30  \\\n",
       "0                   5.052264                      30.0   \n",
       "1                   5.990636                      30.0   \n",
       "2                   6.260969                      30.0   \n",
       "3                   2.324949                      30.0   \n",
       "4                   5.052264                      30.0   \n",
       "\n",
       "   card_state_amount_1_by_30     dow  dow_risk  benford_card  benford_merch  \n",
       "0                   6.595622  Friday  0.025994      2.178008       1.000000  \n",
       "1                   6.818594  Friday  0.025994      1.604857       1.000894  \n",
       "2                   8.987599  Friday  0.025994      2.368143       1.025818  \n",
       "3                   2.867464  Friday  0.025994      1.044105       1.000000  \n",
       "4                   6.595622  Friday  0.025994      2.178008       1.000000  \n",
       "\n",
       "[5 rows x 372 columns]"
      ]
     },
     "execution_count": 162,
     "metadata": {},
     "output_type": "execute_result"
    }
   ],
   "source": [
    "final.head()"
   ]
  },
  {
   "cell_type": "code",
   "execution_count": 163,
   "metadata": {
    "ExecuteTime": {
     "end_time": "2021-05-07T12:42:39.081969Z",
     "start_time": "2021-05-07T12:41:38.517961Z"
    }
   },
   "outputs": [],
   "source": [
    "final.to_csv('new clean data.csv')"
   ]
  },
  {
   "cell_type": "markdown",
   "metadata": {},
   "source": [
    "### Filter"
   ]
  },
  {
   "cell_type": "code",
   "execution_count": 60,
   "metadata": {
    "ExecuteTime": {
     "end_time": "2021-05-07T11:50:55.110217Z",
     "start_time": "2021-05-07T11:50:55.102075Z"
    }
   },
   "outputs": [],
   "source": [
    "org=['Recnum','Date','Merch description','Merch state','Merch zip','Transtype','Amount']"
   ]
  },
  {
   "cell_type": "code",
   "execution_count": 61,
   "metadata": {
    "ExecuteTime": {
     "end_time": "2021-05-07T11:50:56.899974Z",
     "start_time": "2021-05-07T11:50:55.863672Z"
    }
   },
   "outputs": [],
   "source": [
    "final = final[final['Date']<'2010-11-01']\n",
    "final = final[final['Date']>'2010-01-14']"
   ]
  },
  {
   "cell_type": "code",
   "execution_count": 62,
   "metadata": {
    "ExecuteTime": {
     "end_time": "2021-05-07T11:51:32.475507Z",
     "start_time": "2021-05-07T11:51:31.544165Z"
    }
   },
   "outputs": [
    {
     "name": "stderr",
     "output_type": "stream",
     "text": [
      "/opt/anaconda3/lib/python3.7/site-packages/pandas/core/frame.py:3997: SettingWithCopyWarning: \n",
      "A value is trying to be set on a copy of a slice from a DataFrame\n",
      "\n",
      "See the caveats in the documentation: https://pandas.pydata.org/pandas-docs/stable/user_guide/indexing.html#returning-a-view-versus-a-copy\n",
      "  errors=errors,\n"
     ]
    }
   ],
   "source": [
    "goods=final[final['Fraud']==0]\n",
    "bads=final[final['Fraud']==1]\n",
    "KSFDR = pd.DataFrame()\n",
    "goods.drop(attributes,axis=1,inplace=True)\n",
    "bads.drop(attributes,axis=1,inplace=True)\n",
    "goods.drop(org,axis=1,inplace=True)\n",
    "bads.drop(org,axis=1,inplace=True)\n",
    "goods.drop('dow', axis=1, inplace=True)\n",
    "bads.drop('dow', axis=1, inplace=True)"
   ]
  },
  {
   "cell_type": "code",
   "execution_count": 65,
   "metadata": {
    "ExecuteTime": {
     "end_time": "2021-05-07T11:52:10.361639Z",
     "start_time": "2021-05-07T11:52:03.626346Z"
    }
   },
   "outputs": [
    {
     "data": {
      "text/html": [
       "<div>\n",
       "<style scoped>\n",
       "    .dataframe tbody tr th:only-of-type {\n",
       "        vertical-align: middle;\n",
       "    }\n",
       "\n",
       "    .dataframe tbody tr th {\n",
       "        vertical-align: top;\n",
       "    }\n",
       "\n",
       "    .dataframe thead th {\n",
       "        text-align: right;\n",
       "    }\n",
       "</style>\n",
       "<table border=\"1\" class=\"dataframe\">\n",
       "  <thead>\n",
       "    <tr style=\"text-align: right;\">\n",
       "      <th></th>\n",
       "      <th>ks</th>\n",
       "      <th>variable</th>\n",
       "    </tr>\n",
       "  </thead>\n",
       "  <tbody>\n",
       "    <tr>\n",
       "      <th>0</th>\n",
       "      <td>1.000000</td>\n",
       "      <td>Fraud</td>\n",
       "    </tr>\n",
       "    <tr>\n",
       "      <th>1</th>\n",
       "      <td>0.291223</td>\n",
       "      <td>Cardnum_day_since</td>\n",
       "    </tr>\n",
       "    <tr>\n",
       "      <th>2</th>\n",
       "      <td>0.339447</td>\n",
       "      <td>Cardnum_count_0</td>\n",
       "    </tr>\n",
       "    <tr>\n",
       "      <th>3</th>\n",
       "      <td>0.464299</td>\n",
       "      <td>ave_amount_Cardnum_count_0</td>\n",
       "    </tr>\n",
       "    <tr>\n",
       "      <th>4</th>\n",
       "      <td>0.453079</td>\n",
       "      <td>max_amount_Cardnum_count_0</td>\n",
       "    </tr>\n",
       "    <tr>\n",
       "      <th>...</th>\n",
       "      <td>...</td>\n",
       "      <td>...</td>\n",
       "    </tr>\n",
       "    <tr>\n",
       "      <th>354</th>\n",
       "      <td>0.185064</td>\n",
       "      <td>card_state_count_1_by_30</td>\n",
       "    </tr>\n",
       "    <tr>\n",
       "      <th>355</th>\n",
       "      <td>0.267133</td>\n",
       "      <td>card_state_amount_1_by_30</td>\n",
       "    </tr>\n",
       "    <tr>\n",
       "      <th>356</th>\n",
       "      <td>0.134586</td>\n",
       "      <td>dow_risk</td>\n",
       "    </tr>\n",
       "    <tr>\n",
       "      <th>357</th>\n",
       "      <td>0.439728</td>\n",
       "      <td>benford_card</td>\n",
       "    </tr>\n",
       "    <tr>\n",
       "      <th>358</th>\n",
       "      <td>0.209478</td>\n",
       "      <td>benford_merch</td>\n",
       "    </tr>\n",
       "  </tbody>\n",
       "</table>\n",
       "<p>359 rows × 2 columns</p>\n",
       "</div>"
      ],
      "text/plain": [
       "           ks                    variable\n",
       "0    1.000000                       Fraud\n",
       "1    0.291223           Cardnum_day_since\n",
       "2    0.339447             Cardnum_count_0\n",
       "3    0.464299  ave_amount_Cardnum_count_0\n",
       "4    0.453079  max_amount_Cardnum_count_0\n",
       "..        ...                         ...\n",
       "354  0.185064    card_state_count_1_by_30\n",
       "355  0.267133   card_state_amount_1_by_30\n",
       "356  0.134586                    dow_risk\n",
       "357  0.439728                benford_card\n",
       "358  0.209478               benford_merch\n",
       "\n",
       "[359 rows x 2 columns]"
      ]
     },
     "execution_count": 65,
     "metadata": {},
     "output_type": "execute_result"
    }
   ],
   "source": [
    "i = 0\n",
    "for column in goods.columns:\n",
    "    KSFDR.loc[i,'ks'] = sps.ks_2samp(goods[column],bads[column])[0]\n",
    "    i = i+1\n",
    "KSFDR['variable']= goods.columns\n",
    "KSFDR"
   ]
  },
  {
   "cell_type": "code",
   "execution_count": 66,
   "metadata": {
    "ExecuteTime": {
     "end_time": "2021-05-07T11:52:24.733989Z",
     "start_time": "2021-05-07T11:52:24.725646Z"
    }
   },
   "outputs": [],
   "source": [
    "listvars = goods.columns\n",
    "listvars=listvars.drop('Fraud')"
   ]
  },
  {
   "cell_type": "code",
   "execution_count": 67,
   "metadata": {
    "ExecuteTime": {
     "end_time": "2021-05-07T11:53:16.628355Z",
     "start_time": "2021-05-07T11:53:10.803441Z"
    }
   },
   "outputs": [],
   "source": [
    "j = 1\n",
    "topRows = int(round(len(final)*0.03))\n",
    "for column in listvars:\n",
    "    temp = final[[column,'Fraud']].copy()\n",
    "    temp0 = temp.sort_values(column,ascending=False)\n",
    "    temp1 = temp0.head(topRows)\n",
    "    temp2 = temp0.tail(topRows)\n",
    "    needed1 = temp1.loc[:,'Fraud']\n",
    "    needed2 = temp2.loc[:,'Fraud']\n",
    "    numbads = len(bads)\n",
    "    FDR1 = sum(needed1)/numbads\n",
    "    FDR2 = sum(needed2)/numbads\n",
    "    FDRate = np.maximum(FDR1,FDR2)\n",
    "    KSFDR.loc[j, 'FDR'] = FDRate\n",
    "    j = j + 1"
   ]
  },
  {
   "cell_type": "code",
   "execution_count": 68,
   "metadata": {
    "ExecuteTime": {
     "end_time": "2021-05-07T11:53:16.649019Z",
     "start_time": "2021-05-07T11:53:16.631329Z"
    }
   },
   "outputs": [
    {
     "data": {
      "text/html": [
       "<div>\n",
       "<style scoped>\n",
       "    .dataframe tbody tr th:only-of-type {\n",
       "        vertical-align: middle;\n",
       "    }\n",
       "\n",
       "    .dataframe tbody tr th {\n",
       "        vertical-align: top;\n",
       "    }\n",
       "\n",
       "    .dataframe thead th {\n",
       "        text-align: right;\n",
       "    }\n",
       "</style>\n",
       "<table border=\"1\" class=\"dataframe\">\n",
       "  <thead>\n",
       "    <tr style=\"text-align: right;\">\n",
       "      <th></th>\n",
       "      <th>ks</th>\n",
       "      <th>variable</th>\n",
       "      <th>FDR</th>\n",
       "    </tr>\n",
       "  </thead>\n",
       "  <tbody>\n",
       "    <tr>\n",
       "      <th>0</th>\n",
       "      <td>1.000000</td>\n",
       "      <td>Fraud</td>\n",
       "      <td>1.000000</td>\n",
       "    </tr>\n",
       "    <tr>\n",
       "      <th>1</th>\n",
       "      <td>0.291223</td>\n",
       "      <td>Cardnum_day_since</td>\n",
       "      <td>0.023041</td>\n",
       "    </tr>\n",
       "    <tr>\n",
       "      <th>2</th>\n",
       "      <td>0.339447</td>\n",
       "      <td>Cardnum_count_0</td>\n",
       "      <td>0.171659</td>\n",
       "    </tr>\n",
       "    <tr>\n",
       "      <th>3</th>\n",
       "      <td>0.464299</td>\n",
       "      <td>ave_amount_Cardnum_count_0</td>\n",
       "      <td>0.336406</td>\n",
       "    </tr>\n",
       "    <tr>\n",
       "      <th>4</th>\n",
       "      <td>0.453079</td>\n",
       "      <td>max_amount_Cardnum_count_0</td>\n",
       "      <td>0.199309</td>\n",
       "    </tr>\n",
       "    <tr>\n",
       "      <th>...</th>\n",
       "      <td>...</td>\n",
       "      <td>...</td>\n",
       "      <td>...</td>\n",
       "    </tr>\n",
       "    <tr>\n",
       "      <th>354</th>\n",
       "      <td>0.185064</td>\n",
       "      <td>card_state_count_1_by_30</td>\n",
       "      <td>0.062212</td>\n",
       "    </tr>\n",
       "    <tr>\n",
       "      <th>355</th>\n",
       "      <td>0.267133</td>\n",
       "      <td>card_state_amount_1_by_30</td>\n",
       "      <td>0.084101</td>\n",
       "    </tr>\n",
       "    <tr>\n",
       "      <th>356</th>\n",
       "      <td>0.134586</td>\n",
       "      <td>dow_risk</td>\n",
       "      <td>0.063364</td>\n",
       "    </tr>\n",
       "    <tr>\n",
       "      <th>357</th>\n",
       "      <td>0.439728</td>\n",
       "      <td>benford_card</td>\n",
       "      <td>0.213134</td>\n",
       "    </tr>\n",
       "    <tr>\n",
       "      <th>358</th>\n",
       "      <td>0.209478</td>\n",
       "      <td>benford_merch</td>\n",
       "      <td>0.155530</td>\n",
       "    </tr>\n",
       "  </tbody>\n",
       "</table>\n",
       "<p>359 rows × 3 columns</p>\n",
       "</div>"
      ],
      "text/plain": [
       "           ks                    variable       FDR\n",
       "0    1.000000                       Fraud  1.000000\n",
       "1    0.291223           Cardnum_day_since  0.023041\n",
       "2    0.339447             Cardnum_count_0  0.171659\n",
       "3    0.464299  ave_amount_Cardnum_count_0  0.336406\n",
       "4    0.453079  max_amount_Cardnum_count_0  0.199309\n",
       "..        ...                         ...       ...\n",
       "354  0.185064    card_state_count_1_by_30  0.062212\n",
       "355  0.267133   card_state_amount_1_by_30  0.084101\n",
       "356  0.134586                    dow_risk  0.063364\n",
       "357  0.439728                benford_card  0.213134\n",
       "358  0.209478               benford_merch  0.155530\n",
       "\n",
       "[359 rows x 3 columns]"
      ]
     },
     "execution_count": 68,
     "metadata": {},
     "output_type": "execute_result"
    }
   ],
   "source": [
    "KSFDR.loc[0,'FDR']=1\n",
    "KSFDR"
   ]
  },
  {
   "cell_type": "code",
   "execution_count": 69,
   "metadata": {
    "ExecuteTime": {
     "end_time": "2021-05-07T11:53:16.670096Z",
     "start_time": "2021-05-07T11:53:16.653243Z"
    }
   },
   "outputs": [],
   "source": [
    "KSFDR['rank_ks'] = KSFDR['ks'].rank(ascending = True)\n",
    "KSFDR['rank_FDR'] = KSFDR['FDR'].rank(ascending = True)\n",
    "KSFDR['average_rank'] = (KSFDR['rank_ks'] + KSFDR['rank_FDR']) / 2\n",
    "KSFDR.sort_values(by=['average_rank'], ascending=False, inplace=True)"
   ]
  },
  {
   "cell_type": "code",
   "execution_count": 70,
   "metadata": {
    "ExecuteTime": {
     "end_time": "2021-05-07T11:53:16.678187Z",
     "start_time": "2021-05-07T11:53:16.673195Z"
    }
   },
   "outputs": [],
   "source": [
    "top81=KSFDR.head(81)['variable'].values"
   ]
  },
  {
   "cell_type": "code",
   "execution_count": 71,
   "metadata": {
    "ExecuteTime": {
     "end_time": "2021-05-07T11:53:16.720806Z",
     "start_time": "2021-05-07T11:53:16.680967Z"
    }
   },
   "outputs": [],
   "source": [
    "top81=final[top81]"
   ]
  },
  {
   "cell_type": "code",
   "execution_count": 72,
   "metadata": {
    "ExecuteTime": {
     "end_time": "2021-05-07T11:53:16.811497Z",
     "start_time": "2021-05-07T11:53:16.723377Z"
    }
   },
   "outputs": [
    {
     "data": {
      "text/html": [
       "<div>\n",
       "<style scoped>\n",
       "    .dataframe tbody tr th:only-of-type {\n",
       "        vertical-align: middle;\n",
       "    }\n",
       "\n",
       "    .dataframe tbody tr th {\n",
       "        vertical-align: top;\n",
       "    }\n",
       "\n",
       "    .dataframe thead th {\n",
       "        text-align: right;\n",
       "    }\n",
       "</style>\n",
       "<table border=\"1\" class=\"dataframe\">\n",
       "  <thead>\n",
       "    <tr style=\"text-align: right;\">\n",
       "      <th></th>\n",
       "      <th>median_amount_card_state_count_1</th>\n",
       "      <th>ave_amount_card_state_count_1</th>\n",
       "      <th>ave_amount_card_state_count_0</th>\n",
       "      <th>ave_amount_card_zip_count_7</th>\n",
       "      <th>ave_amount_card_zip_count_3</th>\n",
       "      <th>ave_amount_card_zip_count_1</th>\n",
       "      <th>ave_amount_card_state_count_3</th>\n",
       "      <th>max_amount_card_merchnum_count_0</th>\n",
       "      <th>max_amount_card_merchnum_count_1</th>\n",
       "      <th>max_amount_card_merchnum_count_3</th>\n",
       "      <th>...</th>\n",
       "      <th>sum_amount_card_zip_count_30</th>\n",
       "      <th>sum_amount_card_state_count_14</th>\n",
       "      <th>sum_amount_card_state_count_0</th>\n",
       "      <th>act/median_amount_Merchnum_count_30</th>\n",
       "      <th>sum_amount_card_zip_count_7</th>\n",
       "      <th>sum_amount_card_state_count_1</th>\n",
       "      <th>sum_amount_card_merchnum_count_30</th>\n",
       "      <th>sum_amount_card_state_count_7</th>\n",
       "      <th>act/mean_amount_Merchnum_count_7</th>\n",
       "      <th>act/mean_amount_Merchnum_count_30</th>\n",
       "    </tr>\n",
       "  </thead>\n",
       "  <tbody>\n",
       "    <tr>\n",
       "      <th>3344</th>\n",
       "      <td>254.465</td>\n",
       "      <td>401.771071</td>\n",
       "      <td>401.771071</td>\n",
       "      <td>403.836857</td>\n",
       "      <td>351.452308</td>\n",
       "      <td>388.846818</td>\n",
       "      <td>368.268235</td>\n",
       "      <td>1602.81</td>\n",
       "      <td>1602.81</td>\n",
       "      <td>1602.81</td>\n",
       "      <td>...</td>\n",
       "      <td>23550.930000</td>\n",
       "      <td>22849.72</td>\n",
       "      <td>11249.59</td>\n",
       "      <td>1.678512</td>\n",
       "      <td>14134.29</td>\n",
       "      <td>11249.59</td>\n",
       "      <td>23550.93</td>\n",
       "      <td>17912.65</td>\n",
       "      <td>0.865532</td>\n",
       "      <td>0.863743</td>\n",
       "    </tr>\n",
       "    <tr>\n",
       "      <th>3345</th>\n",
       "      <td>3.800</td>\n",
       "      <td>5.158783</td>\n",
       "      <td>4.997035</td>\n",
       "      <td>5.286674</td>\n",
       "      <td>5.258034</td>\n",
       "      <td>5.158783</td>\n",
       "      <td>5.258034</td>\n",
       "      <td>41.25</td>\n",
       "      <td>41.25</td>\n",
       "      <td>41.25</td>\n",
       "      <td>...</td>\n",
       "      <td>861019.430001</td>\n",
       "      <td>495569.22</td>\n",
       "      <td>59909.45</td>\n",
       "      <td>1.168449</td>\n",
       "      <td>280907.43</td>\n",
       "      <td>82298.07</td>\n",
       "      <td>389384.08</td>\n",
       "      <td>280907.43</td>\n",
       "      <td>0.495370</td>\n",
       "      <td>0.506384</td>\n",
       "    </tr>\n",
       "    <tr>\n",
       "      <th>3346</th>\n",
       "      <td>171.390</td>\n",
       "      <td>326.337446</td>\n",
       "      <td>336.228780</td>\n",
       "      <td>312.223341</td>\n",
       "      <td>311.070961</td>\n",
       "      <td>303.658805</td>\n",
       "      <td>326.068417</td>\n",
       "      <td>718.71</td>\n",
       "      <td>718.71</td>\n",
       "      <td>718.71</td>\n",
       "      <td>...</td>\n",
       "      <td>362346.110000</td>\n",
       "      <td>665880.68</td>\n",
       "      <td>112972.87</td>\n",
       "      <td>1.635472</td>\n",
       "      <td>134568.26</td>\n",
       "      <td>166105.76</td>\n",
       "      <td>108416.08</td>\n",
       "      <td>387335.21</td>\n",
       "      <td>0.902456</td>\n",
       "      <td>0.917437</td>\n",
       "    </tr>\n",
       "    <tr>\n",
       "      <th>3347</th>\n",
       "      <td>3.800</td>\n",
       "      <td>5.158783</td>\n",
       "      <td>4.997035</td>\n",
       "      <td>5.286674</td>\n",
       "      <td>5.258034</td>\n",
       "      <td>5.158783</td>\n",
       "      <td>5.258034</td>\n",
       "      <td>41.25</td>\n",
       "      <td>41.25</td>\n",
       "      <td>41.25</td>\n",
       "      <td>...</td>\n",
       "      <td>861019.430001</td>\n",
       "      <td>495569.22</td>\n",
       "      <td>59909.45</td>\n",
       "      <td>0.967914</td>\n",
       "      <td>280907.43</td>\n",
       "      <td>82298.07</td>\n",
       "      <td>389384.08</td>\n",
       "      <td>280907.43</td>\n",
       "      <td>0.410353</td>\n",
       "      <td>0.419476</td>\n",
       "    </tr>\n",
       "    <tr>\n",
       "      <th>3348</th>\n",
       "      <td>126.095</td>\n",
       "      <td>143.050000</td>\n",
       "      <td>143.050000</td>\n",
       "      <td>194.044286</td>\n",
       "      <td>194.044286</td>\n",
       "      <td>179.658333</td>\n",
       "      <td>158.306667</td>\n",
       "      <td>280.36</td>\n",
       "      <td>280.36</td>\n",
       "      <td>280.36</td>\n",
       "      <td>...</td>\n",
       "      <td>1740.270000</td>\n",
       "      <td>1526.36</td>\n",
       "      <td>1144.40</td>\n",
       "      <td>0.135678</td>\n",
       "      <td>1358.31</td>\n",
       "      <td>1144.40</td>\n",
       "      <td>646.37</td>\n",
       "      <td>1424.76</td>\n",
       "      <td>0.066995</td>\n",
       "      <td>0.065580</td>\n",
       "    </tr>\n",
       "    <tr>\n",
       "      <th>...</th>\n",
       "      <td>...</td>\n",
       "      <td>...</td>\n",
       "      <td>...</td>\n",
       "      <td>...</td>\n",
       "      <td>...</td>\n",
       "      <td>...</td>\n",
       "      <td>...</td>\n",
       "      <td>...</td>\n",
       "      <td>...</td>\n",
       "      <td>...</td>\n",
       "      <td>...</td>\n",
       "      <td>...</td>\n",
       "      <td>...</td>\n",
       "      <td>...</td>\n",
       "      <td>...</td>\n",
       "      <td>...</td>\n",
       "      <td>...</td>\n",
       "      <td>...</td>\n",
       "      <td>...</td>\n",
       "      <td>...</td>\n",
       "      <td>...</td>\n",
       "    </tr>\n",
       "    <tr>\n",
       "      <th>84294</th>\n",
       "      <td>181.385</td>\n",
       "      <td>181.385000</td>\n",
       "      <td>181.385000</td>\n",
       "      <td>220.846667</td>\n",
       "      <td>220.846667</td>\n",
       "      <td>181.385000</td>\n",
       "      <td>220.846667</td>\n",
       "      <td>299.77</td>\n",
       "      <td>299.77</td>\n",
       "      <td>299.77</td>\n",
       "      <td>...</td>\n",
       "      <td>662.540000</td>\n",
       "      <td>662.54</td>\n",
       "      <td>362.77</td>\n",
       "      <td>2.611237</td>\n",
       "      <td>662.54</td>\n",
       "      <td>362.77</td>\n",
       "      <td>662.54</td>\n",
       "      <td>662.54</td>\n",
       "      <td>1.444100</td>\n",
       "      <td>1.467009</td>\n",
       "    </tr>\n",
       "    <tr>\n",
       "      <th>84295</th>\n",
       "      <td>179.980</td>\n",
       "      <td>233.324000</td>\n",
       "      <td>233.324000</td>\n",
       "      <td>228.526000</td>\n",
       "      <td>228.526000</td>\n",
       "      <td>251.855556</td>\n",
       "      <td>212.230833</td>\n",
       "      <td>691.57</td>\n",
       "      <td>691.57</td>\n",
       "      <td>691.57</td>\n",
       "      <td>...</td>\n",
       "      <td>4304.630000</td>\n",
       "      <td>3069.79</td>\n",
       "      <td>2333.24</td>\n",
       "      <td>4.378701</td>\n",
       "      <td>2285.26</td>\n",
       "      <td>2333.24</td>\n",
       "      <td>4304.63</td>\n",
       "      <td>2546.77</td>\n",
       "      <td>2.199622</td>\n",
       "      <td>2.194770</td>\n",
       "    </tr>\n",
       "    <tr>\n",
       "      <th>84296</th>\n",
       "      <td>235.000</td>\n",
       "      <td>235.000000</td>\n",
       "      <td>235.000000</td>\n",
       "      <td>235.000000</td>\n",
       "      <td>235.000000</td>\n",
       "      <td>235.000000</td>\n",
       "      <td>235.000000</td>\n",
       "      <td>235.00</td>\n",
       "      <td>235.00</td>\n",
       "      <td>235.00</td>\n",
       "      <td>...</td>\n",
       "      <td>235.000000</td>\n",
       "      <td>235.00</td>\n",
       "      <td>235.00</td>\n",
       "      <td>2.022897</td>\n",
       "      <td>235.00</td>\n",
       "      <td>235.00</td>\n",
       "      <td>235.00</td>\n",
       "      <td>235.00</td>\n",
       "      <td>1.787970</td>\n",
       "      <td>1.727401</td>\n",
       "    </tr>\n",
       "    <tr>\n",
       "      <th>84297</th>\n",
       "      <td>312.500</td>\n",
       "      <td>312.500000</td>\n",
       "      <td>312.500000</td>\n",
       "      <td>600.000000</td>\n",
       "      <td>600.000000</td>\n",
       "      <td>600.000000</td>\n",
       "      <td>312.500000</td>\n",
       "      <td>600.00</td>\n",
       "      <td>600.00</td>\n",
       "      <td>600.00</td>\n",
       "      <td>...</td>\n",
       "      <td>600.000000</td>\n",
       "      <td>625.00</td>\n",
       "      <td>625.00</td>\n",
       "      <td>1.000000</td>\n",
       "      <td>600.00</td>\n",
       "      <td>625.00</td>\n",
       "      <td>600.00</td>\n",
       "      <td>625.00</td>\n",
       "      <td>1.000000</td>\n",
       "      <td>1.000000</td>\n",
       "    </tr>\n",
       "    <tr>\n",
       "      <th>84298</th>\n",
       "      <td>60.760</td>\n",
       "      <td>140.612353</td>\n",
       "      <td>140.612353</td>\n",
       "      <td>121.195600</td>\n",
       "      <td>114.474286</td>\n",
       "      <td>121.938750</td>\n",
       "      <td>129.243182</td>\n",
       "      <td>365.32</td>\n",
       "      <td>365.32</td>\n",
       "      <td>365.32</td>\n",
       "      <td>...</td>\n",
       "      <td>4173.730000</td>\n",
       "      <td>3469.28</td>\n",
       "      <td>2390.41</td>\n",
       "      <td>0.261324</td>\n",
       "      <td>3029.89</td>\n",
       "      <td>2390.41</td>\n",
       "      <td>2684.95</td>\n",
       "      <td>3469.28</td>\n",
       "      <td>0.144521</td>\n",
       "      <td>0.146813</td>\n",
       "    </tr>\n",
       "  </tbody>\n",
       "</table>\n",
       "<p>80632 rows × 80 columns</p>\n",
       "</div>"
      ],
      "text/plain": [
       "       median_amount_card_state_count_1  ave_amount_card_state_count_1  \\\n",
       "3344                            254.465                     401.771071   \n",
       "3345                              3.800                       5.158783   \n",
       "3346                            171.390                     326.337446   \n",
       "3347                              3.800                       5.158783   \n",
       "3348                            126.095                     143.050000   \n",
       "...                                 ...                            ...   \n",
       "84294                           181.385                     181.385000   \n",
       "84295                           179.980                     233.324000   \n",
       "84296                           235.000                     235.000000   \n",
       "84297                           312.500                     312.500000   \n",
       "84298                            60.760                     140.612353   \n",
       "\n",
       "       ave_amount_card_state_count_0  ave_amount_card_zip_count_7  \\\n",
       "3344                      401.771071                   403.836857   \n",
       "3345                        4.997035                     5.286674   \n",
       "3346                      336.228780                   312.223341   \n",
       "3347                        4.997035                     5.286674   \n",
       "3348                      143.050000                   194.044286   \n",
       "...                              ...                          ...   \n",
       "84294                     181.385000                   220.846667   \n",
       "84295                     233.324000                   228.526000   \n",
       "84296                     235.000000                   235.000000   \n",
       "84297                     312.500000                   600.000000   \n",
       "84298                     140.612353                   121.195600   \n",
       "\n",
       "       ave_amount_card_zip_count_3  ave_amount_card_zip_count_1  \\\n",
       "3344                    351.452308                   388.846818   \n",
       "3345                      5.258034                     5.158783   \n",
       "3346                    311.070961                   303.658805   \n",
       "3347                      5.258034                     5.158783   \n",
       "3348                    194.044286                   179.658333   \n",
       "...                            ...                          ...   \n",
       "84294                   220.846667                   181.385000   \n",
       "84295                   228.526000                   251.855556   \n",
       "84296                   235.000000                   235.000000   \n",
       "84297                   600.000000                   600.000000   \n",
       "84298                   114.474286                   121.938750   \n",
       "\n",
       "       ave_amount_card_state_count_3  max_amount_card_merchnum_count_0  \\\n",
       "3344                      368.268235                           1602.81   \n",
       "3345                        5.258034                             41.25   \n",
       "3346                      326.068417                            718.71   \n",
       "3347                        5.258034                             41.25   \n",
       "3348                      158.306667                            280.36   \n",
       "...                              ...                               ...   \n",
       "84294                     220.846667                            299.77   \n",
       "84295                     212.230833                            691.57   \n",
       "84296                     235.000000                            235.00   \n",
       "84297                     312.500000                            600.00   \n",
       "84298                     129.243182                            365.32   \n",
       "\n",
       "       max_amount_card_merchnum_count_1  max_amount_card_merchnum_count_3  \\\n",
       "3344                            1602.81                           1602.81   \n",
       "3345                              41.25                             41.25   \n",
       "3346                             718.71                            718.71   \n",
       "3347                              41.25                             41.25   \n",
       "3348                             280.36                            280.36   \n",
       "...                                 ...                               ...   \n",
       "84294                            299.77                            299.77   \n",
       "84295                            691.57                            691.57   \n",
       "84296                            235.00                            235.00   \n",
       "84297                            600.00                            600.00   \n",
       "84298                            365.32                            365.32   \n",
       "\n",
       "       ...  sum_amount_card_zip_count_30  sum_amount_card_state_count_14  \\\n",
       "3344   ...                  23550.930000                        22849.72   \n",
       "3345   ...                 861019.430001                       495569.22   \n",
       "3346   ...                 362346.110000                       665880.68   \n",
       "3347   ...                 861019.430001                       495569.22   \n",
       "3348   ...                   1740.270000                         1526.36   \n",
       "...    ...                           ...                             ...   \n",
       "84294  ...                    662.540000                          662.54   \n",
       "84295  ...                   4304.630000                         3069.79   \n",
       "84296  ...                    235.000000                          235.00   \n",
       "84297  ...                    600.000000                          625.00   \n",
       "84298  ...                   4173.730000                         3469.28   \n",
       "\n",
       "       sum_amount_card_state_count_0  act/median_amount_Merchnum_count_30  \\\n",
       "3344                        11249.59                             1.678512   \n",
       "3345                        59909.45                             1.168449   \n",
       "3346                       112972.87                             1.635472   \n",
       "3347                        59909.45                             0.967914   \n",
       "3348                         1144.40                             0.135678   \n",
       "...                              ...                                  ...   \n",
       "84294                         362.77                             2.611237   \n",
       "84295                        2333.24                             4.378701   \n",
       "84296                         235.00                             2.022897   \n",
       "84297                         625.00                             1.000000   \n",
       "84298                        2390.41                             0.261324   \n",
       "\n",
       "       sum_amount_card_zip_count_7  sum_amount_card_state_count_1  \\\n",
       "3344                      14134.29                       11249.59   \n",
       "3345                     280907.43                       82298.07   \n",
       "3346                     134568.26                      166105.76   \n",
       "3347                     280907.43                       82298.07   \n",
       "3348                       1358.31                        1144.40   \n",
       "...                            ...                            ...   \n",
       "84294                       662.54                         362.77   \n",
       "84295                      2285.26                        2333.24   \n",
       "84296                       235.00                         235.00   \n",
       "84297                       600.00                         625.00   \n",
       "84298                      3029.89                        2390.41   \n",
       "\n",
       "       sum_amount_card_merchnum_count_30  sum_amount_card_state_count_7  \\\n",
       "3344                            23550.93                       17912.65   \n",
       "3345                           389384.08                      280907.43   \n",
       "3346                           108416.08                      387335.21   \n",
       "3347                           389384.08                      280907.43   \n",
       "3348                              646.37                        1424.76   \n",
       "...                                  ...                            ...   \n",
       "84294                             662.54                         662.54   \n",
       "84295                            4304.63                        2546.77   \n",
       "84296                             235.00                         235.00   \n",
       "84297                             600.00                         625.00   \n",
       "84298                            2684.95                        3469.28   \n",
       "\n",
       "       act/mean_amount_Merchnum_count_7  act/mean_amount_Merchnum_count_30  \n",
       "3344                           0.865532                           0.863743  \n",
       "3345                           0.495370                           0.506384  \n",
       "3346                           0.902456                           0.917437  \n",
       "3347                           0.410353                           0.419476  \n",
       "3348                           0.066995                           0.065580  \n",
       "...                                 ...                                ...  \n",
       "84294                          1.444100                           1.467009  \n",
       "84295                          2.199622                           2.194770  \n",
       "84296                          1.787970                           1.727401  \n",
       "84297                          1.000000                           1.000000  \n",
       "84298                          0.144521                           0.146813  \n",
       "\n",
       "[80632 rows x 80 columns]"
      ]
     },
     "execution_count": 72,
     "metadata": {},
     "output_type": "execute_result"
    }
   ],
   "source": [
    "top80=top81.drop('Fraud',axis=1)\n",
    "Y=top81['Fraud']\n",
    "top80"
   ]
  },
  {
   "cell_type": "code",
   "execution_count": 74,
   "metadata": {
    "ExecuteTime": {
     "end_time": "2021-05-07T12:21:06.260482Z",
     "start_time": "2021-05-07T11:54:18.075478Z"
    }
   },
   "outputs": [
    {
     "name": "stderr",
     "output_type": "stream",
     "text": [
      "[Parallel(n_jobs=2)]: Using backend LokyBackend with 2 concurrent workers.\n",
      "[Parallel(n_jobs=2)]: Done  37 tasks      | elapsed:    5.7s\n",
      "[Parallel(n_jobs=2)]: Done  80 out of  80 | elapsed:    9.9s finished\n",
      "\n",
      "[2021-05-07 19:54:28] Features: 1/79 -- score: 0.996142970532791[Parallel(n_jobs=2)]: Using backend LokyBackend with 2 concurrent workers.\n",
      "[Parallel(n_jobs=2)]: Done  37 tasks      | elapsed:    5.3s\n",
      "[Parallel(n_jobs=2)]: Done  79 out of  79 | elapsed:    9.7s finished\n",
      "\n",
      "[2021-05-07 19:54:37] Features: 2/79 -- score: 0.997197142573668[Parallel(n_jobs=2)]: Using backend LokyBackend with 2 concurrent workers.\n",
      "[Parallel(n_jobs=2)]: Done  37 tasks      | elapsed:    5.0s\n",
      "[Parallel(n_jobs=2)]: Done  78 out of  78 | elapsed:   10.3s finished\n",
      "\n",
      "[2021-05-07 19:54:48] Features: 3/79 -- score: 0.9979660680623078[Parallel(n_jobs=2)]: Using backend LokyBackend with 2 concurrent workers.\n",
      "[Parallel(n_jobs=2)]: Done  37 tasks      | elapsed:    7.7s\n",
      "[Parallel(n_jobs=2)]: Done  77 out of  77 | elapsed:   16.5s finished\n",
      "\n",
      "[2021-05-07 19:55:04] Features: 4/79 -- score: 0.9983505308066276[Parallel(n_jobs=2)]: Using backend LokyBackend with 2 concurrent workers.\n",
      "[Parallel(n_jobs=2)]: Done  37 tasks      | elapsed:   10.0s\n",
      "[Parallel(n_jobs=2)]: Done  76 out of  76 | elapsed:   19.2s finished\n",
      "\n",
      "[2021-05-07 19:55:23] Features: 5/79 -- score: 0.9984993550947515[Parallel(n_jobs=2)]: Using backend LokyBackend with 2 concurrent workers.\n",
      "[Parallel(n_jobs=2)]: Done  37 tasks      | elapsed:   12.3s\n",
      "[Parallel(n_jobs=2)]: Done  75 out of  75 | elapsed:   24.2s finished\n",
      "\n",
      "[2021-05-07 19:55:48] Features: 6/79 -- score: 0.9986481793828753[Parallel(n_jobs=2)]: Using backend LokyBackend with 2 concurrent workers.\n",
      "[Parallel(n_jobs=2)]: Done  37 tasks      | elapsed:   13.3s\n",
      "[Parallel(n_jobs=2)]: Done  74 out of  74 | elapsed:   26.2s finished\n",
      "\n",
      "[2021-05-07 19:56:14] Features: 7/79 -- score: 0.9986729834308959[Parallel(n_jobs=2)]: Using backend LokyBackend with 2 concurrent workers.\n",
      "[Parallel(n_jobs=2)]: Done  37 tasks      | elapsed:   14.3s\n",
      "[Parallel(n_jobs=2)]: Done  73 out of  73 | elapsed:   32.9s finished\n",
      "\n",
      "[2021-05-07 19:56:47] Features: 8/79 -- score: 0.9986729834308959[Parallel(n_jobs=2)]: Using backend LokyBackend with 2 concurrent workers.\n",
      "[Parallel(n_jobs=2)]: Done  37 tasks      | elapsed:   25.1s\n",
      "[Parallel(n_jobs=2)]: Done  72 out of  72 | elapsed:   46.3s finished\n",
      "\n",
      "[2021-05-07 19:57:33] Features: 9/79 -- score: 0.9986729834308959[Parallel(n_jobs=2)]: Using backend LokyBackend with 2 concurrent workers.\n",
      "[Parallel(n_jobs=2)]: Done  37 tasks      | elapsed:   20.9s\n",
      "[Parallel(n_jobs=2)]: Done  71 out of  71 | elapsed:   39.1s finished\n",
      "\n",
      "[2021-05-07 19:58:12] Features: 10/79 -- score: 0.9986729834308959[Parallel(n_jobs=2)]: Using backend LokyBackend with 2 concurrent workers.\n",
      "[Parallel(n_jobs=2)]: Done  37 tasks      | elapsed:   19.7s\n",
      "[Parallel(n_jobs=2)]: Done  70 out of  70 | elapsed:   36.5s finished\n",
      "\n",
      "[2021-05-07 19:58:49] Features: 11/79 -- score: 0.9986729834308959[Parallel(n_jobs=2)]: Using backend LokyBackend with 2 concurrent workers.\n",
      "[Parallel(n_jobs=2)]: Done  37 tasks      | elapsed:   20.4s\n",
      "[Parallel(n_jobs=2)]: Done  69 out of  69 | elapsed:   37.7s finished\n",
      "\n",
      "[2021-05-07 19:59:27] Features: 12/79 -- score: 0.9986729834308959[Parallel(n_jobs=2)]: Using backend LokyBackend with 2 concurrent workers.\n",
      "[Parallel(n_jobs=2)]: Done  37 tasks      | elapsed:   21.7s\n",
      "[Parallel(n_jobs=2)]: Done  68 out of  68 | elapsed:   38.9s finished\n",
      "\n",
      "[2021-05-07 20:00:06] Features: 13/79 -- score: 0.9986729834308959[Parallel(n_jobs=2)]: Using backend LokyBackend with 2 concurrent workers.\n",
      "[Parallel(n_jobs=2)]: Done  37 tasks      | elapsed:   24.4s\n",
      "[Parallel(n_jobs=2)]: Done  67 out of  67 | elapsed:   42.6s finished\n",
      "\n",
      "[2021-05-07 20:00:48] Features: 14/79 -- score: 0.9986729834308959[Parallel(n_jobs=2)]: Using backend LokyBackend with 2 concurrent workers.\n",
      "[Parallel(n_jobs=2)]: Done  37 tasks      | elapsed:   24.0s\n",
      "[Parallel(n_jobs=2)]: Done  66 out of  66 | elapsed:   41.9s finished\n",
      "\n",
      "[2021-05-07 20:01:30] Features: 15/79 -- score: 0.9986853854549063[Parallel(n_jobs=2)]: Using backend LokyBackend with 2 concurrent workers.\n",
      "[Parallel(n_jobs=2)]: Done  37 tasks      | elapsed:   25.9s\n",
      "[Parallel(n_jobs=2)]: Done  65 out of  65 | elapsed:   44.9s finished\n",
      "\n",
      "[2021-05-07 20:02:15] Features: 16/79 -- score: 0.9987225915269372[Parallel(n_jobs=2)]: Using backend LokyBackend with 2 concurrent workers.\n",
      "[Parallel(n_jobs=2)]: Done  37 tasks      | elapsed:   27.6s\n",
      "[Parallel(n_jobs=2)]: Done  64 out of  64 | elapsed:   46.7s finished\n",
      "\n",
      "[2021-05-07 20:03:02] Features: 17/79 -- score: 0.9987597975989682[Parallel(n_jobs=2)]: Using backend LokyBackend with 2 concurrent workers.\n",
      "[Parallel(n_jobs=2)]: Done  37 tasks      | elapsed:   30.8s\n",
      "[Parallel(n_jobs=2)]: Done  63 out of  63 | elapsed:   51.5s finished\n",
      "\n",
      "[2021-05-07 20:03:53] Features: 18/79 -- score: 0.99883420974303[Parallel(n_jobs=2)]: Using backend LokyBackend with 2 concurrent workers.\n",
      "[Parallel(n_jobs=2)]: Done  37 tasks      | elapsed:   32.4s\n",
      "[Parallel(n_jobs=2)]: Done  62 out of  62 | elapsed:   52.8s finished\n",
      "\n",
      "[2021-05-07 20:04:46] Features: 19/79 -- score: 0.9989210239111023[Parallel(n_jobs=2)]: Using backend LokyBackend with 2 concurrent workers.\n",
      "[Parallel(n_jobs=2)]: Done  37 tasks      | elapsed:   33.9s\n",
      "[Parallel(n_jobs=2)]: Done  61 out of  61 | elapsed:   57.1s finished\n",
      "\n",
      "[2021-05-07 20:05:43] Features: 20/79 -- score: 0.9989954360551642[Parallel(n_jobs=2)]: Using backend LokyBackend with 2 concurrent workers.\n",
      "[Parallel(n_jobs=2)]: Done  37 tasks      | elapsed:   35.1s\n",
      "[Parallel(n_jobs=2)]: Done  60 out of  60 | elapsed:   55.6s finished\n",
      "\n",
      "[2021-05-07 20:06:39] Features: 21/79 -- score: 0.9990946522472468[Parallel(n_jobs=2)]: Using backend LokyBackend with 2 concurrent workers.\n",
      "[Parallel(n_jobs=2)]: Done  37 tasks      | elapsed:   38.5s\n",
      "[Parallel(n_jobs=2)]: Done  59 out of  59 | elapsed:  1.0min finished\n",
      "\n",
      "[2021-05-07 20:07:40] Features: 22/79 -- score: 0.9991194562952674[Parallel(n_jobs=2)]: Using backend LokyBackend with 2 concurrent workers.\n",
      "[Parallel(n_jobs=2)]: Done  37 tasks      | elapsed:   37.9s\n",
      "[Parallel(n_jobs=2)]: Done  58 out of  58 | elapsed:   58.0s finished\n",
      "\n",
      "[2021-05-07 20:08:38] Features: 23/79 -- score: 0.9991194562952674[Parallel(n_jobs=2)]: Using backend LokyBackend with 2 concurrent workers.\n",
      "[Parallel(n_jobs=2)]: Done  37 tasks      | elapsed:   39.9s\n",
      "[Parallel(n_jobs=2)]: Done  57 out of  57 | elapsed:  1.0min finished\n",
      "\n",
      "[2021-05-07 20:09:39] Features: 24/79 -- score: 0.9991194562952674[Parallel(n_jobs=2)]: Using backend LokyBackend with 2 concurrent workers.\n",
      "[Parallel(n_jobs=2)]: Done  37 tasks      | elapsed:   41.2s\n",
      "[Parallel(n_jobs=2)]: Done  56 out of  56 | elapsed:  1.0min finished\n",
      "\n",
      "[2021-05-07 20:10:40] Features: 25/79 -- score: 0.9991194562952674[Parallel(n_jobs=2)]: Using backend LokyBackend with 2 concurrent workers.\n",
      "[Parallel(n_jobs=2)]: Done  37 tasks      | elapsed:   43.0s\n",
      "[Parallel(n_jobs=2)]: Done  55 out of  55 | elapsed:  1.1min finished\n",
      "\n",
      "[2021-05-07 20:11:43] Features: 26/79 -- score: 0.9991194562952674[Parallel(n_jobs=2)]: Using backend LokyBackend with 2 concurrent workers.\n",
      "[Parallel(n_jobs=2)]: Done  37 tasks      | elapsed:   44.4s\n",
      "[Parallel(n_jobs=2)]: Done  54 out of  54 | elapsed:  1.1min finished\n",
      "\n",
      "[2021-05-07 20:12:47] Features: 27/79 -- score: 0.9991194562952674[Parallel(n_jobs=2)]: Using backend LokyBackend with 2 concurrent workers.\n",
      "[Parallel(n_jobs=2)]: Done  37 tasks      | elapsed:   46.3s\n",
      "[Parallel(n_jobs=2)]: Done  53 out of  53 | elapsed:  1.1min finished\n",
      "\n",
      "[2021-05-07 20:13:52] Features: 28/79 -- score: 0.9991194562952674[Parallel(n_jobs=2)]: Using backend LokyBackend with 2 concurrent workers.\n",
      "[Parallel(n_jobs=2)]: Done  37 tasks      | elapsed:   47.6s\n",
      "[Parallel(n_jobs=2)]: Done  52 out of  52 | elapsed:  1.1min finished\n",
      "\n",
      "[2021-05-07 20:14:58] Features: 29/79 -- score: 0.9991194562952674[Parallel(n_jobs=2)]: Using backend LokyBackend with 2 concurrent workers.\n",
      "[Parallel(n_jobs=2)]: Done  37 tasks      | elapsed:   49.8s\n",
      "[Parallel(n_jobs=2)]: Done  51 out of  51 | elapsed:  1.1min finished\n",
      "\n",
      "[2021-05-07 20:16:06] Features: 30/79 -- score: 0.9991194562952674[Parallel(n_jobs=2)]: Using backend LokyBackend with 2 concurrent workers.\n"
     ]
    },
    {
     "name": "stderr",
     "output_type": "stream",
     "text": [
      "[Parallel(n_jobs=2)]: Done  37 tasks      | elapsed:   50.8s\n",
      "[Parallel(n_jobs=2)]: Done  50 out of  50 | elapsed:  1.1min finished\n",
      "\n",
      "[2021-05-07 20:17:13] Features: 31/79 -- score: 0.9991194562952674[Parallel(n_jobs=2)]: Using backend LokyBackend with 2 concurrent workers.\n",
      "[Parallel(n_jobs=2)]: Done  37 tasks      | elapsed:   52.7s\n",
      "[Parallel(n_jobs=2)]: Done  49 out of  49 | elapsed:  1.2min finished\n",
      "\n",
      "[2021-05-07 20:18:22] Features: 32/79 -- score: 0.9991194562952674[Parallel(n_jobs=2)]: Using backend LokyBackend with 2 concurrent workers.\n",
      "[Parallel(n_jobs=2)]: Done  37 tasks      | elapsed:   54.8s\n",
      "[Parallel(n_jobs=2)]: Done  48 out of  48 | elapsed:  1.2min finished\n",
      "\n",
      "[2021-05-07 20:19:31] Features: 33/79 -- score: 0.9991194562952674[Parallel(n_jobs=2)]: Using backend LokyBackend with 2 concurrent workers.\n",
      "[Parallel(n_jobs=2)]: Done  37 tasks      | elapsed:  1.0min\n",
      "[Parallel(n_jobs=2)]: Done  47 out of  47 | elapsed:  1.3min finished\n",
      "\n",
      "[2021-05-07 20:20:48] Features: 34/79 -- score: 0.9991194562952674[Parallel(n_jobs=2)]: Using backend LokyBackend with 2 concurrent workers.\n",
      "\n",
      "STOPPING EARLY DUE TO KEYBOARD INTERRUPT..."
     ]
    },
    {
     "data": {
      "text/plain": [
       "SequentialFeatureSelector(cv=0, estimator=DecisionTreeClassifier(max_depth=10),\n",
       "                          k_features=79, n_jobs=2, scoring='accuracy',\n",
       "                          verbose=2)"
      ]
     },
     "execution_count": 74,
     "metadata": {},
     "output_type": "execute_result"
    }
   ],
   "source": [
    "from sklearn.tree import DecisionTreeClassifier\n",
    "from sklearn.linear_model import LogisticRegression\n",
    "from mlxtend.feature_selection import SequentialFeatureSelector as SFS\n",
    "model = DecisionTreeClassifier(criterion='gini',max_depth=10)\n",
    "sfs=SFS(model, k_features=79,forward=True,verbose=2,scoring='accuracy',cv=0,n_jobs=2)\n",
    "sfs.fit(top80,Y)"
   ]
  },
  {
   "cell_type": "code",
   "execution_count": 75,
   "metadata": {
    "ExecuteTime": {
     "end_time": "2021-05-07T12:21:10.595254Z",
     "start_time": "2021-05-07T12:21:10.570197Z"
    }
   },
   "outputs": [
    {
     "name": "stderr",
     "output_type": "stream",
     "text": [
      "/opt/anaconda3/lib/python3.7/site-packages/numpy/core/_methods.py:234: RuntimeWarning: Degrees of freedom <= 0 for slice\n",
      "  keepdims=keepdims)\n",
      "/opt/anaconda3/lib/python3.7/site-packages/numpy/core/_methods.py:226: RuntimeWarning: invalid value encountered in double_scalars\n",
      "  ret = ret.dtype.type(ret / rcount)\n"
     ]
    }
   ],
   "source": [
    "features=pd.DataFrame.from_dict(sfs.get_metric_dict()).T"
   ]
  },
  {
   "cell_type": "code",
   "execution_count": 76,
   "metadata": {
    "ExecuteTime": {
     "end_time": "2021-05-07T12:21:12.037701Z",
     "start_time": "2021-05-07T12:21:12.027522Z"
    }
   },
   "outputs": [
    {
     "data": {
      "text/plain": [
       "[0,\n",
       " 1,\n",
       " 3,\n",
       " 4,\n",
       " 5,\n",
       " 6,\n",
       " 14,\n",
       " 21,\n",
       " 22,\n",
       " 23,\n",
       " 25,\n",
       " 27,\n",
       " 28,\n",
       " 29,\n",
       " 41,\n",
       " 44,\n",
       " 50,\n",
       " 56,\n",
       " 57,\n",
       " 59,\n",
       " 62,\n",
       " 64,\n",
       " 67,\n",
       " 68,\n",
       " 69,\n",
       " 72,\n",
       " 73,\n",
       " 75,\n",
       " 78,\n",
       " 79]"
      ]
     },
     "execution_count": 76,
     "metadata": {},
     "output_type": "execute_result"
    }
   ],
   "source": [
    "vars_selected=list(features.iloc[29,0])\n",
    "vars_selected"
   ]
  },
  {
   "cell_type": "code",
   "execution_count": 164,
   "metadata": {
    "ExecuteTime": {
     "end_time": "2021-05-07T12:42:59.312874Z",
     "start_time": "2021-05-07T12:42:51.313006Z"
    }
   },
   "outputs": [
    {
     "name": "stderr",
     "output_type": "stream",
     "text": [
      "/opt/anaconda3/lib/python3.7/site-packages/IPython/core/interactiveshell.py:3063: DtypeWarning: Columns (7,12) have mixed types.Specify dtype option on import or set low_memory=False.\n",
      "  interactivity=interactivity, compiler=compiler, result=result)\n"
     ]
    }
   ],
   "source": [
    "new = pd.read_csv('new clean data.csv',index_col=0)"
   ]
  },
  {
   "cell_type": "code",
   "execution_count": 165,
   "metadata": {
    "ExecuteTime": {
     "end_time": "2021-05-07T12:43:02.289461Z",
     "start_time": "2021-05-07T12:43:02.185683Z"
    }
   },
   "outputs": [
    {
     "data": {
      "text/html": [
       "<div>\n",
       "<style scoped>\n",
       "    .dataframe tbody tr th:only-of-type {\n",
       "        vertical-align: middle;\n",
       "    }\n",
       "\n",
       "    .dataframe tbody tr th {\n",
       "        vertical-align: top;\n",
       "    }\n",
       "\n",
       "    .dataframe thead th {\n",
       "        text-align: right;\n",
       "    }\n",
       "</style>\n",
       "<table border=\"1\" class=\"dataframe\">\n",
       "  <thead>\n",
       "    <tr style=\"text-align: right;\">\n",
       "      <th></th>\n",
       "      <th>Recnum</th>\n",
       "      <th>Cardnum</th>\n",
       "      <th>Date</th>\n",
       "      <th>Merchnum</th>\n",
       "      <th>Merch description</th>\n",
       "      <th>Merch state</th>\n",
       "      <th>Merch zip</th>\n",
       "      <th>Transtype</th>\n",
       "      <th>Amount</th>\n",
       "      <th>Fraud</th>\n",
       "      <th>...</th>\n",
       "      <th>card_state_count_1_by_7</th>\n",
       "      <th>card_state_amount_1_by_7</th>\n",
       "      <th>card_state_count_1_by_14</th>\n",
       "      <th>card_state_amount_1_by_14</th>\n",
       "      <th>card_state_count_1_by_30</th>\n",
       "      <th>card_state_amount_1_by_30</th>\n",
       "      <th>dow</th>\n",
       "      <th>dow_risk</th>\n",
       "      <th>benford_card</th>\n",
       "      <th>benford_merch</th>\n",
       "    </tr>\n",
       "  </thead>\n",
       "  <tbody>\n",
       "    <tr>\n",
       "      <th>0</th>\n",
       "      <td>1</td>\n",
       "      <td>5142190439</td>\n",
       "      <td>2010-01-01</td>\n",
       "      <td>5509006296254</td>\n",
       "      <td>FEDEX SHP 12/23/09 AB#</td>\n",
       "      <td>TN</td>\n",
       "      <td>38118.0</td>\n",
       "      <td>P</td>\n",
       "      <td>3.62</td>\n",
       "      <td>0</td>\n",
       "      <td>...</td>\n",
       "      <td>7.00</td>\n",
       "      <td>3.601697</td>\n",
       "      <td>14.0</td>\n",
       "      <td>5.052264</td>\n",
       "      <td>30.0</td>\n",
       "      <td>6.595622</td>\n",
       "      <td>Friday</td>\n",
       "      <td>0.025994</td>\n",
       "      <td>2.178008</td>\n",
       "      <td>1.000000</td>\n",
       "    </tr>\n",
       "    <tr>\n",
       "      <th>1</th>\n",
       "      <td>2</td>\n",
       "      <td>5142183973</td>\n",
       "      <td>2010-01-01</td>\n",
       "      <td>61003026333</td>\n",
       "      <td>SERVICE MERCHANDISE #81</td>\n",
       "      <td>MA</td>\n",
       "      <td>1803.0</td>\n",
       "      <td>P</td>\n",
       "      <td>31.42</td>\n",
       "      <td>0</td>\n",
       "      <td>...</td>\n",
       "      <td>7.00</td>\n",
       "      <td>4.103679</td>\n",
       "      <td>14.0</td>\n",
       "      <td>5.990636</td>\n",
       "      <td>30.0</td>\n",
       "      <td>6.818594</td>\n",
       "      <td>Friday</td>\n",
       "      <td>0.025994</td>\n",
       "      <td>1.604857</td>\n",
       "      <td>1.000894</td>\n",
       "    </tr>\n",
       "    <tr>\n",
       "      <th>2</th>\n",
       "      <td>3</td>\n",
       "      <td>5142131721</td>\n",
       "      <td>2010-01-01</td>\n",
       "      <td>4503082993600</td>\n",
       "      <td>OFFICE DEPOT #191</td>\n",
       "      <td>MD</td>\n",
       "      <td>20706.0</td>\n",
       "      <td>P</td>\n",
       "      <td>178.49</td>\n",
       "      <td>0</td>\n",
       "      <td>...</td>\n",
       "      <td>7.00</td>\n",
       "      <td>4.097748</td>\n",
       "      <td>14.0</td>\n",
       "      <td>6.260969</td>\n",
       "      <td>30.0</td>\n",
       "      <td>8.987599</td>\n",
       "      <td>Friday</td>\n",
       "      <td>0.025994</td>\n",
       "      <td>2.368143</td>\n",
       "      <td>1.025818</td>\n",
       "    </tr>\n",
       "    <tr>\n",
       "      <th>3</th>\n",
       "      <td>4</td>\n",
       "      <td>5142148452</td>\n",
       "      <td>2010-01-01</td>\n",
       "      <td>5509006296254</td>\n",
       "      <td>FEDEX SHP 12/28/09 AB#</td>\n",
       "      <td>TN</td>\n",
       "      <td>38118.0</td>\n",
       "      <td>P</td>\n",
       "      <td>3.62</td>\n",
       "      <td>0</td>\n",
       "      <td>...</td>\n",
       "      <td>7.00</td>\n",
       "      <td>2.050805</td>\n",
       "      <td>14.0</td>\n",
       "      <td>2.324949</td>\n",
       "      <td>30.0</td>\n",
       "      <td>2.867464</td>\n",
       "      <td>Friday</td>\n",
       "      <td>0.025994</td>\n",
       "      <td>1.044105</td>\n",
       "      <td>1.000000</td>\n",
       "    </tr>\n",
       "    <tr>\n",
       "      <th>4</th>\n",
       "      <td>5</td>\n",
       "      <td>5142190439</td>\n",
       "      <td>2010-01-01</td>\n",
       "      <td>5509006296254</td>\n",
       "      <td>FEDEX SHP 12/23/09 AB#</td>\n",
       "      <td>TN</td>\n",
       "      <td>38118.0</td>\n",
       "      <td>P</td>\n",
       "      <td>3.62</td>\n",
       "      <td>0</td>\n",
       "      <td>...</td>\n",
       "      <td>7.00</td>\n",
       "      <td>3.601697</td>\n",
       "      <td>14.0</td>\n",
       "      <td>5.052264</td>\n",
       "      <td>30.0</td>\n",
       "      <td>6.595622</td>\n",
       "      <td>Friday</td>\n",
       "      <td>0.025994</td>\n",
       "      <td>2.178008</td>\n",
       "      <td>1.000000</td>\n",
       "    </tr>\n",
       "    <tr>\n",
       "      <th>...</th>\n",
       "      <td>...</td>\n",
       "      <td>...</td>\n",
       "      <td>...</td>\n",
       "      <td>...</td>\n",
       "      <td>...</td>\n",
       "      <td>...</td>\n",
       "      <td>...</td>\n",
       "      <td>...</td>\n",
       "      <td>...</td>\n",
       "      <td>...</td>\n",
       "      <td>...</td>\n",
       "      <td>...</td>\n",
       "      <td>...</td>\n",
       "      <td>...</td>\n",
       "      <td>...</td>\n",
       "      <td>...</td>\n",
       "      <td>...</td>\n",
       "      <td>...</td>\n",
       "      <td>...</td>\n",
       "      <td>...</td>\n",
       "      <td>...</td>\n",
       "    </tr>\n",
       "    <tr>\n",
       "      <th>96748</th>\n",
       "      <td>96749</td>\n",
       "      <td>5142276053</td>\n",
       "      <td>2010-12-31</td>\n",
       "      <td>3500000006160</td>\n",
       "      <td>BEST BUY      00001610</td>\n",
       "      <td>KY</td>\n",
       "      <td>41042</td>\n",
       "      <td>P</td>\n",
       "      <td>84.79</td>\n",
       "      <td>0</td>\n",
       "      <td>...</td>\n",
       "      <td>7.00</td>\n",
       "      <td>7.000000</td>\n",
       "      <td>14.0</td>\n",
       "      <td>14.000000</td>\n",
       "      <td>30.0</td>\n",
       "      <td>30.000000</td>\n",
       "      <td>Friday</td>\n",
       "      <td>0.025994</td>\n",
       "      <td>1.002393</td>\n",
       "      <td>1.000894</td>\n",
       "    </tr>\n",
       "    <tr>\n",
       "      <th>96749</th>\n",
       "      <td>96750</td>\n",
       "      <td>5142225701</td>\n",
       "      <td>2010-12-31</td>\n",
       "      <td>8090710030950</td>\n",
       "      <td>MARKUS OFFICE SUPPLIES</td>\n",
       "      <td>OH</td>\n",
       "      <td>45248</td>\n",
       "      <td>P</td>\n",
       "      <td>118.75</td>\n",
       "      <td>0</td>\n",
       "      <td>...</td>\n",
       "      <td>3.50</td>\n",
       "      <td>4.730911</td>\n",
       "      <td>3.5</td>\n",
       "      <td>6.257976</td>\n",
       "      <td>7.5</td>\n",
       "      <td>7.984631</td>\n",
       "      <td>Friday</td>\n",
       "      <td>0.025994</td>\n",
       "      <td>1.137948</td>\n",
       "      <td>1.288057</td>\n",
       "    </tr>\n",
       "    <tr>\n",
       "      <th>96750</th>\n",
       "      <td>96751</td>\n",
       "      <td>5142226486</td>\n",
       "      <td>2010-12-31</td>\n",
       "      <td>4503057341100</td>\n",
       "      <td>TECH PAC, INC</td>\n",
       "      <td>OH</td>\n",
       "      <td>45150</td>\n",
       "      <td>P</td>\n",
       "      <td>363.56</td>\n",
       "      <td>0</td>\n",
       "      <td>...</td>\n",
       "      <td>7.00</td>\n",
       "      <td>6.915783</td>\n",
       "      <td>14.0</td>\n",
       "      <td>13.357363</td>\n",
       "      <td>30.0</td>\n",
       "      <td>28.622920</td>\n",
       "      <td>Friday</td>\n",
       "      <td>0.025994</td>\n",
       "      <td>1.201338</td>\n",
       "      <td>1.106055</td>\n",
       "    </tr>\n",
       "    <tr>\n",
       "      <th>96751</th>\n",
       "      <td>96752</td>\n",
       "      <td>5142244619</td>\n",
       "      <td>2010-12-31</td>\n",
       "      <td>8834000695412</td>\n",
       "      <td>BUY.COM</td>\n",
       "      <td>CA</td>\n",
       "      <td>92656</td>\n",
       "      <td>P</td>\n",
       "      <td>2202.03</td>\n",
       "      <td>0</td>\n",
       "      <td>...</td>\n",
       "      <td>7.00</td>\n",
       "      <td>5.477476</td>\n",
       "      <td>14.0</td>\n",
       "      <td>7.991904</td>\n",
       "      <td>10.0</td>\n",
       "      <td>14.159990</td>\n",
       "      <td>Friday</td>\n",
       "      <td>0.025994</td>\n",
       "      <td>1.499767</td>\n",
       "      <td>1.029441</td>\n",
       "    </tr>\n",
       "    <tr>\n",
       "      <th>96752</th>\n",
       "      <td>96753</td>\n",
       "      <td>5142243247</td>\n",
       "      <td>2010-12-31</td>\n",
       "      <td>9108347680006</td>\n",
       "      <td>STAPLES NATIONAL #471</td>\n",
       "      <td>NJ</td>\n",
       "      <td>7606</td>\n",
       "      <td>P</td>\n",
       "      <td>554.64</td>\n",
       "      <td>0</td>\n",
       "      <td>...</td>\n",
       "      <td>1.75</td>\n",
       "      <td>4.697194</td>\n",
       "      <td>3.5</td>\n",
       "      <td>6.483008</td>\n",
       "      <td>5.0</td>\n",
       "      <td>11.594009</td>\n",
       "      <td>Friday</td>\n",
       "      <td>0.025994</td>\n",
       "      <td>1.233441</td>\n",
       "      <td>1.113448</td>\n",
       "    </tr>\n",
       "  </tbody>\n",
       "</table>\n",
       "<p>96397 rows × 372 columns</p>\n",
       "</div>"
      ],
      "text/plain": [
       "       Recnum     Cardnum        Date       Merchnum        Merch description  \\\n",
       "0           1  5142190439  2010-01-01  5509006296254   FEDEX SHP 12/23/09 AB#   \n",
       "1           2  5142183973  2010-01-01    61003026333  SERVICE MERCHANDISE #81   \n",
       "2           3  5142131721  2010-01-01  4503082993600        OFFICE DEPOT #191   \n",
       "3           4  5142148452  2010-01-01  5509006296254   FEDEX SHP 12/28/09 AB#   \n",
       "4           5  5142190439  2010-01-01  5509006296254   FEDEX SHP 12/23/09 AB#   \n",
       "...       ...         ...         ...            ...                      ...   \n",
       "96748   96749  5142276053  2010-12-31  3500000006160   BEST BUY      00001610   \n",
       "96749   96750  5142225701  2010-12-31  8090710030950   MARKUS OFFICE SUPPLIES   \n",
       "96750   96751  5142226486  2010-12-31  4503057341100            TECH PAC, INC   \n",
       "96751   96752  5142244619  2010-12-31  8834000695412                  BUY.COM   \n",
       "96752   96753  5142243247  2010-12-31  9108347680006    STAPLES NATIONAL #471   \n",
       "\n",
       "      Merch state Merch zip Transtype   Amount  Fraud  ...  \\\n",
       "0              TN   38118.0         P     3.62      0  ...   \n",
       "1              MA    1803.0         P    31.42      0  ...   \n",
       "2              MD   20706.0         P   178.49      0  ...   \n",
       "3              TN   38118.0         P     3.62      0  ...   \n",
       "4              TN   38118.0         P     3.62      0  ...   \n",
       "...           ...       ...       ...      ...    ...  ...   \n",
       "96748          KY     41042         P    84.79      0  ...   \n",
       "96749          OH     45248         P   118.75      0  ...   \n",
       "96750          OH     45150         P   363.56      0  ...   \n",
       "96751          CA     92656         P  2202.03      0  ...   \n",
       "96752          NJ      7606         P   554.64      0  ...   \n",
       "\n",
       "      card_state_count_1_by_7 card_state_amount_1_by_7  \\\n",
       "0                        7.00                 3.601697   \n",
       "1                        7.00                 4.103679   \n",
       "2                        7.00                 4.097748   \n",
       "3                        7.00                 2.050805   \n",
       "4                        7.00                 3.601697   \n",
       "...                       ...                      ...   \n",
       "96748                    7.00                 7.000000   \n",
       "96749                    3.50                 4.730911   \n",
       "96750                    7.00                 6.915783   \n",
       "96751                    7.00                 5.477476   \n",
       "96752                    1.75                 4.697194   \n",
       "\n",
       "      card_state_count_1_by_14  card_state_amount_1_by_14  \\\n",
       "0                         14.0                   5.052264   \n",
       "1                         14.0                   5.990636   \n",
       "2                         14.0                   6.260969   \n",
       "3                         14.0                   2.324949   \n",
       "4                         14.0                   5.052264   \n",
       "...                        ...                        ...   \n",
       "96748                     14.0                  14.000000   \n",
       "96749                      3.5                   6.257976   \n",
       "96750                     14.0                  13.357363   \n",
       "96751                     14.0                   7.991904   \n",
       "96752                      3.5                   6.483008   \n",
       "\n",
       "       card_state_count_1_by_30  card_state_amount_1_by_30     dow  dow_risk  \\\n",
       "0                          30.0                   6.595622  Friday  0.025994   \n",
       "1                          30.0                   6.818594  Friday  0.025994   \n",
       "2                          30.0                   8.987599  Friday  0.025994   \n",
       "3                          30.0                   2.867464  Friday  0.025994   \n",
       "4                          30.0                   6.595622  Friday  0.025994   \n",
       "...                         ...                        ...     ...       ...   \n",
       "96748                      30.0                  30.000000  Friday  0.025994   \n",
       "96749                       7.5                   7.984631  Friday  0.025994   \n",
       "96750                      30.0                  28.622920  Friday  0.025994   \n",
       "96751                      10.0                  14.159990  Friday  0.025994   \n",
       "96752                       5.0                  11.594009  Friday  0.025994   \n",
       "\n",
       "       benford_card  benford_merch  \n",
       "0          2.178008       1.000000  \n",
       "1          1.604857       1.000894  \n",
       "2          2.368143       1.025818  \n",
       "3          1.044105       1.000000  \n",
       "4          2.178008       1.000000  \n",
       "...             ...            ...  \n",
       "96748      1.002393       1.000894  \n",
       "96749      1.137948       1.288057  \n",
       "96750      1.201338       1.106055  \n",
       "96751      1.499767       1.029441  \n",
       "96752      1.233441       1.113448  \n",
       "\n",
       "[96397 rows x 372 columns]"
      ]
     },
     "execution_count": 165,
     "metadata": {},
     "output_type": "execute_result"
    }
   ],
   "source": [
    "new"
   ]
  },
  {
   "cell_type": "code",
   "execution_count": 77,
   "metadata": {
    "ExecuteTime": {
     "end_time": "2021-05-07T12:21:19.456837Z",
     "start_time": "2021-05-07T12:21:19.445838Z"
    }
   },
   "outputs": [],
   "source": [
    "top30=top80.iloc[:,vars_selected]"
   ]
  },
  {
   "cell_type": "code",
   "execution_count": 95,
   "metadata": {
    "ExecuteTime": {
     "end_time": "2021-05-07T12:30:59.414313Z",
     "start_time": "2021-05-07T12:30:59.402929Z"
    }
   },
   "outputs": [
    {
     "data": {
      "text/plain": [
       "Index(['median_amount_card_state_count_1', 'ave_amount_card_state_count_1',\n",
       "       'ave_amount_card_zip_count_7', 'ave_amount_card_zip_count_3',\n",
       "       'ave_amount_card_zip_count_1', 'ave_amount_card_state_count_3',\n",
       "       'ave_amount_card_state_count_30', 'ave_amount_card_zip_count_0',\n",
       "       'ave_amount_card_merchnum_count_1', 'ave_amount_card_state_count_7',\n",
       "       'ave_amount_card_zip_count_30', 'ave_amount_card_zip_count_14',\n",
       "       'ave_amount_card_merchnum_count_3', 'median_amount_card_state_count_0',\n",
       "       'median_amount_card_zip_count_14', 'max_amount_card_state_count_7',\n",
       "       'median_amount_card_merchnum_count_3', 'sum_amount_card_zip_count_0',\n",
       "       'sum_amount_card_zip_count_1', 'median_amount_card_merchnum_count_30',\n",
       "       'ave_amount_Cardnum_count_1', 'ave_amount_Cardnum_count_14',\n",
       "       'ave_amount_Cardnum_count_3', 'ave_amount_Cardnum_count_0',\n",
       "       'ave_amount_Cardnum_count_30', 'sum_amount_card_state_count_0',\n",
       "       'act/median_amount_Merchnum_count_30', 'sum_amount_card_state_count_1',\n",
       "       'act/mean_amount_Merchnum_count_7',\n",
       "       'act/mean_amount_Merchnum_count_30'],\n",
       "      dtype='object')"
      ]
     },
     "execution_count": 95,
     "metadata": {},
     "output_type": "execute_result"
    }
   ],
   "source": [
    "top30.columns"
   ]
  },
  {
   "cell_type": "code",
   "execution_count": 179,
   "metadata": {
    "ExecuteTime": {
     "end_time": "2021-05-09T10:34:16.028599Z",
     "start_time": "2021-05-09T10:34:15.879866Z"
    }
   },
   "outputs": [],
   "source": [
    "topvars = ['Fraud','Date','Merchnum','Cardnum','median_amount_card_state_count_1', 'ave_amount_card_state_count_1',\n",
    "       'ave_amount_card_zip_count_7', 'ave_amount_card_zip_count_3',\n",
    "       'ave_amount_card_zip_count_1', 'ave_amount_card_state_count_3',\n",
    "       'ave_amount_card_state_count_30', 'ave_amount_card_zip_count_0',\n",
    "       'ave_amount_card_merchnum_count_1', 'ave_amount_card_state_count_7',\n",
    "       'ave_amount_card_zip_count_30', 'ave_amount_card_zip_count_14',\n",
    "       'ave_amount_card_merchnum_count_3', 'median_amount_card_state_count_0',\n",
    "       'median_amount_card_zip_count_14', 'max_amount_card_state_count_7',\n",
    "       'median_amount_card_merchnum_count_3', 'sum_amount_card_zip_count_0',\n",
    "       'sum_amount_card_zip_count_1', 'median_amount_card_merchnum_count_30',\n",
    "       'ave_amount_Cardnum_count_1', 'ave_amount_Cardnum_count_14',\n",
    "       'ave_amount_Cardnum_count_3', 'ave_amount_Cardnum_count_0',\n",
    "       'ave_amount_Cardnum_count_30', 'sum_amount_card_state_count_0',\n",
    "       'act/median_amount_Merchnum_count_30', 'sum_amount_card_state_count_1',\n",
    "       'act/mean_amount_Merchnum_count_7',\n",
    "       'act/mean_amount_Merchnum_count_30']\n",
    "new_top = []\n",
    "for element in new.columns:\n",
    "    if element not in topvars:\n",
    "        new_top.append(element)\n",
    "finalvars = new.drop(columns=new_top,axis=1)\n",
    "scaler = StandardScaler()\n",
    "data = scaler.fit_transform(finalvars.iloc[:,4:])"
   ]
  },
  {
   "cell_type": "code",
   "execution_count": 180,
   "metadata": {
    "ExecuteTime": {
     "end_time": "2021-05-09T10:34:18.311164Z",
     "start_time": "2021-05-09T10:34:17.715388Z"
    }
   },
   "outputs": [],
   "source": [
    "finalvars[finalvars.iloc[:,4:].columns] = data"
   ]
  },
  {
   "cell_type": "code",
   "execution_count": 182,
   "metadata": {
    "ExecuteTime": {
     "end_time": "2021-05-09T10:34:51.185114Z",
     "start_time": "2021-05-09T10:34:44.607149Z"
    }
   },
   "outputs": [],
   "source": [
    "finalvars.to_csv('top30.csv')"
   ]
  },
  {
   "cell_type": "code",
   "execution_count": 79,
   "metadata": {
    "ExecuteTime": {
     "end_time": "2021-05-07T12:21:27.866179Z",
     "start_time": "2021-05-07T12:21:27.430746Z"
    }
   },
   "outputs": [
    {
     "name": "stderr",
     "output_type": "stream",
     "text": [
      "/opt/anaconda3/lib/python3.7/site-packages/numpy/core/_methods.py:234: RuntimeWarning: Degrees of freedom <= 0 for slice\n",
      "  keepdims=keepdims)\n",
      "/opt/anaconda3/lib/python3.7/site-packages/numpy/core/_methods.py:226: RuntimeWarning: invalid value encountered in double_scalars\n",
      "  ret = ret.dtype.type(ret / rcount)\n"
     ]
    },
    {
     "data": {
      "image/png": "[encoded data removed]",
      "text/plain": [
       "<Figure size 432x288 with 1 Axes>"
      ]
     },
     "metadata": {
      "needs_background": "light"
     },
     "output_type": "display_data"
    }
   ],
   "source": [
    "from mlxtend.plotting import plot_sequential_feature_selection as plot_sfs\n",
    "import matplotlib.pyplot as plt\n",
    "fig1 = plot_sfs(sfs.get_metric_dict(),\n",
    "                kind = 'std_dev')\n",
    "plt.ylim([.95,1])\n",
    "plt.xlim(0,10)\n",
    "plt.title('Sequential Forward Selection (w, StdDev)')\n",
    "plt.grid()\n",
    "plt.show()"
   ]
  },
  {
   "cell_type": "markdown",
   "metadata": {},
   "source": [
    "### LR"
   ]
  },
  {
   "cell_type": "code",
   "execution_count": null,
   "metadata": {},
   "outputs": [],
   "source": [
    "mydata=pd.read_csv('top30.csv',index_col = 0)\n",
    "test_train = mydata[(mydata['Date']>'2010-01-14')&(mydata['Date']<'2010-09-01')].drop(columns =['Date'])\n",
    "oot = mydata[mydata['Date']>='2010-09-01'].drop(columns =['Date'])\n",
    "X= test_train.drop(['Fraud'],axis=1)\n",
    "y = test_train['Fraud']\n",
    "oot_x=oot.drop(['Fraud'],axis=1)\n",
    "oot_y=oot['Fraud']"
   ]
  },
  {
   "cell_type": "code",
   "execution_count": null,
   "metadata": {},
   "outputs": [],
   "source": [
    "def get_result(X_train,y_train,model):\n",
    "    \n",
    "    result = pd.DataFrame({'predicted':model.predict_proba(X_train)[:,1],'Fraud':y_train})\n",
    "    topRows = int(round(len(y_train)*0.03))\n",
    "    temp = result.sort_values('predicted',ascending=False).head(topRows)\n",
    "    needed=temp.loc[:,'Fraud']\n",
    "    temp2 = result.sort_values('predicted',ascending=True).head(topRows)\n",
    "    needed2=temp2.loc[:,'Fraud']\n",
    "\n",
    "    return max(sum(needed),sum(needed2))/sum(y_train)"
   ]
  },
  {
   "cell_type": "code",
   "execution_count": null,
   "metadata": {},
   "outputs": [],
   "source": [
    "FDR3 = pd.DataFrame()\n",
    "for i in range(10):\n",
    "    X_train, X_test, y_train, y_test = train_test_split(new, y, test_size = 0.40)\n",
    "    scaler = StandardScaler()\n",
    "\n",
    "    X_train_z = scaler.fit_transform(X_train)\n",
    "    X_test_z = scaler.transform(X_test)\n",
    "    oot_x_z = scaler.transform(new_oot_x)\n",
    "    model = LogisticRegression()\n",
    "    model.fit(X_train_z,y_train)\n",
    "\n",
    "    FDR3.loc[i,'trn']=get_result(X_train_z,y_train,model)\n",
    "    FDR3.loc[i,'tst']=get_result(X_test_z,y_test,model)\n",
    "    FDR3.loc[i,'oot']=get_result(oot_x_z,oot_y,model)\n",
    "print(FDR3.mean())\n",
    "result.append([FDR3.mean()])"
   ]
  }
 ],
 "metadata": {
  "colab": {
   "collapsed_sections": [],
   "name": "Data Cleaning.ipynb",
   "provenance": [],
   "toc_visible": true
  },
  "kernelspec": {
   "display_name": "Python 3",
   "language": "python",
   "name": "python3"
  },
  "language_info": {
   "codemirror_mode": {
    "name": "ipython",
    "version": 3
   },
   "file_extension": ".py",
   "mimetype": "text/x-python",
   "name": "python",
   "nbconvert_exporter": "python",
   "pygments_lexer": "ipython3",
   "version": "3.8.5"
  },
  "varInspector": {
   "cols": {
    "lenName": 16,
    "lenType": 16,
    "lenVar": 40
   },
   "kernels_config": {
    "python": {
     "delete_cmd_postfix": "",
     "delete_cmd_prefix": "del ",
     "library": "var_list.py",
     "varRefreshCmd": "print(var_dic_list())"
    },
    "r": {
     "delete_cmd_postfix": ") ",
     "delete_cmd_prefix": "rm(",
     "library": "var_list.r",
     "varRefreshCmd": "cat(var_dic_list()) "
    }
   },
   "types_to_exclude": [
    "module",
    "function",
    "builtin_function_or_method",
    "instance",
    "_Feature"
   ],
   "window_display": false
  }
 },
 "nbformat": 4,
 "nbformat_minor": 1
}
