{
 "cells": [
  {
   "cell_type": "code",
   "execution_count": 1,
   "metadata": {
    "id": "WKUlswIBdC86"
   },
   "outputs": [],
   "source": [
    "import pandas as pd\n",
    "import numpy as np\n",
    "import calendar\n",
    "from timeit import default_timer as timer\n",
    "import datetime as dt\n",
    "from sklearn.model_selection import train_test_split\n",
    "from sklearn.linear_model import LogisticRegression"
   ]
  },
  {
   "cell_type": "code",
   "execution_count": 2,
   "metadata": {
    "id": "IJ5GVeI1df9f"
   },
   "outputs": [],
   "source": [
    "X=pd.read_csv('top30.csv')"
   ]
  },
  {
   "cell_type": "code",
   "execution_count": 4,
   "metadata": {
    "id": "xRempwH1dkce"
   },
   "outputs": [],
   "source": [
    "data=pd.read_excel('card transactions.xlsx')"
   ]
  },
  {
   "cell_type": "code",
   "execution_count": 5,
   "metadata": {
    "id": "V6uZ81nLd1It"
   },
   "outputs": [],
   "source": [
    "y=data[['Fraud','Date']]"
   ]
  },
  {
   "cell_type": "code",
   "execution_count": 6,
   "metadata": {
    "id": "1gmKFENveYb_"
   },
   "outputs": [],
   "source": [
    "X.drop('Unnamed: 0',axis=1,inplace=True)"
   ]
  },
  {
   "cell_type": "code",
   "execution_count": 7,
   "metadata": {
    "id": "1qoTuJvaepuU"
   },
   "outputs": [],
   "source": [
    "X['date']=data['Date']"
   ]
  },
  {
   "cell_type": "code",
   "execution_count": 9,
   "metadata": {
    "id": "gG2Us8egfTT_"
   },
   "outputs": [],
   "source": [
    "oot_x=X[X['date']>='2010-11-01']\n",
    "oot_y=y[y['Date']>='2010-11-01']"
   ]
  },
  {
   "cell_type": "code",
   "execution_count": 10,
   "metadata": {
    "id": "VOFJl_QUewDu"
   },
   "outputs": [],
   "source": [
    "X=X[(X['date']>'2010-01-14') & (X['date']<'2010-10-01')]"
   ]
  },
  {
   "cell_type": "code",
   "execution_count": 11,
   "metadata": {
    "id": "Nqk6q-ZEF_QU"
   },
   "outputs": [],
   "source": [
    "y=y[(y['Date']>'2010-01-14') & (y['Date']<'2010-10-01')]"
   ]
  },
  {
   "cell_type": "code",
   "execution_count": 12,
   "metadata": {
    "id": "F_eCYuqzHesU"
   },
   "outputs": [],
   "source": [
    "y=y.drop('Date',axis=1)\n",
    "X=X.drop('date',axis=1)"
   ]
  },
  {
   "cell_type": "code",
   "execution_count": 13,
   "metadata": {
    "id": "GDg_-bfdFdXd"
   },
   "outputs": [],
   "source": [
    "X_train, X_test, y_train, y_test = train_test_split(X, y, test_size = 0.25,random_state = 1)"
   ]
  },
  {
   "cell_type": "code",
   "execution_count": 14,
   "metadata": {
    "id": "v0UIw10SPdHM"
   },
   "outputs": [],
   "source": [
    "from sklearn.preprocessing import MinMaxScaler\n",
    "mms = MinMaxScaler()\n",
    "X_train = mms.fit_transform(X_train)"
   ]
  },
  {
   "cell_type": "markdown",
   "metadata": {
    "id": "pJgSMvt3Gmq0"
   },
   "source": [
    "## Neural Net"
   ]
  },
  {
   "cell_type": "code",
   "execution_count": null,
   "metadata": {},
   "outputs": [],
   "source": [
    "from sklearn.neural_network import MLPClassifier\n",
    "FDR3=pd.DataFrame()\n",
    "for i in range(10):\n",
    "    X_train, X_test, y_train, y_test = train_test_split(X, y, test_size = 0.25)\n",
    "    model = MLPClassifier(n_iter_no_change=50,hidden_layer_sizes=(40,40))\n",
    "    \n",
    "    model.fit(X_train,y_train)\n",
    "    \n",
    "    predictions=model.predict_proba(X_train)[:,1]\n",
    "    X_train['predicted']=predictions\n",
    "    X_train['Fraud']=y_train['Fraud']\n",
    "    topRows = int(round(len(X_train)*0.03))\n",
    "    temp = X_train.sort_values('predicted',ascending=False).head(topRows)\n",
    "    needed=temp.loc[:,'Fraud']\n",
    "    FDR3.loc[i,'trn']=sum(needed)/sum(X_train.loc[:,'Fraud'])\n",
    "    \n",
    "    predictions=model.predict_proba(X_test)[:,1]\n",
    "    X_test['predicted']=predictions\n",
    "    X_test['Fraud']=y_test['Fraud']\n",
    "    topRows = int(round(len(X_test)*0.03))\n",
    "    temp = X_test.sort_values('predicted',ascending=False).head(topRows)\n",
    "    needed=temp.loc[:,'Fraud']\n",
    "    FDR3.loc[i,'tst']=sum(needed)/sum(X_test.loc[:,'Fraud'])\n",
    "    \n",
    "    predictions=model.predict_proba(oot_x)[:,1]\n",
    "    oot_x['predicted']=predictions\n",
    "    oot_x['Fraud']=oot_y['Fraud']\n",
    "    topRows = int(round(len(oot_x)*0.03))\n",
    "    temp = oot_x.sort_values('predicted',ascending=False).head(topRows)\n",
    "    needed=temp.loc[:,'Fraud']\n",
    "    FDR3.loc[i,'tst']=sum(needed)/sum(oot_x.loc[:,'Fraud'])\n",
    "    \n",
    "    print(i,FDR3.loc[i,'trn'],FDR3.loc[i,'tst'],FDR3.loc[i,'tst'])"
   ]
  }
 ],
 "metadata": {
  "colab": {
   "collapsed_sections": [],
   "name": "project3 NeuralNet.ipynb",
   "provenance": [],
   "toc_visible": true
  },
  "kernelspec": {
   "display_name": "Python 3",
   "language": "python",
   "name": "python3"
  },
  "language_info": {
   "codemirror_mode": {
    "name": "ipython",
    "version": 3
   },
   "file_extension": ".py",
   "mimetype": "text/x-python",
   "name": "python",
   "nbconvert_exporter": "python",
   "pygments_lexer": "ipython3",
   "version": "3.8.5"
  },
  "varInspector": {
   "cols": {
    "lenName": 16,
    "lenType": 16,
    "lenVar": 40
   },
   "kernels_config": {
    "python": {
     "delete_cmd_postfix": "",
     "delete_cmd_prefix": "del ",
     "library": "var_list.py",
     "varRefreshCmd": "print(var_dic_list())"
    },
    "r": {
     "delete_cmd_postfix": ") ",
     "delete_cmd_prefix": "rm(",
     "library": "var_list.r",
     "varRefreshCmd": "cat(var_dic_list()) "
    }
   },
   "types_to_exclude": [
    "module",
    "function",
    "builtin_function_or_method",
    "instance",
    "_Feature"
   ],
   "window_display": false
  }
 },
 "nbformat": 4,
 "nbformat_minor": 1
}
