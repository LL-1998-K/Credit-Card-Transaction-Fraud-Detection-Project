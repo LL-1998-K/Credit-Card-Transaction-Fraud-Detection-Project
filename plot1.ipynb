{
 "cells": [
  {
   "cell_type": "code",
   "execution_count": 1,
   "metadata": {},
   "outputs": [],
   "source": [
    "import pandas as pd\n",
    "import matplotlib.pyplot as plt"
   ]
  },
  {
   "cell_type": "code",
   "execution_count": 2,
   "metadata": {},
   "outputs": [],
   "source": [
    "data=pd.read_excel('model stats.xlsx')"
   ]
  },
  {
   "cell_type": "code",
   "execution_count": 3,
   "metadata": {},
   "outputs": [
    {
     "data": {
      "text/html": [
       "<div>\n",
       "<style scoped>\n",
       "    .dataframe tbody tr th:only-of-type {\n",
       "        vertical-align: middle;\n",
       "    }\n",
       "\n",
       "    .dataframe tbody tr th {\n",
       "        vertical-align: top;\n",
       "    }\n",
       "\n",
       "    .dataframe thead th {\n",
       "        text-align: right;\n",
       "    }\n",
       "</style>\n",
       "<table border=\"1\" class=\"dataframe\">\n",
       "  <thead>\n",
       "    <tr style=\"text-align: right;\">\n",
       "      <th></th>\n",
       "      <th>Population Bin%</th>\n",
       "      <th># Records</th>\n",
       "      <th># Goods</th>\n",
       "      <th># Bads</th>\n",
       "      <th>% Goods</th>\n",
       "      <th>% Bads</th>\n",
       "      <th>Total Records</th>\n",
       "      <th>Cumulative Goods</th>\n",
       "      <th>Cumulative Bads</th>\n",
       "      <th>% Good</th>\n",
       "      <th>% Bads (FDR)</th>\n",
       "      <th>KS</th>\n",
       "      <th>FPR</th>\n",
       "    </tr>\n",
       "  </thead>\n",
       "  <tbody>\n",
       "    <tr>\n",
       "      <th>0</th>\n",
       "      <td>1</td>\n",
       "      <td>273</td>\n",
       "      <td>87</td>\n",
       "      <td>186</td>\n",
       "      <td>0.318681</td>\n",
       "      <td>0.681319</td>\n",
       "      <td>273</td>\n",
       "      <td>87</td>\n",
       "      <td>186</td>\n",
       "      <td>0.003223</td>\n",
       "      <td>0.522472</td>\n",
       "      <td>51.924909</td>\n",
       "      <td>0.467742</td>\n",
       "    </tr>\n",
       "    <tr>\n",
       "      <th>1</th>\n",
       "      <td>2</td>\n",
       "      <td>274</td>\n",
       "      <td>221</td>\n",
       "      <td>53</td>\n",
       "      <td>0.806569</td>\n",
       "      <td>0.193431</td>\n",
       "      <td>547</td>\n",
       "      <td>308</td>\n",
       "      <td>239</td>\n",
       "      <td>0.011410</td>\n",
       "      <td>0.671348</td>\n",
       "      <td>65.993879</td>\n",
       "      <td>1.288703</td>\n",
       "    </tr>\n",
       "    <tr>\n",
       "      <th>2</th>\n",
       "      <td>3</td>\n",
       "      <td>273</td>\n",
       "      <td>253</td>\n",
       "      <td>20</td>\n",
       "      <td>0.926740</td>\n",
       "      <td>0.073260</td>\n",
       "      <td>820</td>\n",
       "      <td>561</td>\n",
       "      <td>259</td>\n",
       "      <td>0.020782</td>\n",
       "      <td>0.727528</td>\n",
       "      <td>70.674646</td>\n",
       "      <td>2.166023</td>\n",
       "    </tr>\n",
       "    <tr>\n",
       "      <th>3</th>\n",
       "      <td>4</td>\n",
       "      <td>274</td>\n",
       "      <td>238</td>\n",
       "      <td>36</td>\n",
       "      <td>0.868613</td>\n",
       "      <td>0.131387</td>\n",
       "      <td>1094</td>\n",
       "      <td>799</td>\n",
       "      <td>295</td>\n",
       "      <td>0.029598</td>\n",
       "      <td>0.828652</td>\n",
       "      <td>79.905361</td>\n",
       "      <td>2.708475</td>\n",
       "    </tr>\n",
       "    <tr>\n",
       "      <th>4</th>\n",
       "      <td>5</td>\n",
       "      <td>273</td>\n",
       "      <td>271</td>\n",
       "      <td>2</td>\n",
       "      <td>0.992674</td>\n",
       "      <td>0.007326</td>\n",
       "      <td>1367</td>\n",
       "      <td>1070</td>\n",
       "      <td>297</td>\n",
       "      <td>0.039637</td>\n",
       "      <td>0.834270</td>\n",
       "      <td>79.463269</td>\n",
       "      <td>3.602694</td>\n",
       "    </tr>\n",
       "  </tbody>\n",
       "</table>\n",
       "</div>"
      ],
      "text/plain": [
       "   Population Bin%  # Records  # Goods  # Bads   % Goods    % Bads  \\\n",
       "0                1        273       87     186  0.318681  0.681319   \n",
       "1                2        274      221      53  0.806569  0.193431   \n",
       "2                3        273      253      20  0.926740  0.073260   \n",
       "3                4        274      238      36  0.868613  0.131387   \n",
       "4                5        273      271       2  0.992674  0.007326   \n",
       "\n",
       "   Total Records  Cumulative Goods  Cumulative Bads    % Good  % Bads (FDR)  \\\n",
       "0            273                87              186  0.003223      0.522472   \n",
       "1            547               308              239  0.011410      0.671348   \n",
       "2            820               561              259  0.020782      0.727528   \n",
       "3           1094               799              295  0.029598      0.828652   \n",
       "4           1367              1070              297  0.039637      0.834270   \n",
       "\n",
       "          KS       FPR  \n",
       "0  51.924909  0.467742  \n",
       "1  65.993879  1.288703  \n",
       "2  70.674646  2.166023  \n",
       "3  79.905361  2.708475  \n",
       "4  79.463269  3.602694  "
      ]
     },
     "execution_count": 3,
     "metadata": {},
     "output_type": "execute_result"
    }
   ],
   "source": [
    "data.head()"
   ]
  },
  {
   "cell_type": "code",
   "execution_count": 4,
   "metadata": {},
   "outputs": [],
   "source": [
    "data['Fraud Savings']=data['Cumulative Bads']*2000\n",
    "data['Loss Sales']=data['Cumulative Goods']*50\n",
    "data['Overall Savings']=data['Fraud Savings']-data['Loss Sales']"
   ]
  },
  {
   "cell_type": "code",
   "execution_count": 5,
   "metadata": {},
   "outputs": [
    {
     "data": {
      "image/png": "[encoded data removed]",
      "text/plain": [
       "<Figure size 432x288 with 1 Axes>"
      ]
     },
     "metadata": {
      "needs_background": "light"
     },
     "output_type": "display_data"
    }
   ],
   "source": [
    "x = data['Population Bin%']\n",
    "plt.plot(x,data['Fraud Savings'],label='Fraud Savings')\n",
    "plt.plot(x,data['Loss Sales'],label='Loss Sales')\n",
    "plt.plot(x,data['Overall Savings'],label='Overall Savings')\n",
    "plt.xlabel('OOT Population % bins')\n",
    "plt.legend(loc='center right')\n",
    "plt.text(0.5,0.5,'We recommend a score cutoff at 4%')\n",
    "plt.show()"
   ]
  },
  {
   "cell_type": "code",
   "execution_count": 6,
   "metadata": {},
   "outputs": [
    {
     "data": {
      "text/plain": [
       "550050"
      ]
     },
     "execution_count": 6,
     "metadata": {},
     "output_type": "execute_result"
    }
   ],
   "source": [
    "data['Overall Savings'].max()"
   ]
  },
  {
   "cell_type": "code",
   "execution_count": 7,
   "metadata": {},
   "outputs": [],
   "source": [
    "df=pd.read_excel('card transactions.xlsx')"
   ]
  },
  {
   "cell_type": "code",
   "execution_count": 9,
   "metadata": {},
   "outputs": [],
   "source": [
    "card=df[(df['Date']>='2010-11-17') & (df['Date']<='2010-12-01')]"
   ]
  }
 ],
 "metadata": {
  "kernelspec": {
   "display_name": "Python 3",
   "language": "python",
   "name": "python3"
  },
  "language_info": {
   "codemirror_mode": {
    "name": "ipython",
    "version": 3
   },
   "file_extension": ".py",
   "mimetype": "text/x-python",
   "name": "python",
   "nbconvert_exporter": "python",
   "pygments_lexer": "ipython3",
   "version": "3.8.3"
  }
 },
 "nbformat": 4,
 "nbformat_minor": 4
}
